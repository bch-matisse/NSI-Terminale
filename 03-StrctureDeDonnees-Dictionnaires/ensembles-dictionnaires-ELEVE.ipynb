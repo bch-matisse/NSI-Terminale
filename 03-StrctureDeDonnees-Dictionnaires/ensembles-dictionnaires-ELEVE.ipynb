{
 "cells": [
  {
   "cell_type": "markdown",
   "metadata": {},
   "source": [
    "# 1.Les ensembles (set)\n",
    "\n",
    "Un ensemble en python (***set***) est une structure pouvant contenir plusieurs données, mais contrairement aux listes, ces données sont uniques et non ordonnées. Il n'y a pas de moyen d'accéder à une donnée en particulier en utilisant son numéro d'index.\n",
    "\n",
    "Les ensembles sont par contre extrèmement efficaces pour la recherche d'un élément : Contrairement aux listes dans lesquelles une recherche impose de parcourir tous les éléments, les ensembles utilisent des techniques d'optimisation (table de hachage) rendant la recherche très performante.\n",
    "\n",
    "Voici quelques illustrations de l'utilisation des ***set***"
   ]
  },
  {
   "cell_type": "code",
   "execution_count": null,
   "metadata": {},
   "outputs": [],
   "source": [
    "# créer un un ensemble\n",
    "\n",
    "ensemble = {1,5,9,5,1,2,4}\n",
    "print(ensemble)"
   ]
  },
  {
   "cell_type": "markdown",
   "metadata": {},
   "source": [
    "Comme on peut le voir, les éléments en doubles dans *ensemble* ont été éliminés et l'ordre affiché n'est pas celui dans lequel les éléments ont été saisis."
   ]
  },
  {
   "cell_type": "code",
   "execution_count": null,
   "metadata": {},
   "outputs": [],
   "source": [
    "# essayons quelque chose...\n",
    "\n",
    "print(ensemble[3])"
   ]
  },
  {
   "cell_type": "markdown",
   "metadata": {},
   "source": [
    "l'accès aux éléments par indice comme pour les listes n'est pas possible, cela n'a tout simpliement pas de sens.\n",
    "\n",
    "## Conversion list $\\iff $ set"
   ]
  },
  {
   "cell_type": "code",
   "execution_count": null,
   "metadata": {},
   "outputs": [],
   "source": [
    "liste = [1,5,9,5,1,2,4]\n",
    "ensemble = set(liste)\n",
    "print(ensemble)"
   ]
  },
  {
   "cell_type": "code",
   "execution_count": null,
   "metadata": {},
   "outputs": [],
   "source": [
    "ensemble = {1, 9, 5, 4, 2}\n",
    "liste = list(ensemble)\n",
    "print(liste)"
   ]
  },
  {
   "cell_type": "markdown",
   "metadata": {},
   "source": [
    "## Méthodes sur les ensembles\n",
    "\n",
    "### ajout et retrait : add et remove"
   ]
  },
  {
   "cell_type": "code",
   "execution_count": null,
   "metadata": {},
   "outputs": [],
   "source": [
    "ensemble = {1, 9, 5, 4, 2}\n",
    "ensemble.add(18)\n",
    "ensemble.remove(9)\n",
    "print(ensemble)"
   ]
  },
  {
   "cell_type": "markdown",
   "metadata": {},
   "source": [
    "> Attention de bien tester si un élément est dans l'ensemble avant la suppression car sinon..."
   ]
  },
  {
   "cell_type": "code",
   "execution_count": null,
   "metadata": {},
   "outputs": [],
   "source": [
    "ensemble.remove(3)"
   ]
  },
  {
   "cell_type": "markdown",
   "metadata": {},
   "source": [
    "et du coup ...\n",
    "### Tester si un élément est présent dans un ensemble : in"
   ]
  },
  {
   "cell_type": "code",
   "execution_count": null,
   "metadata": {},
   "outputs": [],
   "source": [
    "print(ensemble)\n",
    "print(3 in ensemble)\n",
    "print(18 in ensemble)"
   ]
  },
  {
   "cell_type": "markdown",
   "metadata": {},
   "source": [
    "### Longueur et ensemble vide\n"
   ]
  },
  {
   "cell_type": "code",
   "execution_count": null,
   "metadata": {},
   "outputs": [],
   "source": [
    "vide = set()\n",
    "vide.add(3)\n",
    "vide.remove(3)\n",
    "\n",
    "# Calculer le nb d'éléments d'un ensemble\n",
    "len(vide)"
   ]
  },
  {
   "cell_type": "markdown",
   "metadata": {},
   "source": [
    "### Exercice 1\n",
    "1. Créer une fonction **ensembleCarres** prenant en paramètre un entier $n$ e renvoyant un ensemble contenant les carrés des entiers de 1 à $n$\n"
   ]
  },
  {
   "cell_type": "code",
   "execution_count": null,
   "metadata": {},
   "outputs": [],
   "source": [
    "#votre code ici (ça tient en une ligne !)\n",
    "def ensembleCarres(n):\n",
    "    raise NotImplementedError()"
   ]
  },
  {
   "cell_type": "code",
   "execution_count": null,
   "metadata": {},
   "outputs": [],
   "source": [
    "ec = ensembleCarres(10)\n",
    "assert len(ec)==10\n",
    "assert 64 in ec"
   ]
  },
  {
   "cell_type": "markdown",
   "metadata": {},
   "source": [
    "2. Créez une liste l de carrés jusqu'à un million.\n",
    "3. Créez un ensemble s de carrés jusqu'à un million.\n",
    "4. Recherchez si  874466246641  est un carré"
   ]
  },
  {
   "cell_type": "code",
   "execution_count": null,
   "metadata": {},
   "outputs": [],
   "source": [
    "ec = ensembleCarres(1000000)\n",
    "liste = list(ec)"
   ]
  },
  {
   "cell_type": "code",
   "execution_count": null,
   "metadata": {},
   "outputs": [],
   "source": [
    "%%time\n",
    "assert 874466246641 in ensembleCarres(1000000)"
   ]
  },
  {
   "cell_type": "code",
   "execution_count": null,
   "metadata": {},
   "outputs": [],
   "source": [
    "%%time\n",
    "assert 874466246641 in list(ensembleCarres(1000000))"
   ]
  },
  {
   "cell_type": "markdown",
   "metadata": {},
   "source": [
    "### quelques autres méthodes sur les set\n",
    "\n",
    "    s.isdisjoint(s2)\n",
    "    s.issubset(s2)\n",
    "    s.issuperset(s2)\n",
    "    s <= s2 : inclusion (pareil avec s >= s2).\n",
    "    s < s2 : inclusion stricte (pareil avec s >= s2).\n",
    "    set.union(s1, s2, s3) : renvoie la réunion de plusieurs sets.\n",
    "    set.intersection(s1, s2, s3) : renvoie l'intersection de plusieurs sets"
   ]
  },
  {
   "cell_type": "markdown",
   "metadata": {},
   "source": [
    "### Exercice 2 : le paradoxe des anniversaires"
   ]
  },
  {
   "cell_type": "markdown",
   "metadata": {},
   "source": [
    "Dans une classe, quelle est la probabilité pour que 2 élèves fêtent leurs anniversaires le même jour? Avec 365 jours par an, une trentaine d'élèves dans la classe, on se dit qu'elle doit être faible...\n",
    "\n",
    "1. Ecrire une fonction qui retourne une date d'anniversaire tirée au hasard sous la forme \"jour-mois\"\n",
    "2. Ecrire une fonction qui simule une classe de N élèves de NSI, et qui retourne \"True\" si tous les élèves ont une date d'anniversaire différente (on pourra vérifier que l'*ensemble* des dates d'anniversaire contient bien exactement N valeurs)\n",
    "3. Réaliser une simulation sur 1000 classes de 24 élèves, quelle est la probabilité que les 24 élèves aient tous une date d'anniversaire différents ?\n",
    "4. En réalisant des simulations de 1000 classes, présenter la probabilité que les N élèves aient tous une date d'anniversaire différents, pour N allant de 1 à 35."
   ]
  },
  {
   "cell_type": "code",
   "execution_count": null,
   "metadata": {},
   "outputs": [],
   "source": [
    "import random\n",
    "\n",
    "\n",
    "# votre code ici...\n"
   ]
  },
  {
   "cell_type": "markdown",
   "metadata": {},
   "source": [
    "Exemple de résultat attendu\n",
    "``` \n",
    "1 --> 0.0 %\n",
    "2 --> 0.5 %\n",
    "3 --> 0.5 %\n",
    "...\n",
    "32 --> 72.6 %\n",
    "...\n",
    "```"
   ]
  },
  {
   "cell_type": "markdown",
   "metadata": {},
   "source": [
    "# 2. Les dictionnaires\n"
   ]
  },
  {
   "cell_type": "markdown",
   "metadata": {},
   "source": [
    "## Rappels sur les dictionnaires\n",
    "\n",
    "Dans cette partie, nous allons fabriquer un carnet d'adresse pour stocker des contacts. \n",
    "\n",
    "### Fabrication d'un contact \n",
    "\n",
    "Chaque contact sera un dictionnaire dont les clés seront :\n",
    "- `nom` : Nom et prénom du contact\n",
    "- `tel` : N° de téléphone\n",
    "- `rue` : adresse complète\n",
    "- `code` : code postal\n",
    "- `ville` : ville\n",
    "- `naissance` : date de naissance\n",
    "\n",
    "Créez un dictionnaire nommé `contact` correspondant au contact suivant :\n",
    "> Margaret Costa-Royer<br/>\n",
    "> 08 06 18 37 28<br/>\n",
    "> 93, avenue Bruneau<br/>\n",
    "> 13749 Perrot"
   ]
  },
  {
   "cell_type": "code",
   "execution_count": null,
   "metadata": {},
   "outputs": [],
   "source": [
    "# YOUR CODE HERE\n",
    "raise NotImplementedError()"
   ]
  },
  {
   "cell_type": "code",
   "execution_count": null,
   "metadata": {},
   "outputs": [],
   "source": [
    "# Vérification\n",
    "assert contact[\"nom\"] == \"Margaret Costa-Royer\"\n",
    "assert contact[\"tel\"] == \"08 06 18 37 28\"\n",
    "assert contact[\"ville\"] == \"Perrot\""
   ]
  },
  {
   "cell_type": "markdown",
   "metadata": {},
   "source": [
    "Ajouter une nouvelle entrée \"passwd\" dans le contact ayant pour valeur 's75JWikE&o'"
   ]
  },
  {
   "cell_type": "code",
   "execution_count": null,
   "metadata": {},
   "outputs": [],
   "source": [
    "# YOUR CODE HERE\n",
    "raise NotImplementedError()"
   ]
  },
  {
   "cell_type": "code",
   "execution_count": null,
   "metadata": {},
   "outputs": [],
   "source": [
    "# Vérification\n",
    "assert contact[\"passwd\"] == 's75JWikE&o'"
   ]
  },
  {
   "cell_type": "markdown",
   "metadata": {},
   "source": [
    "### Génération automatique d'un contact\n",
    "\n",
    "Ecrire une fonction `genere_contact()`\n",
    "- qui ne prend aucun paramètre\n",
    "- qui renvoie un dictionnaire possédant les mêmes clés que le contact ci-dessus, y compris \"passwd\""
   ]
  },
  {
   "cell_type": "code",
   "execution_count": null,
   "metadata": {},
   "outputs": [],
   "source": [
    "# YOUR CODE HERE\n",
    "raise NotImplementedError()"
   ]
  },
  {
   "cell_type": "code",
   "execution_count": null,
   "metadata": {},
   "outputs": [],
   "source": [
    "# Vérification\n",
    "contact1 = genere_contact()\n",
    "assert type(contact1[\"nom\"]) == str\n",
    "assert \"city\" in contact1"
   ]
  },
  {
   "cell_type": "markdown",
   "metadata": {},
   "source": [
    "## Mise en pratique\n",
    "\n",
    "### Fabrication du carnet d'adresse\n",
    "\n",
    "Tout est à présent en place pour que nous puissions fabriquer notre carnet d'adresse.\n",
    "\n",
    "#### Première implémentation\n",
    "\n",
    "Dans une première approche, nous allons considérer que le carnet d'adresse sera une liste de contacts, chaque contact étant un dictionnaire dont la structure a été définie à la section précédente.\n",
    "\n",
    "Fabriquez une fonction `genere_carnet1`\n",
    "- prenant en paramètre le nombre `n` de contacts à générer\n",
    "- renvoyant une **liste** de `n` contacts générés aléatoirement."
   ]
  },
  {
   "cell_type": "markdown",
   "metadata": {},
   "source": [
    "Si vous avez la chance de travailler sous colab, ou bien de pouvoir ajouter de nouvelles librairies à votre environnement Jupyuter (donc pas avec Edupython au Lycée, mais chez vous ça devrait fonctionner de la même manière...) on pourra utiliser le module faker de python dont un exemple d'utilisation est donné dans la cellule ci-dessous.\n",
    "\n",
    "* Remarque: il faut commencer par demander à colab l'installation ```!pip install faker``` d'un nouveau module. Ce n'est pas ici une commande Python, mais à destination du serveur Jupyter...* "
   ]
  },
  {
   "cell_type": "code",
   "execution_count": null,
   "metadata": {},
   "outputs": [],
   "source": [
    "!pip install faker"
   ]
  },
  {
   "cell_type": "code",
   "execution_count": null,
   "metadata": {},
   "outputs": [],
   "source": [
    "from faker import Faker\n",
    "\n",
    "fake = Faker(\"fr_FR\") # Générateur de données personnelles pour un français\n",
    "\n",
    "print(fake.name())\n",
    "print(fake.phone_number())\n",
    "print(fake.street_address())\n",
    "print(fake.postcode(), fake.city())\n",
    "print(fake.password())"
   ]
  },
  {
   "cell_type": "code",
   "execution_count": null,
   "metadata": {},
   "outputs": [],
   "source": [
    "def genere_carnet1(n):\n",
    "    \"\"\"Renvoie une liste de n contacts aléatoires\"\"\"\n",
    "    # YOUR CODE HERE\n",
    "    raise NotImplementedError()"
   ]
  },
  {
   "cell_type": "code",
   "execution_count": null,
   "metadata": {},
   "outputs": [],
   "source": [
    "# vérification\n",
    "\n",
    "carnet1 = genere_carnet1(10)\n",
    "assert type(carnet1) == list\n",
    "assert \"nom\" in carnet1[3]"
   ]
  },
  {
   "cell_type": "markdown",
   "metadata": {},
   "source": [
    "Ecrire à présent une fonction `est_present`\n",
    "- prenant 2 paramètres : un nom et un carnet d'adresse\n",
    "- renvoyant `True` si le nom figure dans le carnet d'adresse, `False` sinon"
   ]
  },
  {
   "cell_type": "code",
   "execution_count": null,
   "metadata": {},
   "outputs": [],
   "source": [
    "def est_present(nom, carnet):\n",
    "    \"\"\"Teste si nom est présent dans le carnet d'adresse\"\"\"\n",
    "    # YOUR CODE HERE\n",
    "    raise NotImplementedError()"
   ]
  },
  {
   "cell_type": "code",
   "execution_count": null,
   "metadata": {},
   "outputs": [],
   "source": [
    "# Vérification\n",
    "carnet1 = genere_carnet1(10)\n",
    "nom = carnet1[-1][\"nom\"]\n",
    "assert est_present(nom, carnet1)\n",
    "assert not est_present(\"Lecluse Olivier\", carnet1)"
   ]
  },
  {
   "cell_type": "markdown",
   "metadata": {},
   "source": [
    "#### Mesure de performance de la recherche\n",
    "\n",
    "Nous allons regarder ici comment évolue la vitesse de recherche en fonciton de la taille du carnet d'adresse. On utilisera pour cela la fonction magique de *jupyter* : `%%timeit`.\n",
    "Etudiez la cellule suivante :"
   ]
  },
  {
   "cell_type": "code",
   "execution_count": null,
   "metadata": {},
   "outputs": [],
   "source": [
    "# Fabrication d'un carnet de 100 contacts\n",
    "carnet1 = genere_carnet1(100)\n",
    "nom = carnet1[-1][\"nom\"]  # On récupère un nom du carnet\n",
    "print(nom)"
   ]
  },
  {
   "cell_type": "code",
   "execution_count": null,
   "metadata": {},
   "outputs": [],
   "source": [
    "%%timeit\n",
    "\n",
    "# On mesure le temps d'une recherche\n",
    "est_present(nom, carnet1) "
   ]
  },
  {
   "cell_type": "markdown",
   "metadata": {},
   "source": [
    "Vous lisez sous la cellule le temps de recherche.\n",
    "\n",
    "A présent, on refait l'expérience pour 1000 contacts dans le carnet d'adresse."
   ]
  },
  {
   "cell_type": "code",
   "execution_count": null,
   "metadata": {},
   "outputs": [],
   "source": [
    "carnet1 = genere_carnet1(1000)\n",
    "nom = carnet1[-1][\"nom\"]  # On récupère un nom du carnet\n",
    "print(nom)"
   ]
  },
  {
   "cell_type": "code",
   "execution_count": null,
   "metadata": {},
   "outputs": [],
   "source": [
    "%%timeit\n",
    "\n",
    "# On mesure le temps d'une recherche dans ce carnet\n",
    "print(est_present(nom, carnet1))"
   ]
  },
  {
   "cell_type": "markdown",
   "metadata": {},
   "source": [
    "#### Seconde implémentation, plus efficace !\n",
    "\n",
    "Vous devez avoir constaté ci-dessus que le temps de recherche est proportionnel à la taille du carnet d'adresse : si celui-ci contient 10 fois plus de contact, la recherche peut être jusqu'à 10 fois plus longue.\n",
    "\n",
    "Nous allons changer d'approche et fabriquer un carnet d'adresse sous forme d'un dictionnaire dont les clés seront les **noms** et les valeurs seront les fiches contacts. Ainsi notre carnet d'adresse sera un dictionnaire dont les valeurs seront des dictionnaires !\n",
    "\n",
    "Fabriquez une fonction `genere_carnet2`\n",
    "- prenant en paramètre le nombre n de contacts à générer\n",
    "- renvoyant un **dictionnaire** de `n` contacts générés aléatoirement"
   ]
  },
  {
   "cell_type": "code",
   "execution_count": null,
   "metadata": {},
   "outputs": [],
   "source": [
    "def genere_carnet2(n):\n",
    "    \"\"\"Renvoie un dictionnaire de n contacts aléatoires\"\"\"\n",
    "    # YOUR CODE HERE\n",
    "    raise NotImplementedError()"
   ]
  },
  {
   "cell_type": "code",
   "execution_count": null,
   "metadata": {},
   "outputs": [],
   "source": [
    "# Vérification\n",
    "carnet2 = genere_carnet2(10)\n",
    "assert type(carnet2) == dict\n",
    "nom = list(carnet2.keys())[-1]\n",
    "assert type(carnet2[nom]) == dict"
   ]
  },
  {
   "cell_type": "markdown",
   "metadata": {},
   "source": [
    "#### Mesure de performance de la recherche\n",
    "\n",
    "Nous allons regarder pour cette nouvelle implémentation comment évolue la vitesse de recherche en fonction de la taille du carnet d'adresse. Validez les 2 cellules suivantes."
   ]
  },
  {
   "cell_type": "code",
   "execution_count": null,
   "metadata": {},
   "outputs": [],
   "source": [
    "# Fabrication d'un carnet de 100 contacts\n",
    "carnet2 = genere_carnet2(100)\n",
    "nom = list(carnet2.keys())[-1] # On récupère un nom du carnet\n",
    "print(nom)"
   ]
  },
  {
   "cell_type": "code",
   "execution_count": null,
   "metadata": {},
   "outputs": [],
   "source": [
    "%%timeit\n",
    "\n",
    "print(nom in carnet2)                 # On le recherche"
   ]
  },
  {
   "cell_type": "markdown",
   "metadata": {},
   "source": [
    "On constate déjà que la recherche est plus rapide que pour la première implémentation du carnet à l'aide d'un tableau.\n",
    "\n",
    "Refaisons l'expérience avec 100 fois plus de contacts dans le carnet !!"
   ]
  },
  {
   "cell_type": "code",
   "execution_count": null,
   "metadata": {},
   "outputs": [],
   "source": [
    "# Fabrication d'un carnet de 10000 contacts\n",
    "carnet2 = genere_carnet2(10000)\n",
    "nom = list(carnet2.keys())[-1] # On récupère un nom du carnet\n",
    "print(nom)"
   ]
  },
  {
   "cell_type": "code",
   "execution_count": null,
   "metadata": {},
   "outputs": [],
   "source": [
    "%%timeit\n",
    "\n",
    "print(nom in carnet2)           # On le recherche"
   ]
  },
  {
   "cell_type": "markdown",
   "metadata": {},
   "source": [
    "## Conclusion\n",
    "\n",
    "Vous le constatez d'après les expériences ci-dessus : le temps de recherche dans le dictionnaire est pratiquement indépendant du nombre d'entrées dans ce dictionnaires, car en multipliant le nombre de contacts par 100, le temps est resté pratiquement identique alors que dans le cas de la recherche dans un tableau, celui-ci est proportionnel à la longueur du tableau.\n",
    "\n",
    "Le dictionnaire est donc une structure de données optimisée pour la recherche sur les clés."
   ]
  },
  {
   "cell_type": "code",
   "execution_count": null,
   "metadata": {},
   "outputs": [],
   "source": []
  }
 ],
 "metadata": {
  "kernelspec": {
   "display_name": "Python 3",
   "language": "python",
   "name": "python3"
  },
  "language_info": {
   "codemirror_mode": {
    "name": "ipython",
    "version": 3
   },
   "file_extension": ".py",
   "mimetype": "text/x-python",
   "name": "python",
   "nbconvert_exporter": "python",
   "pygments_lexer": "ipython3",
   "version": "3.7.4"
  }
 },
 "nbformat": 4,
 "nbformat_minor": 2
}
