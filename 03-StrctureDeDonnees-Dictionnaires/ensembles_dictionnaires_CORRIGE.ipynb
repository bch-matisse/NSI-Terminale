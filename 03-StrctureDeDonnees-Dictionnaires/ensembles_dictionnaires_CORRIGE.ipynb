{
  "nbformat": 4,
  "nbformat_minor": 0,
  "metadata": {
    "kernelspec": {
      "display_name": "Python 3",
      "language": "python",
      "name": "python3"
    },
    "language_info": {
      "codemirror_mode": {
        "name": "ipython",
        "version": 3
      },
      "file_extension": ".py",
      "mimetype": "text/x-python",
      "name": "python",
      "nbconvert_exporter": "python",
      "pygments_lexer": "ipython3",
      "version": "3.7.4"
    },
    "colab": {
      "name": "ensembles-dictionnaires-ELEVE.ipynb",
      "provenance": [],
      "collapsed_sections": []
    }
  },
  "cells": [
    {
      "cell_type": "markdown",
      "metadata": {
        "id": "cAzZMOtKTGBW"
      },
      "source": [
        "# 1.Les ensembles (set)\n",
        "\n",
        "Un ensemble en python (***set***) est une structure pouvant contenir plusieurs données, mais contrairement aux listes, ces données sont uniques et non ordonnées. Il n'y a pas de moyen d'accéder à une donnée en particulier en utilisant son numéro d'index.\n",
        "\n",
        "Les ensembles sont par contre extrèmement efficaces pour la recherche d'un élément : Contrairement aux listes dans lesquelles une recherche impose de parcourir tous les éléments, les ensembles utilisent des techniques d'optimisation (table de hachage) rendant la recherche très performante.\n",
        "\n",
        "Voici quelques illustrations de l'utilisation des ***set***"
      ]
    },
    {
      "cell_type": "code",
      "metadata": {
        "id": "emPcJV4vTGBY",
        "outputId": "66c41f44-a9f9-4b48-b5e1-4b50b690ad36",
        "colab": {
          "base_uri": "https://localhost:8080/",
          "height": 34
        }
      },
      "source": [
        "# créer un un ensemble\n",
        "\n",
        "ensemble = {1,5,9,5,1,2,4}\n",
        "print(ensemble)"
      ],
      "execution_count": 4,
      "outputs": [
        {
          "output_type": "stream",
          "text": [
            "{1, 2, 4, 5, 9}\n"
          ],
          "name": "stdout"
        }
      ]
    },
    {
      "cell_type": "markdown",
      "metadata": {
        "id": "MswMjqzUTGBd"
      },
      "source": [
        "Comme on peut le voir, les éléments en doubles dans *ensemble* ont été éliminés et l'ordre affiché n'est pas celui dans lequel les éléments ont été saisis."
      ]
    },
    {
      "cell_type": "code",
      "metadata": {
        "id": "Elc2BC5DTGBe",
        "outputId": "03b70b86-df00-46c8-b1e0-775b9ecf97f1",
        "colab": {
          "base_uri": "https://localhost:8080/",
          "height": 197
        }
      },
      "source": [
        "# essayons quelque chose...\n",
        "\n",
        "ensemble[3]"
      ],
      "execution_count": 5,
      "outputs": [
        {
          "output_type": "error",
          "ename": "TypeError",
          "evalue": "ignored",
          "traceback": [
            "\u001b[0;31m---------------------------------------------------------------------------\u001b[0m",
            "\u001b[0;31mTypeError\u001b[0m                                 Traceback (most recent call last)",
            "\u001b[0;32m<ipython-input-5-4285087c05da>\u001b[0m in \u001b[0;36m<module>\u001b[0;34m()\u001b[0m\n\u001b[1;32m      1\u001b[0m \u001b[0;31m# essayons quelque chose...\u001b[0m\u001b[0;34m\u001b[0m\u001b[0;34m\u001b[0m\u001b[0;34m\u001b[0m\u001b[0m\n\u001b[1;32m      2\u001b[0m \u001b[0;34m\u001b[0m\u001b[0m\n\u001b[0;32m----> 3\u001b[0;31m \u001b[0mensemble\u001b[0m\u001b[0;34m[\u001b[0m\u001b[0;36m3\u001b[0m\u001b[0;34m]\u001b[0m\u001b[0;34m\u001b[0m\u001b[0;34m\u001b[0m\u001b[0m\n\u001b[0m",
            "\u001b[0;31mTypeError\u001b[0m: 'set' object does not support indexing"
          ]
        }
      ]
    },
    {
      "cell_type": "markdown",
      "metadata": {
        "id": "TKNOBskMTGBi"
      },
      "source": [
        "l'accès aux éléments par indice comme pour les listes n'est pas possible, cela n'a tout simpliement pas de sens.\n",
        "\n",
        "## Conversion list $\\iff $ set"
      ]
    },
    {
      "cell_type": "code",
      "metadata": {
        "id": "QmaNbf3aTGBj",
        "outputId": "cc8fd5dc-43e7-43c6-c716-2bd249f29515",
        "colab": {
          "base_uri": "https://localhost:8080/",
          "height": 34
        }
      },
      "source": [
        "liste = [1,5,9,5,1,2,4]\n",
        "ensemble = set(liste)\n",
        "print(ensemble)"
      ],
      "execution_count": 6,
      "outputs": [
        {
          "output_type": "execute_result",
          "data": {
            "text/plain": [
              "{1, 2, 4, 5, 9}"
            ]
          },
          "metadata": {
            "tags": []
          },
          "execution_count": 6
        }
      ]
    },
    {
      "cell_type": "code",
      "metadata": {
        "id": "JeNtFKDITGBn",
        "outputId": "f37fed11-c95a-4bfc-90fa-7abb3b97eb05",
        "colab": {
          "base_uri": "https://localhost:8080/",
          "height": 34
        }
      },
      "source": [
        "ensemble = {1, 9, 5, 4, 2}\n",
        "liste = list(ensemble)\n",
        "liste"
      ],
      "execution_count": 7,
      "outputs": [
        {
          "output_type": "execute_result",
          "data": {
            "text/plain": [
              "[1, 2, 4, 5, 9]"
            ]
          },
          "metadata": {
            "tags": []
          },
          "execution_count": 7
        }
      ]
    },
    {
      "cell_type": "markdown",
      "metadata": {
        "id": "esUASnvBTGBr"
      },
      "source": [
        "## Méthodes sur les ensembles\n",
        "\n",
        "### ajout et retrait : add et remove"
      ]
    },
    {
      "cell_type": "code",
      "metadata": {
        "id": "gWC_4oZpTGBr",
        "outputId": "2c8aa196-5d26-4ba8-bf2d-0c0271699e6b",
        "colab": {
          "base_uri": "https://localhost:8080/",
          "height": 34
        }
      },
      "source": [
        "ensemble = {1, 9, 5, 4, 2}\n",
        "ensemble.add(18)\n",
        "ensemble.remove(9)\n",
        "print(ensemble)"
      ],
      "execution_count": 8,
      "outputs": [
        {
          "output_type": "stream",
          "text": [
            "{1, 2, 4, 5, 18}\n"
          ],
          "name": "stdout"
        }
      ]
    },
    {
      "cell_type": "markdown",
      "metadata": {
        "id": "2jW9f5mYTGBv"
      },
      "source": [
        "> Attention de bien tester si un élément est dans l'ensemble avant la suppression car sinon..."
      ]
    },
    {
      "cell_type": "code",
      "metadata": {
        "id": "35NV5YC_TGBw",
        "outputId": "36250718-d2ec-4a99-bc9c-8d2f2450440f",
        "colab": {
          "base_uri": "https://localhost:8080/",
          "height": 163
        }
      },
      "source": [
        "ensemble.remove(3)"
      ],
      "execution_count": 9,
      "outputs": [
        {
          "output_type": "error",
          "ename": "KeyError",
          "evalue": "ignored",
          "traceback": [
            "\u001b[0;31m---------------------------------------------------------------------------\u001b[0m",
            "\u001b[0;31mKeyError\u001b[0m                                  Traceback (most recent call last)",
            "\u001b[0;32m<ipython-input-9-2fbd2c55dbdb>\u001b[0m in \u001b[0;36m<module>\u001b[0;34m()\u001b[0m\n\u001b[0;32m----> 1\u001b[0;31m \u001b[0mensemble\u001b[0m\u001b[0;34m.\u001b[0m\u001b[0mremove\u001b[0m\u001b[0;34m(\u001b[0m\u001b[0;36m3\u001b[0m\u001b[0;34m)\u001b[0m\u001b[0;34m\u001b[0m\u001b[0;34m\u001b[0m\u001b[0m\n\u001b[0m",
            "\u001b[0;31mKeyError\u001b[0m: 3"
          ]
        }
      ]
    },
    {
      "cell_type": "markdown",
      "metadata": {
        "id": "qoLon92qTGB1"
      },
      "source": [
        "et du coup ...\n",
        "### Tester si un élément est présent dans un ensemble : in"
      ]
    },
    {
      "cell_type": "code",
      "metadata": {
        "id": "x0CBV1SjTGB2",
        "outputId": "f0b5ec83-095b-4b63-ede0-5f7d839c2246",
        "colab": {
          "base_uri": "https://localhost:8080/",
          "height": 68
        }
      },
      "source": [
        "print(ensemble)\n",
        "print(3 in ensemble)\n",
        "print(18 in ensemble)"
      ],
      "execution_count": 10,
      "outputs": [
        {
          "output_type": "stream",
          "text": [
            "{1, 2, 4, 5, 18}\n",
            "False\n",
            "True\n"
          ],
          "name": "stdout"
        }
      ]
    },
    {
      "cell_type": "markdown",
      "metadata": {
        "id": "YBp7AYHiTGB6"
      },
      "source": [
        "### Longueur et ensemble vide\n"
      ]
    },
    {
      "cell_type": "code",
      "metadata": {
        "id": "zCkmu9QUTGB6",
        "outputId": "02e61b62-0aaf-4cc8-b947-b2101b4ef9f9",
        "colab": {
          "base_uri": "https://localhost:8080/",
          "height": 34
        }
      },
      "source": [
        "vide = set()\n",
        "vide.add(3)\n",
        "vide.remove(3)\n",
        "\n",
        "# Calculer le nb d'éléments d'un ensemble\n",
        "len(vide)"
      ],
      "execution_count": 11,
      "outputs": [
        {
          "output_type": "execute_result",
          "data": {
            "text/plain": [
              "0"
            ]
          },
          "metadata": {
            "tags": []
          },
          "execution_count": 11
        }
      ]
    },
    {
      "cell_type": "markdown",
      "metadata": {
        "id": "zHbSbW72TGB-"
      },
      "source": [
        "### Exercice 1\n",
        "1. Créer une fonction **ensembleCarres** prenant en paramètre un entier $n$ e renvoyant un ensemble contenant les carrés des entiers de 1 à $n$\n"
      ]
    },
    {
      "cell_type": "code",
      "metadata": {
        "id": "ICHdRy9FTGCA"
      },
      "source": [
        "def ensembleCarres(n):\n",
        "    return {i**2 for i in range(1,n+1)}"
      ],
      "execution_count": 12,
      "outputs": []
    },
    {
      "cell_type": "code",
      "metadata": {
        "id": "V5FIsEwATGCD"
      },
      "source": [
        "ec = ensembleCarres(10)\n",
        "assert len(ec)==10\n",
        "assert 64 in ec"
      ],
      "execution_count": 13,
      "outputs": []
    },
    {
      "cell_type": "markdown",
      "metadata": {
        "id": "pl0tXN4CTGCH"
      },
      "source": [
        "2. Créez une liste l de carrés jusqu'à un million.\n",
        "3. Créez un ensemble s de carrés jusqu'à un million.\n",
        "4. Recherchez si  874466246641  est un carré"
      ]
    },
    {
      "cell_type": "code",
      "metadata": {
        "id": "X3_OVuPvTGCI"
      },
      "source": [
        "ec = ensembleCarres(1000000)\n",
        "liste = list(ec)\n",
        "\n"
      ],
      "execution_count": 14,
      "outputs": []
    },
    {
      "cell_type": "code",
      "metadata": {
        "id": "kmM5y5CLTGCL",
        "outputId": "1e1eda4d-43a4-4a7f-d4ab-2731bc8d7a75",
        "colab": {
          "base_uri": "https://localhost:8080/",
          "height": 51
        }
      },
      "source": [
        "%%time\n",
        "assert 874466246641 in ensembleCarres(1000000)"
      ],
      "execution_count": 15,
      "outputs": [
        {
          "output_type": "stream",
          "text": [
            "CPU times: user 502 ms, sys: 48.6 ms, total: 550 ms\n",
            "Wall time: 554 ms\n"
          ],
          "name": "stdout"
        }
      ]
    },
    {
      "cell_type": "code",
      "metadata": {
        "id": "BCPa63BjTGCO",
        "outputId": "feaa1d56-1d3c-4b63-cf3a-9db4ae9e8845",
        "colab": {
          "base_uri": "https://localhost:8080/",
          "height": 51
        }
      },
      "source": [
        "%%time\n",
        "assert 874466246641 in list(ensembleCarres(1000000))"
      ],
      "execution_count": 16,
      "outputs": [
        {
          "output_type": "stream",
          "text": [
            "CPU times: user 611 ms, sys: 12.8 ms, total: 624 ms\n",
            "Wall time: 625 ms\n"
          ],
          "name": "stdout"
        }
      ]
    },
    {
      "cell_type": "markdown",
      "metadata": {
        "id": "fNDt2pisTGCQ"
      },
      "source": [
        "### quelques autres méthodes sur les set\n",
        "\n",
        "    s.isdisjoint(s2)\n",
        "    s.issubset(s2)\n",
        "    s.issuperset(s2)\n",
        "    s <= s2 : inclusion (pareil avec s >= s2).\n",
        "    s < s2 : inclusion stricte (pareil avec s >= s2).\n",
        "    set.union(s1, s2, s3) : renvoie la réunion de plusieurs sets.\n",
        "    set.intersection(s1, s2, s3) : renvoie l'intersection de plusieurs sets"
      ]
    },
    {
      "cell_type": "markdown",
      "metadata": {
        "id": "5Q6GeDzvTGCR"
      },
      "source": [
        "### Exercice 2 : le paradoxe des anniversaires"
      ]
    },
    {
      "cell_type": "markdown",
      "metadata": {
        "id": "3xiM2BrRTGCS"
      },
      "source": [
        "Dans une classe, quelle est la probabilité pour que 2 élèves fêtent leurs anniversaires le même jour? Avec 365 jours par an, une trentaine d'élèves dans la classe, on se dit qu'elle doit être faible...\n",
        "\n",
        "1. Ecrire une fonction qui retourne une date d'anniversaire tirée au hasard sous la forme \"jour-mois\"\n",
        "2. Ecrire une fonction qui simule une classe de N élèves de NSI, et qui retourne \"True\" si tous les élèves ont une date d'anniversaire différente (on pourra vérifier que l'*ensemble* des dates d'anniversaire contient bien exactement N valeurs)\n",
        "3. Réaliser une simulation sur 1000 classes de 24 élèves, quelle est la probabilité que les 24 élèves aient tous une date d'anniversaire différents ?\n",
        "4. En réalisant des simulations de 1000 classes, présenter la probabilité que les N élèves aient tous une date d'anniversaire différents, pour N allant de 1 à 35."
      ]
    },
    {
      "cell_type": "code",
      "metadata": {
        "id": "zeTYXC2zTGCS",
        "outputId": "c9165ef3-204f-48b5-e5c6-274ed84af4a0",
        "colab": {
          "base_uri": "https://localhost:8080/",
          "height": 612
        }
      },
      "source": [
        "import random\n",
        "\n",
        "def anniv():\n",
        "    jour = random.randint(1, 31)\n",
        "    mois = random.randint(1,12)\n",
        "    return str(jour)+\"-\"+str(mois)\n",
        "\n",
        "def classe(taille):\n",
        "    ensemble = set()\n",
        "    for i in range(taille):\n",
        "        date = anniv()\n",
        "        if (date in ensemble):\n",
        "            return False\n",
        "        ensemble.add(date)\n",
        "    return True\n",
        "    \n",
        "\n",
        "def simulation(N):\n",
        "    nbr = 0\n",
        "    for i in range(1000):\n",
        "        if (classe(N) == False):\n",
        "            nbr = nbr + 1\n",
        "    return nbr / 1000\n",
        "\n",
        "for i in range(1, 36):\n",
        "    print(i,\"-->\", simulation(i)*100,\"%\")\n"
      ],
      "execution_count": 17,
      "outputs": [
        {
          "output_type": "stream",
          "text": [
            "1 --> 0.0 %\n",
            "2 --> 0.0 %\n",
            "3 --> 0.6 %\n",
            "4 --> 1.4000000000000001 %\n",
            "5 --> 1.6 %\n",
            "6 --> 4.5 %\n",
            "7 --> 5.800000000000001 %\n",
            "8 --> 7.9 %\n",
            "9 --> 9.6 %\n",
            "10 --> 12.2 %\n",
            "11 --> 13.8 %\n",
            "12 --> 16.900000000000002 %\n",
            "13 --> 17.299999999999997 %\n",
            "14 --> 21.8 %\n",
            "15 --> 25.3 %\n",
            "16 --> 27.1 %\n",
            "17 --> 30.2 %\n",
            "18 --> 32.4 %\n",
            "19 --> 37.8 %\n",
            "20 --> 43.3 %\n",
            "21 --> 42.9 %\n",
            "22 --> 46.6 %\n",
            "23 --> 49.4 %\n",
            "24 --> 55.1 %\n",
            "25 --> 56.599999999999994 %\n",
            "26 --> 59.699999999999996 %\n",
            "27 --> 64.5 %\n",
            "28 --> 66.2 %\n",
            "29 --> 67.4 %\n",
            "30 --> 70.89999999999999 %\n",
            "31 --> 71.5 %\n",
            "32 --> 74.0 %\n",
            "33 --> 77.10000000000001 %\n",
            "34 --> 79.0 %\n",
            "35 --> 79.3 %\n"
          ],
          "name": "stdout"
        }
      ]
    },
    {
      "cell_type": "markdown",
      "metadata": {
        "id": "t7Fhw5IZTGCV"
      },
      "source": [
        "# 2. Les dictionnaires\n"
      ]
    },
    {
      "cell_type": "markdown",
      "metadata": {
        "id": "2CgYNHYUTGCW"
      },
      "source": [
        "## Rappels sur les dictionnaires\n",
        "\n",
        "Dans cette partie, nous allons fabriquer un carnet d'adresse pour stocker des contacts. \n",
        "\n",
        "### Fabrication d'un contact \n",
        "\n",
        "Chaque contact sera un dictionnaire dont les clés seront :\n",
        "- `nom` : Nom et prénom du contact\n",
        "- `tel` : N° de téléphone\n",
        "- `rue` : adresse complète\n",
        "- `code` : code postal\n",
        "- `ville` : ville\n",
        "- `naissance` : date de naissance\n",
        "\n",
        "Créez un dictionnaire nommé `contact` correspondant au contact suivant :\n",
        "> Margaret Costa-Royer<br/>\n",
        "> 08 06 18 37 28<br/>\n",
        "> 93, avenue Bruneau<br/>\n",
        "> 13749 Perrot"
      ]
    },
    {
      "cell_type": "code",
      "metadata": {
        "id": "bkhseb3oTGCW"
      },
      "source": [
        "contact = {\"nom\":\"Margaret Costa-Royer\", \n",
        "           \"tel\":\"08 06 18 37 28\", \n",
        "           \"rue\":\"93, avenue Bruneau\", \n",
        "           \"code\":\"13749\", \n",
        "           \"ville\":\"Perrot\", \n",
        "           \"naisance\":\"\"}\n",
        "# raise NotImplementedError()"
      ],
      "execution_count": null,
      "outputs": []
    },
    {
      "cell_type": "code",
      "metadata": {
        "id": "fveh-JaBTGCa"
      },
      "source": [
        "# Vérification\n",
        "assert contact[\"nom\"] == \"Margaret Costa-Royer\"\n",
        "assert contact[\"tel\"] == \"08 06 18 37 28\"\n",
        "assert contact[\"ville\"] == \"Perrot\""
      ],
      "execution_count": null,
      "outputs": []
    },
    {
      "cell_type": "markdown",
      "metadata": {
        "id": "IvVbBMllTGCd"
      },
      "source": [
        "Ajouter une nouvelle entrée \"passwd\" dans le contact ayant pour valeur 's75JWikE&o'"
      ]
    },
    {
      "cell_type": "code",
      "metadata": {
        "id": "OrJvIMkzTGCd"
      },
      "source": [
        "contact[\"passwd\"] = \"s75JWikE&o\"\n",
        "# YOUR CODE HERE\n",
        "# raise NotImplementedError()"
      ],
      "execution_count": null,
      "outputs": []
    },
    {
      "cell_type": "code",
      "metadata": {
        "id": "-XFMtmB7TGCg"
      },
      "source": [
        "# Vérification\n",
        "assert contact[\"passwd\"] == 's75JWikE&o'"
      ],
      "execution_count": null,
      "outputs": []
    },
    {
      "cell_type": "markdown",
      "metadata": {
        "id": "UNAhhNp5TGCi"
      },
      "source": [
        "### Génération automatique d'un contact\n",
        "\n",
        "Ecrire une fonction `genere_contact()`\n",
        "- qui ne prend aucun paramètre\n",
        "- qui renvoie un dictionnaire possédant les mêmes clés que le contact ci-dessus, y compris \"passwd\""
      ]
    },
    {
      "cell_type": "markdown",
      "metadata": {
        "id": "wDJNrfxWTM_q"
      },
      "source": [
        "On pourra utiliser le module faker de python dont un exemple d'utilisation est donné dans la cellile ci-dessous."
      ]
    },
    {
      "cell_type": "code",
      "metadata": {
        "id": "axPlBNovTNfd",
        "outputId": "d95e8a64-379d-4a2c-e750-fb4dbedb6a76",
        "colab": {
          "base_uri": "https://localhost:8080/",
          "height": 153
        }
      },
      "source": [
        "!pip install faker"
      ],
      "execution_count": 2,
      "outputs": [
        {
          "output_type": "stream",
          "text": [
            "Collecting faker\n",
            "\u001b[?25l  Downloading https://files.pythonhosted.org/packages/9d/3c/4fc4a53a24c0ae040616815eb18e73b00832d2eb9275da3837c8345c68a6/Faker-4.1.3-py3-none-any.whl (1.0MB)\n",
            "\u001b[K     |████████████████████████████████| 1.0MB 2.8MB/s \n",
            "\u001b[?25hRequirement already satisfied: python-dateutil>=2.4 in /usr/local/lib/python3.6/dist-packages (from faker) (2.8.1)\n",
            "Requirement already satisfied: text-unidecode==1.3 in /usr/local/lib/python3.6/dist-packages (from faker) (1.3)\n",
            "Requirement already satisfied: six>=1.5 in /usr/local/lib/python3.6/dist-packages (from python-dateutil>=2.4->faker) (1.15.0)\n",
            "Installing collected packages: faker\n",
            "Successfully installed faker-4.1.3\n"
          ],
          "name": "stdout"
        }
      ]
    },
    {
      "cell_type": "code",
      "metadata": {
        "id": "UC1jHjlRTOAC",
        "outputId": "f2188c01-7398-4878-f0b0-fbf91912f1be",
        "colab": {
          "base_uri": "https://localhost:8080/",
          "height": 102
        }
      },
      "source": [
        "from faker import Faker\n",
        "\n",
        "fake = Faker(\"fr_FR\") # Générateur de données personnelles pour un français\n",
        "\n",
        "print(fake.name())\n",
        "print(fake.phone_number())\n",
        "print(fake.street_address())\n",
        "print(fake.postcode(), fake.city())\n",
        "print(fake.password())"
      ],
      "execution_count": 3,
      "outputs": [
        {
          "output_type": "stream",
          "text": [
            "Jeanne Labbe\n",
            "02 17 61 76 17\n",
            "78, boulevard Voisin\n",
            "94618 Sainte BenjaminBourg\n",
            "%jar1$Hb^7\n"
          ],
          "name": "stdout"
        }
      ]
    },
    {
      "cell_type": "code",
      "metadata": {
        "id": "F9HHMMYMTGCj"
      },
      "source": [
        "from faker import Faker\n",
        "import random\n",
        "fake = Faker(\"fr_FR\") # Générateur de données personnelles pour un français\n",
        "\n",
        "def genere_contact(): \n",
        "    global fake\n",
        "    contact = {\"nom\":fake.name(), \n",
        "           \"tel\":fake.phone_number(), \n",
        "           \"rue\":fake.street_address(), \n",
        "           \"code\":fake.postcode(), \n",
        "           \"ville\": fake.city(), \n",
        "           \"naisance\": str(random.randint(1960,2000)),\n",
        "           \"passwd\": fake.password()}\n",
        "    return contact\n",
        "    # YOUR CODE HERE\n",
        "    # raise NotImplementedError()"
      ],
      "execution_count": 21,
      "outputs": []
    },
    {
      "cell_type": "code",
      "metadata": {
        "id": "TTjeVhwTTGCl"
      },
      "source": [
        "contact1 = genere_contact()\n",
        "assert type(contact1[\"nom\"]) == str\n",
        "assert \"ville\" in contact1"
      ],
      "execution_count": 22,
      "outputs": []
    },
    {
      "cell_type": "markdown",
      "metadata": {
        "id": "9Dm2MUpdTGCp"
      },
      "source": [
        "## Mise en pratique\n",
        "\n",
        "### Fabrication du carnet d'adresse\n",
        "\n",
        "Tout est à présent en place pour que nous puissions fabriquer notre carnet d'adresse.\n",
        "\n",
        "#### Première implémentation\n",
        "\n",
        "Dans une première approche, nous allons considérer que le carnet d'adresse sera une liste de contacts, chaque contact étant un dictionnaire dont la structure a été définie à la section précédente.\n",
        "\n",
        "Fabriquez une fonction `genere_carnet1`\n",
        "- prenant en paramètre le nombre `n` de contacts à générer\n",
        "- renvoyant une **liste** de `n` contacts générés aléatoirement."
      ]
    },
    {
      "cell_type": "code",
      "metadata": {
        "id": "mVC4LiCbTGCp"
      },
      "source": [
        "def genere_carnet1(n):\n",
        "    \"\"\"Renvoie une liste de n contacts aléatoires\"\"\"\n",
        "    contacts = []\n",
        "    for i in range(n):\n",
        "      contacts.append(genere_contact())\n",
        "    return contacts\n",
        "    # YOUR CODE HERE\n",
        "    # raise NotImplementedError()"
      ],
      "execution_count": 24,
      "outputs": []
    },
    {
      "cell_type": "code",
      "metadata": {
        "id": "RR03gqwDTGCs"
      },
      "source": [
        "# vérification\n",
        "\n",
        "carnet1 = genere_carnet1(10)\n",
        "assert type(carnet1) == list\n",
        "assert \"nom\" in carnet1[3]"
      ],
      "execution_count": 25,
      "outputs": []
    },
    {
      "cell_type": "markdown",
      "metadata": {
        "id": "vgWuTuxXTGCv"
      },
      "source": [
        "Ecrire à présent une fonction `est_present`\n",
        "- prenant 2 paramètres : un nom et un carnet d'adresse\n",
        "- renvoyant `True` si le nom figure dans le carnet d'adresse, `False` sinon"
      ]
    },
    {
      "cell_type": "code",
      "metadata": {
        "id": "O8PulL3cTGCw"
      },
      "source": [
        "def est_present(nom, carnet):\n",
        "    \"\"\"Teste si nom est présent dans le carnet d'adresse\"\"\"\n",
        "    for contact in carnet:\n",
        "      if contact[\"nom\"] == nom:\n",
        "        return True\n",
        "    return False\n",
        "    # YOUR CODE HERE\n",
        "    #raise NotImplementedError()"
      ],
      "execution_count": 29,
      "outputs": []
    },
    {
      "cell_type": "code",
      "metadata": {
        "id": "bF94k22yTGCy"
      },
      "source": [
        "# Vérification\n",
        "\n",
        "carnet1 = genere_carnet1(10)\n",
        "nom = carnet1[-1][\"nom\"]\n",
        "assert est_present(nom, carnet1)\n",
        "assert not est_present(\"Lecluse Olivier\", carnet1)"
      ],
      "execution_count": 30,
      "outputs": []
    },
    {
      "cell_type": "markdown",
      "metadata": {
        "id": "sKMlvy9JTGC1"
      },
      "source": [
        "#### Mesure de performance de la recherche\n",
        "\n",
        "Nous allons regarder ici comment évolue la vitesse de recherche en fonciton de la taille du carnet d'adresse. On utilisera pour cela la fonction magique de *jupyter* : `%%timeit`.\n",
        "Etudiez la cellule suivante :"
      ]
    },
    {
      "cell_type": "code",
      "metadata": {
        "id": "J9Ee31_zTGC1",
        "outputId": "a68bd49b-1855-4d3b-8990-7a9e90cf2dcd",
        "colab": {
          "base_uri": "https://localhost:8080/",
          "height": 34
        }
      },
      "source": [
        "# Fabrication d'un carnet de 100 contacts\n",
        "carnet1 = genere_carnet1(100)\n",
        "nom = carnet1[-1][\"nom\"]  # On récupère un nom du carnet\n",
        "print(nom)"
      ],
      "execution_count": 31,
      "outputs": [
        {
          "output_type": "stream",
          "text": [
            "Roland Barbier\n"
          ],
          "name": "stdout"
        }
      ]
    },
    {
      "cell_type": "code",
      "metadata": {
        "id": "LJXcCQzNTGC4",
        "outputId": "7931bc38-fb6a-40af-ecf3-7de8a1b858ec",
        "colab": {
          "base_uri": "https://localhost:8080/",
          "height": 51
        }
      },
      "source": [
        "%%timeit\n",
        "\n",
        "# On mesure le temps d'une recherche\n",
        "est_present(nom, carnet1) "
      ],
      "execution_count": 32,
      "outputs": [
        {
          "output_type": "stream",
          "text": [
            "The slowest run took 4.02 times longer than the fastest. This could mean that an intermediate result is being cached.\n",
            "100000 loops, best of 3: 4.74 µs per loop\n"
          ],
          "name": "stdout"
        }
      ]
    },
    {
      "cell_type": "markdown",
      "metadata": {
        "id": "UEapYmMiTGC7"
      },
      "source": [
        "Vous lisez sous la cellule le temps de recherche.\n",
        "\n",
        "A présent, on refait l'expérience pour 1000 contacts dans le carnet d'adresse."
      ]
    },
    {
      "cell_type": "code",
      "metadata": {
        "id": "dgmjZFulTGC8",
        "outputId": "50036dd8-285f-45a0-c708-2f57a3151633",
        "colab": {
          "base_uri": "https://localhost:8080/",
          "height": 34
        }
      },
      "source": [
        "carnet1 = genere_carnet1(1000)\n",
        "nom = carnet1[-1][\"nom\"]  # On récupère un nom du carnet\n",
        "print(nom)"
      ],
      "execution_count": 33,
      "outputs": [
        {
          "output_type": "stream",
          "text": [
            "Marcel Brunel\n"
          ],
          "name": "stdout"
        }
      ]
    },
    {
      "cell_type": "code",
      "metadata": {
        "id": "wJISHk4BTGC_",
        "outputId": "1c4ba394-b638-4ffe-f929-5de2b6d7d00d",
        "colab": {
          "base_uri": "https://localhost:8080/",
          "height": 34
        }
      },
      "source": [
        "%%timeit\n",
        "\n",
        "# On mesure le temps d'une recherche dans ce carnet\n",
        "est_present(nom, carnet1)"
      ],
      "execution_count": 34,
      "outputs": [
        {
          "output_type": "stream",
          "text": [
            "10000 loops, best of 3: 46.7 µs per loop\n"
          ],
          "name": "stdout"
        }
      ]
    },
    {
      "cell_type": "markdown",
      "metadata": {
        "id": "C3cG0SAbTGDE"
      },
      "source": [
        "#### Seconde implémentation\n",
        "\n",
        "Vous devez avoir constaté ci-dessus que le temps de recherche est proportionnel à la taille du carnet d'adresse : si celui-ci contient 10 fois plus de contact, la recherche peut être jusqu'à 10 fois plus longue.\n",
        "\n",
        "Nous allons changer d'approche et fabriquer un carnet d'adresse sous forme d'un dictionnaire dont les clés seront les **noms** et les valeurs seront les fiches contacts. Ainsi notre carnet d'adresse sera un dictionnaire dont les valeurs seront des dictionnaires !\n",
        "\n",
        "Fabriquez une fonction `genere_carnet2`\n",
        "- prenant en paramètre le nombre n de contacts à générer\n",
        "- renvoyant un **dictionnaire** de `n` contacts générés aléatoirement"
      ]
    },
    {
      "cell_type": "code",
      "metadata": {
        "id": "v4h5SRZ_TGDE"
      },
      "source": [
        "def genere_carnet2(n):\n",
        "    \"\"\"Renvoie un dictionnaire de n contacts aléatoires\"\"\"\n",
        "    contacts = {}\n",
        "    for i in range(n):\n",
        "      nouveau = genere_contact()\n",
        "      contacts[nouveau[\"nom\"]] = nouveau\n",
        "    return contacts\n",
        "    # YOUR CODE HERE\n",
        "    raise NotImplementedError()"
      ],
      "execution_count": 35,
      "outputs": []
    },
    {
      "cell_type": "code",
      "metadata": {
        "id": "AdVpd7odTGDH"
      },
      "source": [
        "# Vérification\n",
        "\n",
        "carnet2 = genere_carnet2(10)\n",
        "assert type(carnet2) == dict\n",
        "nom = list(carnet2.keys())[-1]\n",
        "assert type(carnet2[nom]) == dict"
      ],
      "execution_count": 37,
      "outputs": []
    },
    {
      "cell_type": "markdown",
      "metadata": {
        "id": "RbtbBOAtTGDJ"
      },
      "source": [
        "#### Mesure de performance de la recherche\n",
        "\n",
        "Nous allons regarder pour cette nouvelle implémentation comment évolue la vitesse de recherche en fonction de la taille du carnet d'adresse. Validez les 2 cellules suivantes."
      ]
    },
    {
      "cell_type": "code",
      "metadata": {
        "id": "jVL5fgnuTGDK",
        "outputId": "9d03e050-be77-4b0d-f1a5-28ca45bac176",
        "colab": {
          "base_uri": "https://localhost:8080/",
          "height": 34
        }
      },
      "source": [
        "# Fabrication d'un carnet de 100 contacts\n",
        "carnet2 = genere_carnet2(100)\n",
        "nom = list(carnet2.keys())[-1] # On récupère un nom du carnet\n",
        "print(nom)"
      ],
      "execution_count": 38,
      "outputs": [
        {
          "output_type": "stream",
          "text": [
            "Renée du Germain\n"
          ],
          "name": "stdout"
        }
      ]
    },
    {
      "cell_type": "code",
      "metadata": {
        "id": "KwwtWTbNTGDN",
        "outputId": "ceae8cc0-c81f-4ae4-fbbb-ee293433beb3",
        "colab": {
          "base_uri": "https://localhost:8080/",
          "height": 51
        }
      },
      "source": [
        "%%timeit\n",
        "\n",
        "nom in carnet2                 # On le recherche"
      ],
      "execution_count": 39,
      "outputs": [
        {
          "output_type": "stream",
          "text": [
            "The slowest run took 23.30 times longer than the fastest. This could mean that an intermediate result is being cached.\n",
            "10000000 loops, best of 3: 47.6 ns per loop\n"
          ],
          "name": "stdout"
        }
      ]
    },
    {
      "cell_type": "markdown",
      "metadata": {
        "id": "I_vDvmBnTGDQ"
      },
      "source": [
        "On constate déjà que la recherche est plus rapide que pour la première implémentation du carnet à l'aide d'un tableau.\n",
        "\n",
        "Refaisons l'expérience avec 100 fois plus de contacts dans le carnet !!"
      ]
    },
    {
      "cell_type": "code",
      "metadata": {
        "id": "i9RrcO9oTGDQ",
        "outputId": "280b8b19-f9f2-4ba3-cdd8-128d7413aa29",
        "colab": {
          "base_uri": "https://localhost:8080/",
          "height": 34
        }
      },
      "source": [
        "# Fabrication d'un carnet de 10000 contacts\n",
        "carnet2 = genere_carnet2(10000)\n",
        "nom = list(carnet2.keys())[-1] # On récupère un nom du carnet\n",
        "print(nom)"
      ],
      "execution_count": 40,
      "outputs": [
        {
          "output_type": "stream",
          "text": [
            "Gérard Caron\n"
          ],
          "name": "stdout"
        }
      ]
    },
    {
      "cell_type": "code",
      "metadata": {
        "id": "f3rmIbcGTGDT",
        "outputId": "1e198b56-db25-4c66-dad1-6be80935e1d5",
        "colab": {
          "base_uri": "https://localhost:8080/",
          "height": 51
        }
      },
      "source": [
        "%%timeit\n",
        "\n",
        "nom in carnet2           # On le recherche"
      ],
      "execution_count": 41,
      "outputs": [
        {
          "output_type": "stream",
          "text": [
            "The slowest run took 35.96 times longer than the fastest. This could mean that an intermediate result is being cached.\n",
            "10000000 loops, best of 3: 44.8 ns per loop\n"
          ],
          "name": "stdout"
        }
      ]
    },
    {
      "cell_type": "markdown",
      "metadata": {
        "id": "oVnLlNuUTGDV"
      },
      "source": [
        "## Conclusion\n",
        "\n",
        "Vous le constatez d'après les expériences ci-dessus : le temps de recherche dans le dictionnaire est pratiquement indépendant du nombre d'entrées dans ce dictionnaires, car en multipliant le nombre de contacts par 100, le temps est resté pratiquement identique alors que dans le cas de la recherche dans un tableau, celui-ci est proportionnel à la longueur du tableau.\n",
        "\n",
        "Le dictionnaire est donc une structure de données optimisée pour la recherche sur les clés."
      ]
    },
    {
      "cell_type": "code",
      "metadata": {
        "id": "jNVOllKgTGDV"
      },
      "source": [
        ""
      ],
      "execution_count": null,
      "outputs": []
    }
  ]
}