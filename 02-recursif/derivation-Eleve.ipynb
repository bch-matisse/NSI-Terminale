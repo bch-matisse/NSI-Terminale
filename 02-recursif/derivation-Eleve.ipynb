{
 "cells": [
  {
   "cell_type": "markdown",
   "metadata": {},
   "source": [
    "# Un traçeur de fonctions dérivées (ceci n'est pas un TP de Maths)\n",
    "En mathématiques, la dérivée d'une fonction d'une variable réelle mesure l'ampleur du changement de la valeur de la fonction (valeur de sortie) par rapport à un petit changement de son argument (valeur d'entrée). Les calculs de dérivées sont un outil fondamental du calcul infinitésimal. Par exemple, la dérivée de la position d'un objet en mouvement par rapport au temps est la vitesse (instantanée) de l'objet.\n",
    "\n",
    "## Rappel : la fonction dérivée en 45 secondes\n",
    "\n",
    "Si $f$ est une fonction d'une variable réelle, on commence par considérer le **taux d'accroissement** entre deux points $x_0$ et $x_0 + h$  (il dépend de $h$ !): \n",
    "$$\\Delta_{x_0}(h) = \\frac{f(x_0 + h) - f(x_0}{h})$$\n",
    "![Taux d'accroissement](https://e.educlever.com/img/3/8/9/0/389097.jpg)\n",
    "\n",
    "Si on prend un tout petit déplacement vers la droite, le taux d'accroissement correspond au coefficient directeur de la tangente à la courbe représentative de $f$ en $x_0$.\n",
    "\n",
    "![tangente](https://profgra.org/lycee/tangente-a-une-courbe.jpg)\n",
    "\n",
    "On note $$ f'(x) = \\lim_{h \\rightarrow 0} \\Delta_{x_0}(h) $$\n",
    "\n",
    "Et on définit la fonction dérivée comme la fonction qui à tout $x$ associe $f'(x)$.\n",
    "\n",
    "**C'est la fonction dérivée de $f$** (elle n'existe pas toujours, pas nécessairement partout...bref.)\n",
    "\n",
    "En spé Maths vous avez abondemment travailler cette notion, et sans doute appris un beau tableau de dérivées usuelles à connaitre. \n",
    "\n",
    "![Tableau derivees usuelles](https://mathbox.fr/wp-content/uploads/img_3353.jpg)\n",
    "\n",
    "**Je vous propose de construire, en utilisant la programmation fonctionnelle, un traçeur de fonctions dérivées.**"
   ]
  },
  {
   "cell_type": "markdown",
   "metadata": {},
   "source": [
    "## 1. Tracer la courbe représentative d'une fonction\n",
    "### Préparation\n",
    "* Définir une fonction ```f``` qui prend en paramètre un nombre $x$ et qui retourne...disons le cube du paramètre.\n",
    "* Ecrire une fonction qui prends trois paramètres ```xmin```,```xmax``` et ```pas``` et qui construit un tableau de nombres séparés de ```pas``` qui commence à ```xmin```, se termine *avant* ```xmax```.\n",
    "\n",
    "*Attention* : La difficulté ici...c'est que le **pas** n'est pas entier ! Il y a plein de façon pour faire ça, à la main, en utilisant ```numpy.linspace```, en utilisant des listes en compréhension...histoire de vous préparer aux épreuves du BAC...implémentez cette fonction \"à la main\" ou bien si vraiment vous trouvez ça trop facile, avec une liste en compréhension (si vous ne savez plus ce qu'est une liste en compréhension c'est par là : [lien](http://python.lycee.free.fr/list_comprehensions.html))\n",
    "\n",
    "* Ecrire une fonction qui prends en paramètre *une fonction* et un tableau d'antécédents, et qui retourne le tableau de valeur correspondant (de même taille, composée des images des éléments du tableau d'antécédent).\n"
   ]
  },
  {
   "cell_type": "code",
   "execution_count": null,
   "metadata": {},
   "outputs": [],
   "source": [
    "def f(x):\n",
    "    return 42\n",
    "\n",
    "def antecedents(xmin, xmax, pas):\n",
    "    return []\n",
    "        \n",
    "def images(f, antecedents):\n",
    "    return []\n",
    "    \n",
    "print(antecedents(-3,3.5,0.5)) \n",
    "# [-3.0, -2.5, -2.0, -1.5, -1.0, -0.5, 0.0, 0.5, 1.0, 1.5, 2.0, 2.5, 3.0]\n",
    "\n",
    "print(images(f, antecedents(-3,3,0.5)))\n",
    "# [-27.0, -15.625, -8.0, -3.375, -1.0, -0.125, 0.0, 0.125, 1.0, 3.375, 8.0, 15.625, 27.0]"
   ]
  },
  {
   "cell_type": "markdown",
   "metadata": {},
   "source": [
    "### Gestion de l'affichage\n",
    "En utilisant la librairie Matplotlib, tracez la courbe représentative associée à la fonction et au tableau d'antecédents (voir [ici](https://courspython.com/introduction-courbes.html))\n",
    "![tada](https://i.imgur.com/LFQMKeY.png)\n",
    "\n",
    "**Attention** : ici on sort clairement du paradigme fonctionnel, la librairie matplotlib manipule un objet \"plt\" (pour plot) auquel on ajoute succéssivement des éléments. On exploite clairement un mécanisme d'effet de bord !!!\n"
   ]
  },
  {
   "cell_type": "code",
   "execution_count": null,
   "metadata": {},
   "outputs": [],
   "source": [
    "import matplotlib.pyplot as plt\n",
    "\n",
    "def affiche(f, nom, min, max, pas, couleur):  \n",
    "    xs = []\n",
    "    ys = []\n",
    "\n",
    "    plt.plot(xs, ys, label=nom, color=couleur)\n",
    "\n",
    "\n",
    "affiche(...)\n",
    "\n",
    "plt.axhline(y=0, color='k')\n",
    "plt.axvline(x=0, color='k')\n",
    "plt.grid(True)\n",
    "plt.legend()\n",
    "plt.show()\n"
   ]
  },
  {
   "cell_type": "markdown",
   "metadata": {},
   "source": [
    "## 2. Un calculateur de dérivée (l'arrivée des lambdas !)\n",
    "Si on considère (comme depuis le début du TP) la fonction cube $f : x \\mapsto x^3$ sa fonction dérivée est $$f' : x \\mapsto 3 x^2$$. Vérifions ça numériquement...\n",
    "\n",
    "* Ecrire une fonction qui prend en paramètre une fonction et une abscisse, et qui retourne le nombre dérivé de la fonction pour cette valeur de $x$, en prenant une valeur fixe pour ```h = 0.01``` (on ne traitera pas les cas où la fonction n'existe pas...)\n",
    "* Ecrire une fonction qui prend en paramètre une fonction et qui retourne...sa \"dérivée numérique\" (oui, c'est une fonction donc oui, il faut retourner une lambda)\n"
   ]
  },
  {
   "cell_type": "code",
   "execution_count": null,
   "metadata": {},
   "outputs": [],
   "source": [
    "def nombreDerive(f,x):\n",
    "    h = 0.01\n",
    "    return 42\n",
    "\n",
    "def derivee(f):\n",
    "    return lambda x : x\n",
    "\n",
    "\n",
    "\n",
    "print(derivee(f)(0))\n",
    "print(derivee(f)(2))\n",
    "# 0.00010000000000000002\n",
    "# 12.060099999999707\n"
   ]
  },
  {
   "cell_type": "markdown",
   "metadata": {},
   "source": [
    "## 3. Un traçeur de dérivées\n",
    "* Tracer sur le même graphique la fonction cube (en rouge) et sa dérivée pour $x \\in [-3,3]$\n",
    "\n",
    "Est-ce que vous voyez apparaitre le graphe de la fonction $x\\mapsto 3 x^2$ ?"
   ]
  },
  {
   "cell_type": "code",
   "execution_count": null,
   "metadata": {},
   "outputs": [],
   "source": [
    "affiche(...)\n",
    "affiche(...)\n",
    "\n",
    "plt.axhline(y=0, color='k')\n",
    "plt.axvline(x=0, color='k')\n",
    "plt.grid(True)\n",
    "plt.legend()\n",
    "plt.show()"
   ]
  },
  {
   "cell_type": "markdown",
   "metadata": {},
   "source": [
    "* Tracer sur le même graphique la fonction $ x \\mapsto cos(x)$ pour $x \\in [-6,6]$ et sa dérivée (vous noterez...que on n'a *pas* importer le sinus, Python ne le connait pas ! mais on retrouve sa courbe !)\n",
    "\n",
    "![cosinus](https://i.imgur.com/veiMcyt.png)\n"
   ]
  },
  {
   "cell_type": "code",
   "execution_count": null,
   "metadata": {},
   "outputs": [],
   "source": [
    "# a toi..."
   ]
  },
  {
   "cell_type": "markdown",
   "metadata": {},
   "source": [
    "* Tracer sur le même graphique la fonction $ x^2 + cos(x)\\times x$ et sa dérivée (sur un intervalle où on voit quelque chose...)"
   ]
  },
  {
   "cell_type": "code",
   "execution_count": null,
   "metadata": {},
   "outputs": [],
   "source": [
    "# a toi..."
   ]
  },
  {
   "cell_type": "markdown",
   "metadata": {},
   "source": [
    "* Tracer sur le même graphique la fonction $$x \\mapsto \\frac{sin(x)}{x}$$ et sa dérivée (sur $x \\in[-20,20]$). \n",
    "\n",
    "Surprise, elle devrait exploser en 0 (et il va falloir traiter le problème dans le code...) mais finalement, non.\n",
    "Vous êtes en train d'observer que $$\\lim_{x \\rightarrow 0}\\frac{sin(x)}{x} = 1$$ Peut être que vous savez le démontrer...peut être pas..."
   ]
  },
  {
   "cell_type": "code",
   "execution_count": null,
   "metadata": {},
   "outputs": [],
   "source": [
    "# a toi..."
   ]
  },
  {
   "cell_type": "markdown",
   "metadata": {},
   "source": [
    "## 4. Saisie utilisateur : de la magie noire\n",
    "C'est bien beau de saisir l'expression de la fonction \"en dur\" dans le code...mais comment aller plus loin ?\n",
    "\n",
    "![black magic](https://i.ytimg.com/vi/vk6-2-lRWFk/maxresdefault.jpg)\n",
    "\n",
    "En Python, la fonction ```eval``` permet d'interpreter une chaîne de caractère comme une expression.\n",
    "Exécuter le code suivant :"
   ]
  },
  {
   "cell_type": "code",
   "execution_count": null,
   "metadata": {},
   "outputs": [],
   "source": [
    "x = 10\n",
    "eval(\"x**2\")"
   ]
  },
  {
   "cell_type": "markdown",
   "metadata": {},
   "source": [
    "En utilisant les lambdas, et tout ce que nous venons de voir, écrire un programme qui demande à l'utilisateur l'expression d'une fonction mathématiques, et qui trace le graphe de la fonction et de sa dérivée sur l'intervalle $[-10,10]$."
   ]
  },
  {
   "cell_type": "code",
   "execution_count": null,
   "metadata": {},
   "outputs": [],
   "source": [
    "from math import * \n",
    "\n",
    "\n",
    "expression=input(\"Donner l'expression de la fonction que vous souhaitez étudier f(x)=\")\n",
    "\n",
    "# do stuff\n",
    "\n",
    "# afficher le graphique de la fonction (en rouge) et de sa dérivée (en bleu)"
   ]
  },
  {
   "cell_type": "markdown",
   "metadata": {},
   "source": [
    "Vous allez vous rendre compte qu'un certains nombre de fonctions ne se laissent pas faire à moins d'être très vigilents sur le domaine de définition, pour que le résultat reste \"raisonnable\"...mais que pour les fonctions \"de base\" tout ça fonctionne plutôt bien !"
   ]
  },
  {
   "cell_type": "markdown",
   "metadata": {},
   "source": [
    "## 5. /!\\ Important...sortir tout ça du notebook...\n",
    "\n",
    "Exporter le notebook en \".py\", ouvrir le résultat, repérer où se trouve le texte, où se trouve le code. \n",
    "L'ouvrir avec Edupython (ou repl.it mais il faudra remplacer les plot.show() par des plt.savefig()) et constater que ce TP est réexploitable dans un autre environnement qu'un \"notebook\"."
   ]
  },
  {
   "cell_type": "code",
   "execution_count": null,
   "metadata": {},
   "outputs": [],
   "source": []
  }
 ],
 "metadata": {
  "kernelspec": {
   "display_name": "Python 3",
   "language": "python",
   "name": "python3"
  },
  "language_info": {
   "codemirror_mode": {
    "name": "ipython",
    "version": 3
   },
   "file_extension": ".py",
   "mimetype": "text/x-python",
   "name": "python",
   "nbconvert_exporter": "python",
   "pygments_lexer": "ipython3",
   "version": "3.7.4"
  }
 },
 "nbformat": 4,
 "nbformat_minor": 2
}
