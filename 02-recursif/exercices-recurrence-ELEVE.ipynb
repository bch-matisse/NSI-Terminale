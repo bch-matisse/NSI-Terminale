{
 "cells": [
  {
   "cell_type": "markdown",
   "metadata": {},
   "source": [
    "# Des exercices sur la programmation par récurence \n",
    "\n",
    "Alors oui y a beaucoup des maths. \n",
    "\n",
    "\n",
    "Courage.\n",
    "\n",
    "\n",
    "ça va s'arrêter.\n"
   ]
  },
  {
   "cell_type": "markdown",
   "metadata": {},
   "source": [
    "## 1. La puissance récursive\n",
    "Calculer $x^n$ pour $n$ entier positif (attention il y a un petit piège) "
   ]
  },
  {
   "cell_type": "code",
   "execution_count": null,
   "metadata": {},
   "outputs": [],
   "source": [
    "def puissance(x,n):\n",
    "    \"\"\" Calcule x^n \n",
    "\n",
    "    Args:\n",
    "        x le nombre dont on calcule la puissance\n",
    "        n l'exposant (entier !!!)\n",
    "\n",
    "    Returns:\n",
    "        x^n\n",
    "    \"\"\"\n",
    "    return 42\n"
   ]
  },
  {
   "cell_type": "markdown",
   "metadata": {},
   "source": [
    "Pour déterminer la vitesse à laquelle s'exécute votre code, on peut utiliser\n",
    "```\n",
    "%timeit\n",
    "```\n",
    "*timeit* va effectuer un grand nombre d'appels et vous fournir le temps d'exécution (moyen) mesuré."
   ]
  },
  {
   "cell_type": "code",
   "execution_count": null,
   "metadata": {},
   "outputs": [],
   "source": [
    "assert(puissance(2,3)==8)\n",
    "assert(puissance(-1,10)==1)"
   ]
  },
  {
   "cell_type": "code",
   "execution_count": null,
   "metadata": {},
   "outputs": [],
   "source": [
    "%timeit ( puissance(10,10))"
   ]
  },
  {
   "cell_type": "markdown",
   "metadata": {},
   "source": [
    "A priori, vous savez que $0.99^n$ est une suite qui converge vers...$0$...  \n",
    "\n",
    "\n",
    "Est-ce que vous pouvez me le prouver en trouvant la plus petite valeur de $n$ telle que $0.99^n < 0.001$ ?"
   ]
  },
  {
   "cell_type": "code",
   "execution_count": null,
   "metadata": {},
   "outputs": [],
   "source": [
    "# votre code ici\n"
   ]
  },
  {
   "cell_type": "markdown",
   "metadata": {},
   "source": [
    "Et avec $0.999$ et en allant jusqu'à ce que $0.999^n < 0.0001$ on atteint une limite...laquelle ?  \n",
    "\n"
   ]
  },
  {
   "cell_type": "code",
   "execution_count": null,
   "metadata": {},
   "outputs": [],
   "source": [
    "......Répondre ici"
   ]
  },
  {
   "cell_type": "markdown",
   "metadata": {},
   "source": [
    "## 2. Exponentiation rapide : calculer $x^n$ pour $n$ entier strictement positif avec la méthode d'exponentiation rapide\n",
    "  \n",
    "  \n",
    "\n",
    "&emsp;&emsp;&emsp;&emsp;$\n",
    "\\textrm{puissance}(x , n) = \n",
    "\\left\\{\n",
    "          \\begin{array}{c c}\n",
    "            x & \\textrm{si } n = 1 \\\\\n",
    "            \\textrm{puissance}(x^2 , n/2) & \\textrm{si } n \\textrm{ est pair}\\\\\n",
    "            x \\times \\textrm{puissance}(x^2 , (n - 1)/2) & \\textrm{si } n \\textrm{ est impair}\\\\\n",
    "          \\end{array}\n",
    "\\right.  \n",
    "$  "
   ]
  },
  {
   "cell_type": "code",
   "execution_count": null,
   "metadata": {},
   "outputs": [],
   "source": [
    "def puissanceFast(x,n):\n",
    "    \"\"\" Calcule x^n \n",
    "\n",
    "    Args:\n",
    "        x le nombre dont on calcule la puissance\n",
    "        n l'exposant (entier !!!)\n",
    "\n",
    "    Returns:\n",
    "        x^n\n",
    "    \"\"\"\n",
    "    return 42"
   ]
  },
  {
   "cell_type": "code",
   "execution_count": null,
   "metadata": {},
   "outputs": [],
   "source": [
    "assert(puissanceFast(2,3)==8)\n",
    "assert(puissanceFast(-1,10)==1)"
   ]
  },
  {
   "cell_type": "code",
   "execution_count": null,
   "metadata": {},
   "outputs": [],
   "source": [
    "%timeit ( puissanceFast(10,10))"
   ]
  },
  {
   "cell_type": "markdown",
   "metadata": {},
   "source": [
    "Est-ce que vous pourriez comparer la **complexité** de l'algorithme récursif naïf et de sa version \"rapide\" ? \n",
    "Est-ce que ça vous fait penser à quelqu'un ?\n",
    "(moi oui...et il vaudrait mieux que vous aussi...)"
   ]
  },
  {
   "cell_type": "code",
   "execution_count": null,
   "metadata": {},
   "outputs": [],
   "source": [
    ".....répondre ici"
   ]
  },
  {
   "cell_type": "markdown",
   "metadata": {},
   "source": [
    "Est-ce que ce second programme s'en sort mieux pour chercher $n$ tel que $0.999^n < 0.0001$ ?"
   ]
  },
  {
   "cell_type": "code",
   "execution_count": null,
   "metadata": {},
   "outputs": [],
   "source": [
    "#votre code ici"
   ]
  },
  {
   "cell_type": "markdown",
   "metadata": {},
   "source": [
    "## 3. Nombre de chiffres d'un nombre passé en paramètre ?"
   ]
  },
  {
   "cell_type": "code",
   "execution_count": null,
   "metadata": {},
   "outputs": [],
   "source": [
    "def nbr(n):\n",
    "    return 12"
   ]
  },
  {
   "cell_type": "code",
   "execution_count": null,
   "metadata": {},
   "outputs": [],
   "source": [
    "assert(nbr(1)==1)\n",
    "assert(nbr(10)==2)\n",
    "assert(nbr(-1789)==4)"
   ]
  },
  {
   "cell_type": "markdown",
   "metadata": {},
   "source": [
    "## 4. Retourner une chaîne de caractère ? (qu'est-ce qu'il faut pas faire pour trouver des exemples non mathématiques...)\n",
    "Ecrire une fonction qui \"retourne\" une chaïne de caractère, récursive.."
   ]
  },
  {
   "cell_type": "code",
   "execution_count": null,
   "metadata": {},
   "outputs": [],
   "source": [
    "def retourne(chaine):\n",
    "    return \"Alors quand c'est pas des maths c'est des mots croisés ?\"\n"
   ]
  },
  {
   "cell_type": "code",
   "execution_count": null,
   "metadata": {},
   "outputs": [],
   "source": [
    "assert(retourne(\"la mariee ira mal\")==\"lam ari eeiram al\")"
   ]
  },
  {
   "cell_type": "markdown",
   "metadata": {},
   "source": [
    "# On se risque sur [le bizarre...](https://www.youtube.com/watch?v=btIkYYTFqDQ) (et retour aux Maths, pas le choix sur ce coup là...)"
   ]
  },
  {
   "cell_type": "markdown",
   "metadata": {},
   "source": [
    "### 4. Récursivité croisée\n",
    "On définit deux suites (un) et (vn) au moyen des équations suivantes :  \n",
    "  \n",
    "&emsp;&emsp;&emsp;&emsp;$\n",
    "\\left\\{\n",
    "          \\begin{array}{c c}\n",
    "            u_0 = 1 \\\\\n",
    "            v_0 = 1 & \\\\\n",
    "            u_{n + 1} = 3u_n + 2v_n & \\textrm{ si } n \\ge 0 \\\\\n",
    "            v_{n + 1} = 2u_n + 3v_n & \\textrm{ si } n \\ge 0 \\\\\n",
    "          \\end{array}\n",
    "\\right.  \n",
    "$  \n",
    "\n",
    "\n",
    "Écrire, pour chacune des deux suites, une fonction qui, étant donné un entier naturel n donné, calcule son terme d'indice n.\n"
   ]
  },
  {
   "cell_type": "code",
   "execution_count": null,
   "metadata": {},
   "outputs": [],
   "source": [
    "def u(n):\n",
    "    return \"kill me\"\n",
    "    \n",
    "def v(n):\n",
    "    return \"with fire\"\n",
    "    "
   ]
  },
  {
   "cell_type": "code",
   "execution_count": null,
   "metadata": {},
   "outputs": [],
   "source": [
    "assert(u(9) ==  1953125 )\n",
    "for i in range(20):\n",
    "    assert(u(i) == v(i) )"
   ]
  },
  {
   "cell_type": "markdown",
   "metadata": {},
   "source": [
    "(Vous sauriez démontrer ce que vous observez ? Non ? pffff...)"
   ]
  },
  {
   "cell_type": "markdown",
   "metadata": {},
   "source": [
    "### 5. Récursivité imbriquée\n",
    "La fonction 91 de McCarthy est une fonction récursive définie par McCarthy dans son étude de propriétés de programmes récursifs, et notamment de leur vérification formelle. C'est un exemple amplement repris dans les manuels de programmation.\n",
    "\n",
    "![Le coupable...](https://upload.wikimedia.org/wikipedia/commons/thumb/4/49/John_McCarthy_Stanford.jpg/260px-John_McCarthy_Stanford.jpg)\n",
    "\n",
    "\n",
    "La fonction $f_{91}$ est définie pour tout entier naturel par :  \n",
    "&emsp;&emsp;&emsp;&emsp;$\n",
    "f(n) = \\left\\{\n",
    "          \\begin{array}{c c}\n",
    "            n - 10 & \\textrm{ si } n \\gt 100 \\\\\n",
    "            f\\left(f(n + 11)\\right) & \\textrm{ sinon }\\\\\n",
    "          \\end{array}\n",
    "\\right.  \n",
    "$  \n",
    "  \n",
    "1. Calculer à la main $f_{91}(99)$\n",
    "2. Ecrire une fonction récursive permettant de calculer la valeur de $f_{91}(n)$ pour $n$ donné.\n",
    "3. Calculer et stocker dans une liste toutes les valeurs de $f_{91}(n)$ pour $n$ de 0 à 200. Que constatez vous ?\n",
    "\n"
   ]
  },
  {
   "cell_type": "code",
   "execution_count": null,
   "metadata": {},
   "outputs": [],
   "source": [
    "def f(n):\n",
    "    return \"ce truc est simplement splendide\"\n"
   ]
  },
  {
   "cell_type": "code",
   "execution_count": null,
   "metadata": {},
   "outputs": [],
   "source": [
    "from random import randint\n",
    "# le test par valeur aléatoire\n",
    "# ne pas faire ça à la maison (ou le jour du BAC...)\n",
    "for i in range(100):\n",
    "    n = randint(1,200)\n",
    "    if (n>101):\n",
    "        assert(f(n)== n - 10)\n",
    "    else :\n",
    "        assert(f(n) == 91)\n"
   ]
  },
  {
   "cell_type": "markdown",
   "metadata": {},
   "source": [
    "Avouez...c'est sublime non ?"
   ]
  },
  {
   "cell_type": "markdown",
   "metadata": {},
   "source": [
    "### 6. Enfin une application (presque pas) mathématique..."
   ]
  },
  {
   "cell_type": "markdown",
   "metadata": {},
   "source": [
    "![Von Koch](http://www.maths-info-lycee.fr/images/Von_Koch.jpeg)\n",
    "\n",
    "Le flocon de Koch est l'une des premières courbes fractales à avoir été décrites (bien avant l'invention du terme « fractal »).\n",
    "\n",
    "La courbe de Koch s'obtient à partir d'un segment de droite, en modifiant *récursivement* chaque segment de droite de la façon suivante :\n",
    "* On divise le segment de droite en trois segments de longueurs égales.\n",
    "* On construit un triangle équilatéral ayant pour base le segment médian de la première étape.\n",
    "* On supprime le segment de droite qui était la base du triangle de la deuxième étape.\n",
    "Au bout de ces trois étapes, l'objet résultant a une forme similaire à une section transversale d'un chapeau de sorcière.\n",
    "\n",
    "![animation](https://upload.wikimedia.org/wikipedia/commons/b/bf/Koch_anime.gif)\n",
    "\n",
    "La courbe de Koch est la limite des courbes obtenues, lorsqu'on répète indéfiniment les étapes mentionnées ci-avant.\n",
    "\n",
    "Le flocon de Koch s'obtient de la même façon que la fractale précédente, en partant d'un triangle équilatéral au lieu d'un segment de droite, et en effectuant les modifications en orientant les triangles vers l'extérieur.\n",
    "\n",
    "![animation](https://upload.wikimedia.org/wikipedia/commons/f/fd/Von_Koch_curve.gif)\n",
    "\n",
    "A vous (commencez par essayer de coder la courbe, puis en avant pour le flocon !)"
   ]
  },
  {
   "cell_type": "markdown",
   "metadata": {},
   "source": [
    "**Attention**\n",
    "Sous Colab il faudra sans doute que vous rajoutiez une cellule contenant :\n",
    "```\n",
    "    !pip3 install ColabTurtle\n",
    "```\n",
    "Puis remplacer le ```import turtle``` par ```import ColabTurtle```\n",
    "\n",
    "**Si jamais ça ne se laisse pas faire, basculez sur Edupython ou repl.it !**\n"
   ]
  },
  {
   "cell_type": "code",
   "execution_count": null,
   "metadata": {},
   "outputs": [],
   "source": [
    "from turtle import *\n",
    "\n",
    "def FractaleKoch(n, longueur) :\n",
    "    forward(longueur//3)\n",
    "    left(90)\n",
    "    forward(longueur//3)\n",
    "    left(90)\n",
    "    forward(longueur//3)\n",
    "\n",
    "FractaleKoch(3, 400)\n",
    "up()\n",
    "\n",
    "exitonclick()"
   ]
  },
  {
   "cell_type": "markdown",
   "metadata": {},
   "source": [
    "<hr style=\"color:black; height:1px\" />\n",
    "_Merci à Mmes. et Ms. Babolonski, Conchon, Filiâtre, Nguyen, Theilaud pour leurs précieuses idées._  \n",
    "\n",
    "\n",
    "![Licence CC BY NC SA](https://licensebuttons.net/l/by-nc-sa/3.0/88x31.png \"licence Creative Commons NC BY SA\")\n",
    "\n",
    "[Merci à **Frederic Mandon**](mailto:frederic.mandon@ac-montpellier.fr), Lycée Jean Jaurès - Saint Clément de Rivière - France (2020)"
   ]
  },
  {
   "cell_type": "code",
   "execution_count": null,
   "metadata": {},
   "outputs": [],
   "source": []
  }
 ],
 "metadata": {
  "kernelspec": {
   "display_name": "Python 3",
   "language": "python",
   "name": "python3"
  },
  "language_info": {
   "codemirror_mode": {
    "name": "ipython",
    "version": 3
   },
   "file_extension": ".py",
   "mimetype": "text/x-python",
   "name": "python",
   "nbconvert_exporter": "python",
   "pygments_lexer": "ipython3",
   "version": "3.7.4"
  }
 },
 "nbformat": 4,
 "nbformat_minor": 2
}
