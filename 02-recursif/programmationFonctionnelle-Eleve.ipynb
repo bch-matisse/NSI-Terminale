{
 "cells": [
  {
   "cell_type": "markdown",
   "metadata": {},
   "source": [
    "# Programmation fonctionnelle\n",
    "![folie](https://p1.storage.canalblog.com/22/44/1349409/115153251.jpg)\n",
    "\n",
    "Sur ce TP nous allons essayer de voir ce à quoi ça peut ressembler d'adopter un style de programmation fonctionnelle...en Python (pas de commentaires).\n",
    "\n",
    "\n",
    "## 1.Fonctions en paramètre\n"
   ]
  },
  {
   "cell_type": "markdown",
   "metadata": {},
   "source": [
    "### a. Passer une fonction en paramètre\n",
    "Ecrire une fonction ```trouve(propriete, liste)``` et qui retourne le premier élément de la liste (ou ```None``` le cas échéant) qui vérifie la propriété passée en paramètre. Le propriété passée en paramètre sera...une fonction qui retourne True ou False...\n"
   ]
  },
  {
   "cell_type": "code",
   "execution_count": null,
   "metadata": {},
   "outputs": [],
   "source": [
    "def trouve(propriete, liste):\n",
    "    return None\n",
    "\n",
    "def estPair(element):\n",
    "    return True\n",
    "\n",
    "tab = [1,3,5,7,100,12,14,15]\n",
    "# trouve(estPair, tab) > retourne 100\n"
   ]
  },
  {
   "cell_type": "code",
   "execution_count": null,
   "metadata": {},
   "outputs": [],
   "source": [
    "# Ne pas modifier, mais exécuter !\n",
    "assert(trouve(lambda x : x > 1000, [1,2,3])==None)\n",
    "assert(trouve(lambda x : x > 1000, [1,2020,3])==2020)\n",
    "print(\"Ok !\")"
   ]
  },
  {
   "cell_type": "markdown",
   "metadata": {},
   "source": [
    "### b. Passer une fonction en paramètre et construire une réponse\n",
    "Ecrire une fonction ```applique(f, nombres)``` et qui reçoit en argument une fonction et un tableau d'antécédents, et qui retourne un nouveau tableau de même taille correspondant aux images des antécédents.\n"
   ]
  },
  {
   "cell_type": "code",
   "execution_count": null,
   "metadata": {},
   "outputs": [],
   "source": [
    "def applique(f, antecedents):\n",
    "    return None\n",
    "\n",
    "def carre(x):\n",
    "    return None\n",
    "\n",
    "x = [-2,-1,0,1,2]\n",
    "print(applique(carre, x))"
   ]
  },
  {
   "cell_type": "code",
   "execution_count": null,
   "metadata": {},
   "outputs": [],
   "source": [
    "# Ne pas modifier, mais exécuter !\n",
    "assert(applique(lambda x : x**3, [1,2])[0]==1)\n",
    "assert(applique(lambda x : x**3, [1,2])[1]==8)\n",
    "print(\"Ok !\")"
   ]
  },
  {
   "cell_type": "markdown",
   "metadata": {},
   "source": [
    "## 2.Lambda calcul (si ça tombe au BAC, je mange mon clavier)"
   ]
  },
  {
   "cell_type": "markdown",
   "metadata": {},
   "source": [
    "### c. Retourner une nouvelle fonction...\n",
    "Ecrire une fonction qui prends en paramètre...une fonction et qui retourne...une troisième fonction qui applique deux fois celle qui a été passée en paramètre.\n",
    "![inception](https://m.media-amazon.com/images/I/615l+Y0h+rL._AA256_.jpg)"
   ]
  },
  {
   "cell_type": "code",
   "execution_count": null,
   "metadata": {},
   "outputs": [],
   "source": [
    "def double(f):\n",
    "    return None\n",
    "\n",
    "#modifier f pour que par exemple, elle retourne x * 10\n",
    "def f(x):\n",
    "    return None\n",
    "\n",
    "g = double(f)\n",
    "print(g(1)) #100 ?\n",
    "print(g(2)) #200 ?"
   ]
  },
  {
   "cell_type": "code",
   "execution_count": null,
   "metadata": {},
   "outputs": [],
   "source": [
    "# ne pas modifier\n",
    "assert(double(lambda x : x * 5)(1)==25)\n",
    "print(\"Ok !\")"
   ]
  },
  {
   "cell_type": "markdown",
   "metadata": {},
   "source": [
    "## Des trucs qui pourraient servir un jour (ou pas)\n",
    "Ecrire une fonction ```compose``` qui prends en paramètre deux fonctions ```f``` et ```g``` et qui retourne la composition de ces deux fonctions, c'est à dire la fonction $h$ qui vérifie pour toute valeur de $x$ $$h(x) = f(g(x))$$\n",
    "(ça par exemple, ça pourrait avoir une utilité réelle en Mathématiques...)"
   ]
  },
  {
   "cell_type": "code",
   "execution_count": null,
   "metadata": {},
   "outputs": [],
   "source": [
    "def compose(f,g):\n",
    "    return None\n",
    "\n",
    "def f(x):\n",
    "    return x * 3\n",
    "\n",
    "def g(x):\n",
    "    return x * 2\n",
    "\n",
    "comp = compose(f,g)\n",
    "print(comp(10)) # 60 ???"
   ]
  },
  {
   "cell_type": "code",
   "execution_count": null,
   "metadata": {},
   "outputs": [],
   "source": [
    "# ne pas modifier\n",
    "assert(compose(lambda x : \"*\"+str(x)+\"*\", lambda x : 2*x)(10)==\"*20*\")\n",
    "print(\"Ok !\")"
   ]
  },
  {
   "cell_type": "markdown",
   "metadata": {},
   "source": [
    "### d.Une fonction qui mesure...le temps d'exécution\n",
    "Ecrire une fonction qui prends en paramètre une autre fonction et une valeur, et qui retourne une paire formée de l'exécution de la fonction sur la valeur, ainsi que le temps nécessaire pour l'exécution du code passé en paramètre. \n",
    "\n",
    "Comparer les temps d'exécutions des deux fonctions proposées (```neFaitRien``` et ```neFaitRienEtDisLe```).\n",
    "\n",
    "(ça par exemple, ça pourrait avoir une utilité réelle pour travailler sur les performances de votre code, pour identifier les portions qui prennent le plus de temps...sans venir modifier le code de la fonction que vous étudiez !)"
   ]
  },
  {
   "cell_type": "code",
   "execution_count": null,
   "metadata": {},
   "outputs": [],
   "source": [
    "import time\n",
    "\n",
    "def mesure(f, x):\n",
    "    return None, None\n",
    "\n",
    "def neFaitRien(x):\n",
    "    k = 0\n",
    "    for i in range(x):\n",
    "        k = k + 1\n",
    "    return k\n",
    "\n",
    "def neFaitRienEtDisLe(x):\n",
    "    k = 0\n",
    "    for i in range(x):\n",
    "        print(\".\", end=\"\")\n",
    "        k = k + 1\n",
    "    print()\n",
    "    return k\n",
    "\n",
    "print(mesure(neFaitRienEtDisLe, 1000))\n",
    "print(mesure(neFaitRien, 1000))"
   ]
  },
  {
   "cell_type": "markdown",
   "metadata": {},
   "source": [
    "### e. Enchainer des appels après une petite pause...\n",
    "Ecrire un mécanisme qui permet d'efffectuer ```n``` appels à une fonction passée en paramètre, en faisant une pause de ```delai``` secondes entre deux appels. \n",
    "On pourra utiliser ```time.sleep(t)``` qui permet de faire une pause de ```t``` millisecondes.\n",
    "\n",
    "(ce mécanisme pourrait avoir une utilité pour coder un automate qui répète périodiquement des tâches.)\n",
    "\n"
   ]
  },
  {
   "cell_type": "code",
   "execution_count": null,
   "metadata": {},
   "outputs": [],
   "source": [
    "import time \n",
    "\n",
    "def repeteApresAttente(f, n, delai):\n",
    "    print(\"heu ?\")\n",
    "        \n",
    "repeteApresAttente(lambda : print(\"Ding\"), 5, 1)\n",
    "        "
   ]
  },
  {
   "cell_type": "markdown",
   "metadata": {},
   "source": [
    "Résultat attendu :\n",
    "```\n",
    "appel  0\n",
    "Ding\n",
    "appel  1\n",
    "Ding\n",
    "appel  2\n",
    "Ding\n",
    "appel  3\n",
    "Ding\n",
    "appel  4\n",
    "Ding\n",
    "```\n"
   ]
  },
  {
   "cell_type": "markdown",
   "metadata": {},
   "source": [
    "# Un dernier mot\n",
    "La programmation strictement impérative est utilisée quand un contrôle strict des ressources de la machine est voulu.\n",
    "Certains systèmes fonctionnels (comme OCaml) fournissent des garanties de sûreté d’évaluation (en utilisant un typage  fort des variables, aux antipodes du \"duck typing\" de Python, un canard doit être déclaré comme un canard, sinon on ne pourra pas appeler duck.coin()).\n",
    "\n",
    "La programmation fonctionnelle adopte un point de vu complétement différent et privilégie la définition des traitements, elle est utilisée dans des domaines où les preuves de correction des programmes sont importantes (théorie de la démonstration en Mathématiques par exemple).\n",
    "\n",
    "Elle est aussi utilisée tout simplement parce que c’est un style de programmation agréable avec certaines facilités de maintenance, c'est aussi et surtout un exercice de pensée stimulant, bien que difficile.\n",
    "\n",
    "Mon objectif ici est de vous présenter une façon radicalement différente de concevoir vos programmes, dans la pratique, on ne va pas se mentir, bien peu de projets industriels sont menés en programmation purement fonctionnelle. \n",
    "\n",
    "On notera que tout ce qui peut être programmé dans un des deux paradigmes peut être programmé dans l’autre (mais la transformation d'un monde à l'autre est loin d'être évidente !).\n"
   ]
  },
  {
   "cell_type": "code",
   "execution_count": null,
   "metadata": {},
   "outputs": [],
   "source": []
  }
 ],
 "metadata": {
  "kernelspec": {
   "display_name": "Python 3",
   "language": "python",
   "name": "python3"
  },
  "language_info": {
   "codemirror_mode": {
    "name": "ipython",
    "version": 3
   },
   "file_extension": ".py",
   "mimetype": "text/x-python",
   "name": "python",
   "nbconvert_exporter": "python",
   "pygments_lexer": "ipython3",
   "version": "3.7.4"
  }
 },
 "nbformat": 4,
 "nbformat_minor": 2
}
