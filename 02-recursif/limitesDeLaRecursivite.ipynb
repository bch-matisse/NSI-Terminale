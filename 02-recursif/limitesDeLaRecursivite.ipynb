{
 "cells": [
  {
   "cell_type": "markdown",
   "metadata": {},
   "source": [
    "## Des limites de la récursivité\n",
    "\n",
    "On veut calculer un terme de rang donné de la suite de Fibonacci, dont la définition par récurrence sur $\\mathbb{N}$ est :  \n",
    " \n",
    "&emsp; &emsp; $\n",
    "\\left\\{\n",
    "          \\begin{array}{lll}\n",
    "            u_0 = 0 \\\\\n",
    "            u_1 = 1 \\\\\n",
    "            u_n = u_{n - 1} + u_{n - 2} \\\\\n",
    "          \\end{array}\n",
    "\\right.\n",
    "$   \n",
    "  \n",
    "Ecrire le programme récursif donnant la valeur de rang donné d'un élément de la suite de Fibonacci.  \n",
    "Testez-le en calculant quelques valeurs, de plus en plus grandes. "
   ]
  },
  {
   "cell_type": "code",
   "execution_count": null,
   "metadata": {},
   "outputs": [],
   "source": []
  },
  {
   "cell_type": "markdown",
   "metadata": {},
   "source": [
    "Comme vous le constatez peut-être, ce programme est lent... Vous pouvez visulaiser la pile d'appels avec [Python Tutor](http://pythontutor.com/visualize.html#mode=edit). \n",
    "  \n",
    "Rajoutez un compteur pour compter le nombre d'appels de la fonction (soyons fous, une variable globale est autorisée, mais sans c'est mieux). Placez quelques points $(n ; y)$ dans un repère, où $n$ est le rang du terme calculé de la suite de Fibonacci, $y$ est le nombre d'appel de la fonction. Conjecturer ensuite la nature de la complexité de l'algorithme récursif de Fibonacci (constante, logarithmique, linéaire, log-linéaire, quadratique, exponentielle, factorielle).   \n",
    "Vous pouvez en plus utiliser l'instruction `%timeit (fibo(n))`, pour avoir les temps d'exécution.  \n",
    "  \n",
    "Ecrivez ensuite un programme plus simple, de complexité spatiale minimale, et plus rapide, pour calculer un terme donné de la suite de Fibonnacci. \n",
    "\n",
    "Donner la complexité temporelle du programme construit."
   ]
  },
  {
   "cell_type": "markdown",
   "metadata": {},
   "source": [
    "<hr style=\"color:black; height:1px\" />\n",
    "_Merci à Mmes. et Ms. Babolonski, Conchon, Filiâtre, Nguyen, Theilaud pour leurs précieuses idées._   \n",
    "<div style=\"float:left;margin:0 10px 10px 0\" markdown=\"1\">\n",
    "[![Licence CC BY NC SA](https://licensebuttons.net/l/by-nc-sa/3.0/88x31.png \"licence Creative Commons NC BY SA\")](http://creativecommons.org/licenses/by-nc-sa/3.0/fr/)</div>\n",
    "[**Frederic Mandon**](mailto:frederic.mandon@ac-montpellier.fr), Lycée Jean Jaurès - Saint Clément de Rivière - France (2020)"
   ]
  },
  {
   "cell_type": "code",
   "execution_count": null,
   "metadata": {},
   "outputs": [],
   "source": []
  }
 ],
 "metadata": {
  "kernelspec": {
   "display_name": "Python 3",
   "language": "python",
   "name": "python3"
  },
  "language_info": {
   "codemirror_mode": {
    "name": "ipython",
    "version": 3
   },
   "file_extension": ".py",
   "mimetype": "text/x-python",
   "name": "python",
   "nbconvert_exporter": "python",
   "pygments_lexer": "ipython3",
   "version": "3.7.4"
  }
 },
 "nbformat": 4,
 "nbformat_minor": 2
}
