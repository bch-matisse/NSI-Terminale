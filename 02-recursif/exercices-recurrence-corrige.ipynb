{
 "cells": [
  {
   "cell_type": "markdown",
   "metadata": {},
   "source": [
    "# Des exercices sur la programmation par récurence \n",
    "\n",
    "Alors oui y a beaucoup des maths. \n",
    "Courage.\n",
    "ça va s'arrêter.\n"
   ]
  },
  {
   "cell_type": "markdown",
   "metadata": {},
   "source": [
    "## 1. La puissance récursive\n",
    "Calculer $x^n$ pour $n$ entier positif (attention il y a un petit piège) "
   ]
  },
  {
   "cell_type": "code",
   "execution_count": 12,
   "metadata": {},
   "outputs": [],
   "source": [
    "def puissance(x,n):\n",
    "    \"\"\" Calcule x^n \n",
    "\n",
    "    Args:\n",
    "        x le nombre dont on calcule la puissance\n",
    "        n l'exposant (entier !!!)\n",
    "\n",
    "    Returns:\n",
    "        x^n\n",
    "    \"\"\"\n",
    "    if (n == 0):\n",
    "        return 1\n",
    "    return x * puissance(x,n-1)\n",
    "\n",
    "\n"
   ]
  },
  {
   "cell_type": "markdown",
   "metadata": {},
   "source": [
    "Pour déterminer la vitesse à laquelle s'exécute votre code, on peut utiliser\n",
    "```\n",
    "%timeit\n",
    "```\n",
    "*timeit* va effectuer un grand nombre d'appels et vous fournir le temps d'exécution (moyen) mesuré."
   ]
  },
  {
   "cell_type": "code",
   "execution_count": 13,
   "metadata": {},
   "outputs": [],
   "source": [
    "assert(puissance(2,3)==8)\n",
    "assert(puissance(-1,10)==1)"
   ]
  },
  {
   "cell_type": "code",
   "execution_count": 19,
   "metadata": {},
   "outputs": [
    {
     "name": "stdout",
     "output_type": "stream",
     "text": [
      "2.08 µs ± 73.9 ns per loop (mean ± std. dev. of 7 runs, 100000 loops each)\n"
     ]
    }
   ],
   "source": [
    "%timeit ( puissance(10,10))"
   ]
  },
  {
   "cell_type": "markdown",
   "metadata": {},
   "source": [
    "## 2. Exponentiation rapide : calculer $x^n$ pour $n$ entier strictement positif avec la méthode d'exponentiation rapide\n",
    "  \n",
    "  \n",
    "\n",
    "&emsp;&emsp;&emsp;&emsp;$\n",
    "\\textrm{puissance}(x , n) = \n",
    "\\left\\{\n",
    "          \\begin{array}{c c}\n",
    "            x & \\textrm{si } n = 1 \\\\\n",
    "            \\textrm{puissance}(x^2 , n/2) & \\textrm{si } n \\textrm{ est pair}\\\\\n",
    "            x \\times \\textrm{puissance}(x^2 , (n - 1)/2) & \\textrm{si } n \\textrm{ est impair}\\\\\n",
    "          \\end{array}\n",
    "\\right.  \n",
    "$  "
   ]
  },
  {
   "cell_type": "code",
   "execution_count": 15,
   "metadata": {},
   "outputs": [],
   "source": [
    "def puissanceFast(x,n):\n",
    "    \"\"\" Calcule x^n \n",
    "\n",
    "    Args:\n",
    "        x le nombre dont on calcule la puissance\n",
    "        n l'exposant (entier !!!)\n",
    "\n",
    "    Returns:\n",
    "        x^n\n",
    "    \"\"\"\n",
    "    if (n == 1):\n",
    "        return x\n",
    "    if (n % 2 ==0):\n",
    "        return puissance(x*x, n//2)\n",
    "    return x * puissance(x*x, n//2)"
   ]
  },
  {
   "cell_type": "code",
   "execution_count": 16,
   "metadata": {},
   "outputs": [],
   "source": [
    "assert(puissanceFast(2,3)==8)\n",
    "assert(puissanceFast(-1,10)==1)"
   ]
  },
  {
   "cell_type": "code",
   "execution_count": 20,
   "metadata": {},
   "outputs": [
    {
     "name": "stdout",
     "output_type": "stream",
     "text": [
      "1.36 µs ± 15.1 ns per loop (mean ± std. dev. of 7 runs, 1000000 loops each)\n"
     ]
    }
   ],
   "source": [
    "%timeit ( puissanceFast(10,10))"
   ]
  },
  {
   "cell_type": "markdown",
   "metadata": {},
   "source": [
    "## 3. Nombre de chiffres d'un nombre passé en paramètre ?"
   ]
  },
  {
   "cell_type": "code",
   "execution_count": 33,
   "metadata": {},
   "outputs": [],
   "source": [
    "def nbr(n):\n",
    "    if (n<0):\n",
    "        return nbr(-n)\n",
    "    if (n<10):\n",
    "        return 1\n",
    "    return 1 + nbr(n/10)"
   ]
  },
  {
   "cell_type": "code",
   "execution_count": 34,
   "metadata": {},
   "outputs": [],
   "source": [
    "assert(nbr(1)==1)\n",
    "assert(nbr(10)==2)\n",
    "assert(nbr(-1789)==4)"
   ]
  },
  {
   "cell_type": "markdown",
   "metadata": {},
   "source": [
    "## 4. Retourner une chaîne de caractère ? (qu'est-ce qu'il faut pas faire pour trouver des exemples non mathématiques...)\n",
    "Ecrire une fonction qui \"retourne\" une chaïne de caractère, récursive.."
   ]
  },
  {
   "cell_type": "code",
   "execution_count": 35,
   "metadata": {},
   "outputs": [
    {
     "name": "stdout",
     "output_type": "stream",
     "text": [
      "fedcba\n",
      "lam ari eeiram al\n"
     ]
    }
   ],
   "source": [
    "def retourne(chaine):\n",
    "    if (len(chaine)==0):\n",
    "        return \"\"\n",
    "    return retourne(chaine[1:]) + chaine[0]\n",
    "\n",
    "print(retourne(\"abcdef\"))\n",
    "print(retourne(\"la mariee ira mal\"))"
   ]
  },
  {
   "cell_type": "code",
   "execution_count": 36,
   "metadata": {},
   "outputs": [],
   "source": [
    "assert(retourne(\"la mariee ira mal\")==\"lam ari eeiram al\")"
   ]
  },
  {
   "cell_type": "markdown",
   "metadata": {},
   "source": [
    "# On se risque sur [le bizarre...](https://www.youtube.com/watch?v=btIkYYTFqDQ) (et retour aux Maths, pas le choix sur ce coup là...)"
   ]
  },
  {
   "cell_type": "markdown",
   "metadata": {},
   "source": [
    "### 4. Récursivité croisée\n",
    "On définit deux suites (un) et (vn) au moyen des équations suivantes :  \n",
    "  \n",
    "&emsp;&emsp;&emsp;&emsp;$\n",
    "\\left\\{\n",
    "          \\begin{array}{c c}\n",
    "            u_0 = 1 \\\\\n",
    "            v_0 = 1 & \\\\\n",
    "            u_{n + 1} = 3u_n + 2v_n & \\textrm{ si } n \\ge 0 \\\\\n",
    "            v_{n + 1} = 2u_n + 3v_n & \\textrm{ si } n \\ge 0 \\\\\n",
    "          \\end{array}\n",
    "\\right.  \n",
    "$  \n",
    "\n",
    "\n",
    "Écrire, pour chacune des deux suites, une fonction qui, étant donné un entier naturel n donné, calcule son terme d'indice n.\n"
   ]
  },
  {
   "cell_type": "code",
   "execution_count": 38,
   "metadata": {},
   "outputs": [
    {
     "name": "stdout",
     "output_type": "stream",
     "text": [
      "1 1\n",
      "5 5\n",
      "25 25\n",
      "125 125\n",
      "625 625\n",
      "3125 3125\n",
      "15625 15625\n",
      "78125 78125\n",
      "390625 390625\n",
      "1953125 1953125\n"
     ]
    }
   ],
   "source": [
    "def u(n):\n",
    "    if n==0:\n",
    "        return 1\n",
    "    return 3 * u(n-1) + 2 * v(n - 1)\n",
    "    \n",
    "def v(n):\n",
    "    if n==0:\n",
    "        return 1\n",
    "    return 2 * u(n-1) + 3 * v(n - 1)\n",
    "    \n",
    "for n in range(10):    \n",
    "    print(u(n), v(n))"
   ]
  },
  {
   "cell_type": "code",
   "execution_count": 39,
   "metadata": {},
   "outputs": [],
   "source": [
    "assert(u(9) ==  1953125 )\n",
    "for i in range(20):\n",
    "    assert(u(i) == v(i) )"
   ]
  },
  {
   "cell_type": "markdown",
   "metadata": {},
   "source": [
    "(Vous sauriez démontrer ce que vous observez ? Non ? pffff...)"
   ]
  },
  {
   "cell_type": "markdown",
   "metadata": {},
   "source": [
    "### 5. Récursivité imbriquée\n",
    "La fonction 91 de McCarthy est une fonction récursive définie par McCarthy dans son étude de propriétés de programmes récursifs, et notamment de leur vérification formelle. C'est un exemple amplement repris dans les manuels de programmation.\n",
    "\n",
    "![Le coupable...](https://upload.wikimedia.org/wikipedia/commons/thumb/4/49/John_McCarthy_Stanford.jpg/260px-John_McCarthy_Stanford.jpg)\n",
    "\n",
    "\n",
    "La fonction $f_{91}$ est définie pour tout entier naturel par :  \n",
    "&emsp;&emsp;&emsp;&emsp;$\n",
    "f(n) = \\left\\{\n",
    "          \\begin{array}{c c}\n",
    "            n - 10 & \\textrm{ si } n \\gt 100 \\\\\n",
    "            f\\left(f(n + 11)\\right) & \\textrm{ sinon }\\\\\n",
    "          \\end{array}\n",
    "\\right.  \n",
    "$  \n",
    "  \n",
    "1. Calculer à la main $f_{91}(99)$\n",
    "2. Ecrire une fonction récursive permettant de calculer la valeur de $f_{91}(n)$ pour $n$ donné.\n",
    "3. Calculer et stocker dans une liste toutes les valeurs de $f_{91}(n)$ pour $n$ de 0 à 200. Que constatez vous ?\n",
    "\n"
   ]
  },
  {
   "cell_type": "code",
   "execution_count": 86,
   "metadata": {},
   "outputs": [],
   "source": [
    "def f(n):\n",
    "    if n > 100:\n",
    "        return n - 10\n",
    "    return f(f(n + 11))\n"
   ]
  },
  {
   "cell_type": "code",
   "execution_count": 88,
   "metadata": {},
   "outputs": [],
   "source": [
    "from random import randint\n",
    "# le test par valeur aléatoire\n",
    "# ne pas faire ça à la maison (ou le jour du BAC...)\n",
    "for i in range(100):\n",
    "    n = randint(1,200)\n",
    "    if (n>101):\n",
    "        assert(f(n)== n - 10)\n",
    "    else :\n",
    "        assert(f(n) == 91)\n"
   ]
  },
  {
   "cell_type": "markdown",
   "metadata": {},
   "source": [
    "Avouez...c'est sublime non ?"
   ]
  },
  {
   "cell_type": "markdown",
   "metadata": {},
   "source": [
    "### 6. Enfin une application (presque pas) Mathématique..."
   ]
  },
  {
   "cell_type": "markdown",
   "metadata": {},
   "source": [
    "\n",
    "![Von Koch](http://www.maths-info-lycee.fr/images/Von_Koch.jpeg)\n",
    "\n",
    "A vous !\n"
   ]
  },
  {
   "cell_type": "code",
   "execution_count": 93,
   "metadata": {},
   "outputs": [],
   "source": [
    "import turtle\n",
    "\n",
    "def FractaleKoch(n, longueur) :\n",
    "    turtle.forward(longueur/3)\n",
    "    turtle.left(90)\n",
    "    turtle.forward(longueur/3)\n",
    "    turtle.left(90)\n",
    "    turtle.forward(longueur/3)\n",
    "\n",
    "FractaleKoch(3, 400)\n",
    "turtle.up()\n",
    "\n",
    "turtle.exitonclick()"
   ]
  },
  {
   "cell_type": "markdown",
   "metadata": {},
   "source": [
    "<hr style=\"color:black; height:1px\" />\n",
    "_Merci à Mmes. et Ms. Babolonski, Conchon, Filiâtre, Nguyen, Theilaud pour leurs précieuses idées._  \n",
    "\n",
    "\n",
    "![Licence CC BY NC SA](https://licensebuttons.net/l/by-nc-sa/3.0/88x31.png \"licence Creative Commons NC BY SA\")\n",
    "\n",
    "[Merci à **Frederic Mandon**](mailto:frederic.mandon@ac-montpellier.fr), Lycée Jean Jaurès - Saint Clément de Rivière - France (2020)"
   ]
  },
  {
   "cell_type": "code",
   "execution_count": null,
   "metadata": {},
   "outputs": [],
   "source": []
  }
 ],
 "metadata": {
  "kernelspec": {
   "display_name": "Python 3",
   "language": "python",
   "name": "python3"
  },
  "language_info": {
   "codemirror_mode": {
    "name": "ipython",
    "version": 3
   },
   "file_extension": ".py",
   "mimetype": "text/x-python",
   "name": "python",
   "nbconvert_exporter": "python",
   "pygments_lexer": "ipython3",
   "version": "3.7.4"
  }
 },
 "nbformat": 4,
 "nbformat_minor": 2
}
