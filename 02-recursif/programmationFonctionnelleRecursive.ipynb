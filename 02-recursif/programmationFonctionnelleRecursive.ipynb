{
 "cells": [
  {
   "cell_type": "markdown",
   "metadata": {},
   "source": [
    "# Incursion dans la programmation fonctionnelle : récursivité\n",
    "![Fonctionnel](http://modelagnostic.co.uk/images/a/3/9/9/4/a39945ca092081f9b7dbf18932bc1f3ec93a184e-screen-shot-2018-11-12-at-103020.png)\n",
    "## 1.Le style de programmation fonctionnel\n",
    "Pour calculer la somme d'un tableau de nombres...On a pas le choix, il va falloir additionner chacune des valeurs contenues dans le tableau. On peut proposer quelque chose comme ça :"
   ]
  },
  {
   "cell_type": "code",
   "execution_count": 1,
   "metadata": {},
   "outputs": [],
   "source": [
    "# Version ABJECTE, ne pas faire ça à la maison...\n",
    "\n",
    "# Variables globales\n",
    "liste = [1,2,3]\n",
    "\n",
    "# Fonctions\n",
    "\n",
    "def sommeIteratif():\n",
    "    somme = 0\n",
    "    for i in range(len(liste)):\n",
    "        somme = somme + liste[0]\n",
    "        liste.remove(liste[0])       \n",
    "    print(somme)\n",
    "\n",
    "    \n",
    "# Programme principal \n",
    "\n",
    "sommeIteratif()"
   ]
  },
  {
   "cell_type": "markdown",
   "metadata": {},
   "source": [
    "Ce programme, \"fonctionne\" (ça se discute, qu'est-ce qu'il est sensé faire au juste ?) mais il a de nombreuses faiblesses : \n",
    "* La fonction ```sommeIteratif``` utilise des variables du programme principal directement, elle ne peut donc pas être réexploitée dans un nouveau contexte et ne peut même pas être testée en dehors de ce programme précis !\n",
    "* La fonction traite elle même l'affichage, si je veux utiliser cette fonction pour calculer une moyenne, je ne peux pas\n",
    "* Elle ne peut pas être exécutée plusieurs fois, deux exécutions successives ne donnent pas le même résultat (elle modifie une variable extérireure) on dit qu'elle a un **effet de bord** ou encore qu'elle n'est pas **réentrante**\n",
    "\n",
    "---\n",
    "### RETENIR\n",
    "\n",
    "Pour éviter ces problèmes on peut adopter un \"style\" fonctionnel, en se conformant aux contraintes suivantes : \n",
    "* les traitements devraient être contenus dans des fonctions\n",
    "* les fonctions utilisent exclusivement leurs paramètres, \n",
    "* elles ne modifient aucune variable extérieure\n",
    "* elles ne doivent avoir aucun effet de bord (affichage ou saisie par exemple...)\n",
    "---"
   ]
  },
  {
   "cell_type": "code",
   "execution_count": 2,
   "metadata": {},
   "outputs": [
    {
     "name": "stdout",
     "output_type": "stream",
     "text": [
      "6\n",
      "2.0\n"
     ]
    }
   ],
   "source": [
    "# Version impérative sans effet de bord\n",
    "\n",
    "# Pas de variables globales\n",
    "\n",
    "# Fonctions\n",
    "\n",
    "def sommeIteratif(liste):\n",
    "    somme = 0\n",
    "    for i in range(len(liste)):\n",
    "        somme = somme + liste[i]\n",
    "    return somme\n",
    "\n",
    "# Programme principal\n",
    "\n",
    "print(sommeIteratif([1,2,3]))\n",
    "\n",
    "# la fonction est testable\n",
    "assert(sommeIteratif([1,2,3]) == 6)\n",
    "# et réentrante\n",
    "assert(sommeIteratif([1,2,3]) == 6)\n",
    "\n",
    "# et qui permet d'être utilisée pour d'autres fonctions\n",
    "def moyenneIteratif(liste):\n",
    "    return sommeIteratif(liste) / len(liste)\n",
    "\n",
    "print(moyenneIteratif([1,2,3]))"
   ]
  },
  {
   "cell_type": "markdown",
   "metadata": {},
   "source": [
    "Si on veut aller plus loin, on peut chercher à se débarasser de tout ce qui n'est pas à proprement parler fonctionnel...\n",
    "On pourrait par exemple chercher à se débarasser de la boucle...\n",
    "\n",
    "Idée : Pour parcourir un tableau, on commence par regarder le premier élément, puis...on parcourt le tableau constitué des éléments qui reste (qui est strictement plus court). Si le tableau que l'on souhaite parcourir est vide, on ne fait rien.\n"
   ]
  },
  {
   "cell_type": "code",
   "execution_count": 3,
   "metadata": {},
   "outputs": [
    {
     "name": "stdout",
     "output_type": "stream",
     "text": [
      "6\n"
     ]
    }
   ],
   "source": [
    "def sommeFonctionelle(liste):\n",
    "    # si la liste est vide\n",
    "    if (len(liste) == 0):\n",
    "        return 0\n",
    "    # sinon on extrait la première valeur, et on fait la somme de ce qui reste\n",
    "    return liste[0] + sommeFonctionelle(liste[1:])\n",
    "\n",
    "# testable\n",
    "print(sommeFonctionelle([1,2,3]))\n",
    "assert(sommeFonctionelle([1,2,3]) == 6)"
   ]
  },
  {
   "cell_type": "markdown",
   "metadata": {},
   "source": [
    "Cette nouvelle proposition est \"encore plus\" fonctionnelle (elle n'utilise pas de boucles) mais pour arriver à ce résultat, elle exploite un mécanisme particulièrement étrange : **la fonction sommeFonctionnelle s'appelle elle même !**\n",
    "\n",
    "On dit que cette fonction est **récursive**.\n",
    "\n",
    "---\n",
    "### RETENIR\n",
    "\n",
    "On dit d'une fonction qui contient un appel recursif (qui s'appelle elle-même) que c'est une _fonction récursive_\n",
    "\n",
    "---"
   ]
  },
  {
   "cell_type": "markdown",
   "metadata": {},
   "source": [
    "## 2.Programmation récursive\n",
    "\n",
    "Cette vision est à rapprocher des suites définies par récurrence. \n",
    "\n",
    "Pour calculer $S_n=1 + ... + n$ on peut donner une définition itérative de cette suite : $$S_n = \\sum_{i=0}^{i=n} n$$\n",
    "On calcule alors $$S_1 = 1$$ $$S_2 = 1 + 2 = 3$$ $$S_3 = 1+2+3=6$$ $$S_4 = 1 + 2 + 3 + 4 = 10 $$  \n",
    "\n",
    "Mais on peut aussi choisir de définir cette suite par récurrence par  :\n",
    "$$\\begin{cases}\n",
    "S_0 = 0 \\\\\n",
    "S_n = n + S_{n-1}\n",
    "\\end{cases}\n",
    "$$\n",
    "Autrement dit, la somme des $n$ premiers entiers est égale à la somme des $n-1$ premiers entiers à laquelle on ajoute $n$.\n",
    "\n",
    "En utilisant cette définition, on calcule alors \n",
    "$$ S_0 = 0$$\n",
    "$$ S_1 = 1 + S_0 = 1 + 0 = 1$$\n",
    "$$ S_2 = 2 + S_1 = 2 + 1 = 3$$\n",
    "$$ S_3 = 3 + S_2 = 3 + 3 = 6$$\n",
    "$$ S_4 = 4 + S_3 = 4 + 6 = 10$$\n"
   ]
  },
  {
   "cell_type": "markdown",
   "metadata": {},
   "source": [
    "### 2.1 Etude de la suite des appels de la somme \"fonctionnelle\"\n",
    "Modifions un peu la fonction de départ pour que celle-ci indique ce qui se passe : \n",
    "* on ajoute une trace (qu'il faudra enlever, c'est un effet de bord indésirable !) à l'entrée de la fonction\n",
    "* on modifie un peu le retour pour afficher la valeur de retour avant que celle-ci soit exécutée"
   ]
  },
  {
   "cell_type": "code",
   "execution_count": 4,
   "metadata": {},
   "outputs": [
    {
     "name": "stdout",
     "output_type": "stream",
     "text": [
      "       Appel sommeFonctionnelle avec  [1, 2, 3]  de taille  3\n",
      "     Appel sommeFonctionnelle avec  [2, 3]  de taille  2\n",
      "   Appel sommeFonctionnelle avec  [3]  de taille  1\n",
      " Appel sommeFonctionnelle avec  []  de taille  0\n",
      " Liste vide, je retourne 0\n",
      "   Retour de sommeFonctionnelle avec  [3]  de taille  1  -->  3\n",
      "     Retour de sommeFonctionnelle avec  [2, 3]  de taille  2  -->  5\n",
      "       Retour de sommeFonctionnelle avec  [1, 2, 3]  de taille  3  -->  6\n",
      "6\n"
     ]
    }
   ],
   "source": [
    "def sommeFonctionelle(liste):\n",
    "    print(\"  \"*len(liste), \"Appel sommeFonctionnelle avec \", liste, \" de taille \", len(liste))\n",
    "    # si la liste est vide\n",
    "    if (len(liste) == 0):\n",
    "        print(\" Liste vide, je retourne 0\")\n",
    "        return 0\n",
    "    # sinon on extrait la première valeur, et on fait la somme de ce qui reste\n",
    "    valeurRetour = liste[0] + sommeFonctionelle(liste[1:])\n",
    "    print(\"  \"*(len(liste)), \"Retour de sommeFonctionnelle avec \", liste, \" de taille \", len(liste), \" --> \", valeurRetour)\n",
    "    return valeurRetour \n",
    "\n",
    "# testable\n",
    "\n",
    "print(sommeFonctionelle([1,2,3]))"
   ]
  },
  {
   "cell_type": "markdown",
   "metadata": {},
   "source": [
    "---\n",
    "\n",
    "### RETENIR\n",
    "\n",
    "\n",
    "``` \n",
    "sommeFonctionelle([1,2,3]) = return 1 + sommeFonctionnelle([2,3])\n",
    "                                                |\n",
    "                                                return 2 + sommeFonctionnelle([3])\n",
    "                                                                    |\n",
    "                                                                    return 3 + sommeFonctionnelle([])\n",
    "                                                                                        |\n",
    "                                                                                        0\n",
    "\n",
    "\n",
    "```\n",
    "Cette manière de présenter l'exécution d'un programme en indiquant les appels effectués est appelée un **arbre d'appel**.  \n",
    "\n",
    "---"
   ]
  },
  {
   "cell_type": "markdown",
   "metadata": {},
   "source": [
    "### 2.2 Comment construire une fonction récursive  \n",
    "---\n",
    "\n",
    "### RETENIR\n",
    "\n",
    "Une fonction récursive s'appelle elle-même. \n",
    "Le point le plus fondamental auquel il faut faire attention est...que la récursion doit s'arrêter.\n",
    "* On définit donc les conditions d'arrêt de la fonction (qui vont déclencher un ```return``` qui ne fera pas d'appel récursif) : on parle des **cas de base**\n",
    "* La définition de la partie récursive est souvent plus simple, mais il faut faire attention à ne pas construire d'appels avec des paramètres invalides. \n",
    "\n",
    "---\n",
    "\n"
   ]
  },
  {
   "cell_type": "markdown",
   "metadata": {},
   "source": [
    "## 3. Exercices classiques \n",
    "\n",
    "### 3.1 Classique : la factorielle. \n",
    "![Factorielle](http://villemin.gerard.free.fr/Wwwgvmm/Compter/FactProp_fichiers/image013.jpg)\n",
    "La factorielle $n!$ est définie comme le produit des $n$ premiers entiers. \n",
    "On a donc $$n! = 1 \\times 2 \\times \\ldots n$$\n",
    "\n",
    "Ecrire deux implémentations de la fonction factorielle, une itérative, l'autre récursive."
   ]
  },
  {
   "cell_type": "code",
   "execution_count": 5,
   "metadata": {},
   "outputs": [],
   "source": [
    "def factIteratif(n):\n",
    "    \"\"\"Calcul de n! (version itérative)\n",
    "\n",
    "    Args:\n",
    "        n: le nombre dont on calcule la factorielle\n",
    "\n",
    "    Returns:\n",
    "        n! si n > 1, 0 sinon\n",
    "\n",
    "    \"\"\"\n",
    "    if (n<=0):\n",
    "        return 0\n",
    "    prod = 1\n",
    "    for i in range(n):\n",
    "        prod = prod * (i+1)\n",
    "    return prod\n",
    "\n",
    "def factRecursif(n):\n",
    "    \"\"\"Calcul de n! (version récursive)\n",
    "\n",
    "    Args:\n",
    "        n: le nombre dont on calcule la factorielle\n",
    "\n",
    "    Returns:\n",
    "        n! si n > 1, 0 sinon\n",
    "\n",
    "    \"\"\"\n",
    "    if (n <=0):\n",
    "        return 0\n",
    "    if (n==1):\n",
    "        return 1\n",
    "    return n * factRecursif(n-1)\n"
   ]
  },
  {
   "cell_type": "code",
   "execution_count": 6,
   "metadata": {},
   "outputs": [],
   "source": [
    "# NE PAS MODIFIER MAIS EXECUTER APRES AVOIR REALISE l'EXERCICE\n",
    "# JEUX DE TESTS\n",
    "assert(factIteratif(-10) == 0)\n",
    "assert(factIteratif(1) == 1)\n",
    "assert(factIteratif(2) == 2)\n",
    "assert(factIteratif(3) == 6)\n",
    "assert(factIteratif(10) == 3628800)\n",
    "for i in range(-10, 10):\n",
    "    assert(factIteratif(i) == factRecursif(i))"
   ]
  },
  {
   "cell_type": "markdown",
   "metadata": {},
   "source": [
    "### 3.2 Classique : la suite de syracuse\n",
    "![Syracuse](http://villemin.gerard.free.fr/Wwwgvmm/Iteration/Syracus2_fichiers/image019.jpg)\n",
    "En mathématiques, on appelle suite de Syracuse une suite d'entiers naturels définie de la manière suivante : \n",
    "* on part d'un nombre entier plus grand que zéro \n",
    "* s’il est pair, on le divise par 2 \n",
    "* s’il est impair, on le multiplie par 3 et on ajoute 1. \n",
    "En répétant l’opération, on obtient une suite d'entiers positifs dont chacun ne dépend que de son prédécesseur.\n",
    "\n",
    "\n",
    "Par exemple, à partir de 14, on construit la suite des nombres : 14, 7, 22, 11, 34, 17, 52, 26, 13, 40, 20, 10, 5, 16, 8, 4, 2, 1, 4, 2… C'est ce qu'on appelle la suite de Syracuse du nombre 14.\n",
    "\n",
    "\n",
    "Après que le nombre 1 a été atteint, la suite des valeurs (1,4,2,1,4,2…) se répète indéfiniment en un cycle de longueur 3, appelé cycle trivial.\n",
    "\n",
    "\n",
    "Si l'on était parti d'un autre entier, en lui appliquant les mêmes règles, on aurait obtenu une suite de nombres différente. A priori, il serait possible que la suite de Syracuse de certaines valeurs de départ n'atteigne jamais la valeur 1, soit qu'elle aboutisse à un cycle différent du cycle trivial, soit qu'elle diverge vers l'infini. Or, on n'a jamais trouvé d'exemple de suite obtenue suivant les règles données qui n'aboutisse pas à 1, puis au cycle trivial.\n",
    "\n",
    "La conjecture de Syracuse, encore appelée conjecture de Collatz, conjecture d'Ulam, conjecture tchèque ou problème 3x + 1, est l'hypothèse mathématique selon laquelle la suite de Syracuse de n'importe quel entier strictement positif atteint 1.\n",
    "\n",
    "En dépit de la simplicité de son énoncé, cette conjecture défie depuis de nombreuses années les mathématiciens. Paul Erdős a dit à propos de la conjecture de Syracuse : \"les mathématiques ne sont pas encore prêtes pour de tels problèmes\".\n",
    "\n",
    "* a) Ecrire une fonction récursive qui calcule la valeur suivant $n$ de la suite de Syracuse et faire afficher (non récursif) la suite de Syracuse pour $n=15$ tant que celle-ci ne prend pas la valeur $1$.\n",
    "\n",
    "* BONUS :\n",
    "    * b) On appelle \"temps de vol\" d'un nombre $n$ le nombre d'étapes pour que la suite de Syracuse atteigne la valeur $1$.\n",
    "    \n",
    "    Vérifier que le \"temps de vol\" de $77671$ est $231$\n",
    "    \n",
    "    * c) Le plus grand nombre obtenu dans la suite est appelé \"l'altitude maximale du vol\", vérifier que l'altitude maximale de vol pour $77671$  est $1570824736$\n"
   ]
  },
  {
   "cell_type": "code",
   "execution_count": 7,
   "metadata": {},
   "outputs": [
    {
     "name": "stdout",
     "output_type": "stream",
     "text": [
      "Terminé, n= 1.0  altitude= 1570824736.0  temps de vol =  231\n"
     ]
    }
   ],
   "source": [
    "def syracuse(n):\n",
    "    if (n % 2 == 0):\n",
    "        return n/2\n",
    "    return 3*n + 1\n",
    "\n",
    "n = 77671\n",
    "altitude = n\n",
    "tempsVol = 0\n",
    "while (n>1):\n",
    "    # print(\"N=\", n)\n",
    "    if (altitude < n):\n",
    "        altitude = n\n",
    "    tempsVol = tempsVol + 1\n",
    "    n = syracuse(n)\n",
    "print(\"Terminé, n=\",n, \" altitude=\", altitude, \" temps de vol = \", tempsVol)\n",
    "    "
   ]
  },
  {
   "cell_type": "code",
   "execution_count": 8,
   "metadata": {},
   "outputs": [],
   "source": [
    "# NE PAS MODIFIER MAIS EXECUTER APRES AVOIR REALISE l'EXERCICE\n",
    "# JEUX DE TESTS\n",
    "assert(factIteratif(-10) == 0)\n",
    "assert(factIteratif(1) == 1)"
   ]
  },
  {
   "cell_type": "markdown",
   "metadata": {},
   "source": [
    "### 3.3 Classique : Les lapins de Fibonacci\n",
    "![Lapins](http://www.maths.surrey.ac.uk/hosted-sites/R.Knott/Fibonacci/manyrab.gif)\n"
   ]
  },
  {
   "cell_type": "code",
   "execution_count": null,
   "metadata": {},
   "outputs": [],
   "source": []
  }
 ],
 "metadata": {
  "kernelspec": {
   "display_name": "Python 3",
   "language": "python",
   "name": "python3"
  },
  "language_info": {
   "codemirror_mode": {
    "name": "ipython",
    "version": 3
   },
   "file_extension": ".py",
   "mimetype": "text/x-python",
   "name": "python",
   "nbconvert_exporter": "python",
   "pygments_lexer": "ipython3",
   "version": "3.7.4"
  }
 },
 "nbformat": 4,
 "nbformat_minor": 2
}
