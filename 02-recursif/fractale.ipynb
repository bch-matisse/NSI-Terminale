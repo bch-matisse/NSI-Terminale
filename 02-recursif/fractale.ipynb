{
 "cells": [
  {
   "cell_type": "code",
   "execution_count": 2,
   "metadata": {},
   "outputs": [],
   "source": [
    "from turtle import *"
   ]
  },
  {
   "cell_type": "code",
   "execution_count": 18,
   "metadata": {},
   "outputs": [],
   "source": [
    "def avance(longueur, n):\n",
    "    if (n==0):\n",
    "        forward(longueur)\n",
    "        return\n",
    "        \n",
    "    avance(longueur//3, n-1)\n",
    "    left(90)\n",
    "    avance(longueur//5, n-1)\n",
    "    right(90)\n",
    "    avance(longueur//3, n-1)\n",
    "    right(90)\n",
    "    avance(longueur//5, n-1)\n",
    "    left(90)\n",
    "    avance(longueur//3, n-1)\n",
    "   \n",
    "    \n",
    "    return\n",
    "\n",
    "goto(0,0)\n",
    "clear()\n",
    "\n",
    "speed(0)\n",
    "for i in range(4)        :\n",
    "    avance(200,3)\n",
    "    left(90)\n",
    "\n",
    "        \n",
    "exitonclick()"
   ]
  },
  {
   "cell_type": "code",
   "execution_count": 93,
   "metadata": {
    "scrolled": false
   },
   "outputs": [],
   "source": [
    "from turtle import *\n",
    "\n",
    "def back(position, angle):\n",
    "    goto(position[0], position[1])\n",
    "    setheading(angle)\n",
    "\n",
    "def branche(longueur, n):\n",
    "    pendown()\n",
    "    pensize(n)\n",
    "    forward(longueur//2)\n",
    "    penup()\n",
    "    \n",
    "    if n>1:\n",
    "        position = pos()\n",
    "        angle = heading()\n",
    "        branche(longueur//2,n-1)\n",
    "        back(position, angle)\n",
    "        left(90)\n",
    "        branche(longueur//2,n-1)\n",
    "        back(position, angle)\n",
    "        right(90)\n",
    "        branche(longueur//2,n-1)\n",
    "        back(position, angle)\n",
    "\n",
    "    \n",
    "    \n",
    "speed(0)\n",
    "N = 6\n",
    "reset()    \n",
    "setheading(0)\n",
    "\n",
    "position = pos()\n",
    "angle = heading()\n",
    "\n",
    "for i in range(4):\n",
    "    branche(300,N)\n",
    "    goto(position[0], position[1])\n",
    "    left(90)\n",
    "\n",
    "exitonclick()\n"
   ]
  },
  {
   "cell_type": "code",
   "execution_count": null,
   "metadata": {},
   "outputs": [],
   "source": []
  },
  {
   "cell_type": "code",
   "execution_count": null,
   "metadata": {},
   "outputs": [],
   "source": []
  }
 ],
 "metadata": {
  "kernelspec": {
   "display_name": "Python 3",
   "language": "python",
   "name": "python3"
  },
  "language_info": {
   "codemirror_mode": {
    "name": "ipython",
    "version": 3
   },
   "file_extension": ".py",
   "mimetype": "text/x-python",
   "name": "python",
   "nbconvert_exporter": "python",
   "pygments_lexer": "ipython3",
   "version": "3.7.4"
  }
 },
 "nbformat": 4,
 "nbformat_minor": 2
}
