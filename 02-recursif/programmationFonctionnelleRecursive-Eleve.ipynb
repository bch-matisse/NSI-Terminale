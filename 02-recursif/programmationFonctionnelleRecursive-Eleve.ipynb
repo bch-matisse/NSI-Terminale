{
 "cells": [
  {
   "cell_type": "markdown",
   "metadata": {},
   "source": [
    "# Incursion dans la programmation fonctionnelle : récursivité\n",
    "![Fonctionnel](http://modelagnostic.co.uk/images/a/3/9/9/4/a39945ca092081f9b7dbf18932bc1f3ec93a184e-screen-shot-2018-11-12-at-103020.png)\n",
    "## 1.Le style de programmation fonctionnel\n",
    "Pour calculer la somme d'un tableau de nombres...On a pas le choix, il va falloir additionner chacune des valeurs contenues dans le tableau. On peut proposer quelque chose comme ça :"
   ]
  },
  {
   "cell_type": "code",
   "execution_count": null,
   "metadata": {},
   "outputs": [],
   "source": [
    "# Version ABJECTE, ne pas faire ça à la maison...\n",
    "\n",
    "# Variables globales\n",
    "liste = [1,2,3]\n",
    "\n",
    "# Fonctions\n",
    "\n",
    "def sommeIteratif():\n",
    "    somme = 0\n",
    "    for i in range(len(liste)):\n",
    "        somme = somme + liste[0]\n",
    "        liste.remove(liste[0])       \n",
    "    print(somme)\n",
    "\n",
    "    \n",
    "# Programme principal \n",
    "print(\"liste=\",liste)\n",
    "print(\"Appel de sommeIteratif()\")\n",
    "sommeIteratif()\n",
    "print(\"Tout va bien...?\")\n",
    "\n",
    "# pas réentrant (si on l'exécute deux fois, ça devient étrange...)\n",
    "print(\"Non : elle n'est pas réentrante, si on l'exécute deux fois le résultat change \")\n",
    "print(\"Appel de sommeIteratif()\")\n",
    "sommeIteratif()\n",
    "# en plus elle a tout cassé (effet de bord)\n",
    "print(\"Et en plus elle a des effets de bord : liste=\",liste)\n",
    "print(\"Elle n'est pas testable...\")\n"
   ]
  },
  {
   "cell_type": "markdown",
   "metadata": {},
   "source": [
    "Ce programme, \"fonctionne\" (ça se discute, qu'est-ce qu'il est sensé faire au juste ?) mais il a de nombreuses faiblesses : \n",
    "* La fonction ```sommeIteratif``` utilise des variables du programme principal directement, elle ne peut donc pas être réexploitée dans un nouveau contexte et ne peut même pas être testée en dehors de ce programme précis !\n",
    "* La fonction traite elle même l'affichage, si je veux utiliser cette fonction pour calculer une moyenne, je ne peux pas\n",
    "* Elle ne peut pas être exécutée plusieurs fois, deux exécutions successives ne donnent pas le même résultat (elle modifie une variable extérireure) on dit qu'elle a un **effet de bord** ou encore qu'elle n'est pas **réentrante**\n",
    "\n",
    "---\n",
    "### RETENIR\n",
    "\n",
    "Pour éviter ces problèmes on peut adopter un \"style\" fonctionnel, en se conformant aux contraintes suivantes : \n",
    "* les traitements devraient être contenus dans des fonctions\n",
    "* les fonctions utilisent exclusivement leurs paramètres, \n",
    "* elles ne modifient aucune variable extérieure, elles ne peuvent que renvoyer un nouveau résultat\n",
    "* elles ne doivent avoir aucun effet de bord (pas d'affichage ni de saisie par exemple...)\n",
    "---"
   ]
  },
  {
   "cell_type": "code",
   "execution_count": null,
   "metadata": {},
   "outputs": [],
   "source": [
    "# Version impérative sans effet de bord\n",
    "\n",
    "# Pas de variables globales\n",
    "\n",
    "# Fonctions\n",
    "\n",
    "def sommeIteratif(liste):\n",
    "    somme = 0\n",
    "    for i in range(len(liste)):\n",
    "        somme = somme + liste[i]\n",
    "    return somme\n",
    "\n",
    "# Programme principal\n",
    "\n",
    "print(sommeIteratif([1,2,3]))\n",
    "\n",
    "# la fonction est testable\n",
    "assert(sommeIteratif([1,2,3]) == 6)\n",
    "# et réentrante (si on l'exécute deux fois elle donne le même résultat)\n",
    "assert(sommeIteratif([1,2,3]) == 6)\n",
    "\n",
    "# et qui permet d'être utilisée pour d'autres fonctions\n",
    "def moyenneIteratif(liste):\n",
    "    return sommeIteratif(liste) / len(liste)\n",
    "\n",
    "print(moyenneIteratif([1,2,3]))"
   ]
  },
  {
   "cell_type": "markdown",
   "metadata": {},
   "source": [
    "Si on veut aller plus loin, on peut chercher à se débarasser de tout ce qui n'est pas à proprement parler fonctionnel...\n",
    "On pourrait par exemple chercher à se débarasser de la boucle...\n",
    "\n",
    "Idée : Pour parcourir un tableau, on commence par regarder le premier élément, puis...on parcourt le tableau constitué des éléments qui reste (qui est strictement plus court). Si le tableau que l'on souhaite parcourir est vide, on ne fait rien.\n"
   ]
  },
  {
   "cell_type": "code",
   "execution_count": null,
   "metadata": {},
   "outputs": [],
   "source": [
    "def sommeFonctionelle(liste):\n",
    "    # si la liste est vide\n",
    "    if (len(liste) == 0):\n",
    "        return 0\n",
    "    # sinon on extrait la première valeur, et on fait la somme de ce qui reste\n",
    "    return liste[0] + sommeFonctionelle(liste[1:])\n",
    "\n",
    "# testable\n",
    "print(sommeFonctionelle([1,2,3]))\n",
    "assert(sommeFonctionelle([1,2,3]) == 6)"
   ]
  },
  {
   "cell_type": "markdown",
   "metadata": {},
   "source": [
    "Cette nouvelle proposition est \"encore plus\" fonctionnelle (elle n'utilise pas de boucles) mais pour arriver à ce résultat, elle exploite un mécanisme particulièrement étrange : **la fonction sommeFonctionnelle s'appelle elle même !**\n",
    "\n",
    "On dit que cette fonction est **récursive**.\n",
    "\n",
    "---\n",
    "### RETENIR\n",
    "\n",
    "On dit d'une fonction qui contient un appel recursif (qui s'appelle elle-même) que c'est une _fonction récursive_\n",
    "\n",
    "---"
   ]
  },
  {
   "cell_type": "markdown",
   "metadata": {},
   "source": [
    "## 2.Programmation récursive\n",
    "\n",
    "Cette vision est à rapprocher des suites définies par récurrence. \n",
    "\n",
    "Pour calculer $S_n=1 + ... + n$ on peut donner une définition itérative de cette suite : $$S_n = \\sum_{i=0}^{i=n} n$$\n",
    "On calcule alors $$S_1 = 1$$ $$S_2 = 1 + 2 = 3$$ $$S_3 = 1+2+3=6$$ $$S_4 = 1 + 2 + 3 + 4 = 10 $$  \n",
    "\n",
    "Mais on peut aussi choisir de définir cette suite par récurrence par  :\n",
    "$$\\begin{cases}\n",
    "S_0 = 0 \\\\\n",
    "S_n = n + S_{n-1}\n",
    "\\end{cases}\n",
    "$$\n",
    "Autrement dit, la somme des $n$ premiers entiers est égale à la somme des $n-1$ premiers entiers à laquelle on ajoute $n$.\n",
    "\n",
    "En utilisant cette définition, on calcule alors \n",
    "$$ S_0 = 0$$\n",
    "$$ S_1 = 1 + S_0 = 1 + 0 = 1$$\n",
    "$$ S_2 = 2 + S_1 = 2 + 1 = 3$$\n",
    "$$ S_3 = 3 + S_2 = 3 + 3 = 6$$\n",
    "$$ S_4 = 4 + S_3 = 4 + 6 = 10$$\n"
   ]
  },
  {
   "cell_type": "markdown",
   "metadata": {},
   "source": [
    "### 2.1 Etude de la suite des appels de la somme \"fonctionnelle\"\n",
    "Modifions un peu la fonction de départ pour que celle-ci indique ce qui se passe : \n",
    "* on ajoute une trace (qu'il faudra enlever, c'est un effet de bord indésirable !) à l'entrée de la fonction\n",
    "* on modifie un peu le retour pour afficher la valeur de retour avant que celle-ci soit exécutée"
   ]
  },
  {
   "cell_type": "code",
   "execution_count": null,
   "metadata": {},
   "outputs": [],
   "source": [
    "def sommeFonctionelle(liste):\n",
    "    print(\"  \"*len(liste), \"Appel sommeFonctionnelle avec \", liste, \" de taille \", len(liste))\n",
    "    # si la liste est vide\n",
    "    if (len(liste) == 0):\n",
    "        print(\" Liste vide, je retourne 0\")\n",
    "        return 0\n",
    "    # sinon on extrait la première valeur, et on fait la somme de ce qui reste\n",
    "    valeurRetour = liste[0] + sommeFonctionelle(liste[1:])\n",
    "    print(\"  \"*(len(liste)), \"Retour de sommeFonctionnelle avec \", liste, \" de taille \", len(liste), \" --> \", valeurRetour)\n",
    "    return valeurRetour \n",
    "\n",
    "# testable\n",
    "\n",
    "print(sommeFonctionelle([1,2,3]))"
   ]
  },
  {
   "cell_type": "markdown",
   "metadata": {},
   "source": [
    "---\n",
    "\n",
    "### RETENIR\n",
    "\n",
    "\n",
    "``` \n",
    "sommeFonctionelle([1,2,3]) = return 1 + sommeFonctionnelle([2,3])\n",
    "                                                |\n",
    "                                                return 2 + sommeFonctionnelle([3])\n",
    "                                                                    |\n",
    "                                                                    return 3 + sommeFonctionnelle([])\n",
    "                                                                                        |\n",
    "                                                                                        return 0\n",
    "\n",
    "\n",
    "```\n",
    "Cette manière de présenter l'exécution d'un programme en indiquant les appels effectués est appelée un **arbre d'appel**.  \n",
    "\n",
    "---"
   ]
  },
  {
   "cell_type": "markdown",
   "metadata": {},
   "source": [
    "### 2.2 Comment construire une fonction récursive  \n",
    "---\n",
    "\n",
    "### RETENIR\n",
    "\n",
    "Une fonction récursive s'appelle elle-même. \n",
    "Le point le plus fondamental auquel il faut faire attention est...que la récursion doit s'arrêter.\n",
    "* On définit donc les conditions d'arrêt de la fonction (qui vont déclencher un ```return``` qui ne fera pas d'appel récursif) : on parle des **cas de base**\n",
    "* La définition de la partie récursive est souvent plus simple, mais il faut faire attention à ne pas construire d'appels avec des paramètres invalides. \n",
    "\n",
    "---\n",
    "\n"
   ]
  },
  {
   "cell_type": "markdown",
   "metadata": {},
   "source": [
    "## 3. Exercices classiques \n",
    "\n",
    "### 3.1 Classique : la factorielle. \n",
    "La factorielle compte le nombre de façons différentes de choisir $n$ objets parmi $n$ choix possibles en tenant compte de l'ordre.  \n",
    "Si un DS se compose de 3 exercices, je peux commencer par l'exercice 1, 2 ou 3 (selon mon inspiration).  \n",
    "J'ai donc trois possibilités pour l'exercice par lequel je vais commencer.  \n",
    "Pour l'exercice suivant, il me reste deux exercices à traiter. Je choisis donc mon second exercice parmi les deux choix qui restent.   \n",
    "Et je termine nécessairement par celui qui reste (pas le choix). \n",
    "\n",
    "Il y a ainsi $6 = 3 \\times 2 \\times 1$ façons différentes de réaliser mon devoir. \n",
    "\n",
    "La factorielle $n !$ est définie comme le produit des $n$ premiers entiers. \n",
    "On a donc $$n! = 1 \\times 2 \\times \\ldots n$$\n",
    "\n",
    "![Factorielle](http://villemin.gerard.free.fr/Wwwgvmm/Compter/FactProp_fichiers/image013.jpg)\n",
    "\n",
    "\n",
    "**Ecrire deux implémentations de la fonction factorielle, une itérative, l'autre récursive.**"
   ]
  },
  {
   "cell_type": "code",
   "execution_count": null,
   "metadata": {},
   "outputs": [],
   "source": [
    "def factIteratif(n):\n",
    "    \"\"\"Calcul de n! (version itérative)\n",
    "\n",
    "    Args:\n",
    "        n: le nombre dont on calcule la factorielle\n",
    "\n",
    "    Returns:\n",
    "        n!= n * ... * 1  si n > 1, 0 sinon\n",
    "\n",
    "    \"\"\"\n",
    "    return 42\n",
    "\n",
    "def factRecursif(n):\n",
    "    \"\"\"Calcul de n! (version récursive)\n",
    "\n",
    "    Args:\n",
    "        n: le nombre dont on calcule la factorielle\n",
    "\n",
    "    Returns:\n",
    "        n! si n > 1, 0 sinon\n",
    "\n",
    "    \"\"\"\n",
    "    return 42\n"
   ]
  },
  {
   "cell_type": "code",
   "execution_count": null,
   "metadata": {},
   "outputs": [],
   "source": [
    "# NE PAS MODIFIER MAIS EXECUTER APRES AVOIR REALISE l'EXERCICE\n",
    "# JEUX DE TESTS\n",
    "assert(factIteratif(-10) == 0)\n",
    "assert(factIteratif(1) == 1)\n",
    "assert(factIteratif(2) == 2)\n",
    "assert(factIteratif(3) == 6)\n",
    "assert(factIteratif(10) == 3628800)\n",
    "for i in range(-10, 10):\n",
    "    assert(factIteratif(i) == factRecursif(i))"
   ]
  },
  {
   "cell_type": "markdown",
   "metadata": {},
   "source": [
    "### 3.2 Classique : la suite de syracuse\n",
    "![Syracuse](http://villemin.gerard.free.fr/Wwwgvmm/Iteration/Syracus2_fichiers/image019.jpg)\n",
    "En mathématiques, on appelle suite de Syracuse une suite d'entiers naturels définie de la manière suivante : \n",
    "* on part d'un nombre entier plus grand que zéro \n",
    "* s’il est pair, on le divise par 2 \n",
    "* s’il est impair, on le multiplie par 3 et on ajoute 1. \n",
    "En répétant l’opération, on obtient une suite d'entiers positifs dont chacun ne dépend que de son prédécesseur.\n",
    "\n",
    "\n",
    "Par exemple, à partir de 14, on construit la suite des nombres : 14, 7, 22, 11, 34, 17, 52, 26, 13, 40, 20, 10, 5, 16, 8, 4, 2, 1, 4, 2… C'est ce qu'on appelle la suite de Syracuse du nombre 14.\n",
    "\n",
    "\n",
    "Après que le nombre 1 a été atteint, la suite des valeurs (1,4,2,1,4,2…) se répète indéfiniment en un cycle de longueur 3, appelé cycle trivial.\n",
    "\n",
    "\n",
    "Si l'on était parti d'un autre entier, en lui appliquant les mêmes règles, on aurait obtenu une suite de nombres différente. A priori, il serait possible que la suite de Syracuse de certaines valeurs de départ n'atteigne jamais la valeur 1, soit qu'elle aboutisse à un cycle différent du cycle trivial, soit qu'elle diverge vers l'infini. Or, on n'a jamais trouvé d'exemple de suite obtenue suivant les règles données qui n'aboutisse pas à 1, puis au cycle trivial.\n",
    "\n",
    "La conjecture de Syracuse, encore appelée conjecture de Collatz, conjecture d'Ulam, conjecture tchèque ou problème 3x + 1, est l'hypothèse mathématique selon laquelle la suite de Syracuse de n'importe quel entier strictement positif atteint 1.\n",
    "\n",
    "En dépit de la simplicité de son énoncé, cette conjecture défie depuis de nombreuses années les mathématiciens. Paul Erdős a dit à propos de la conjecture de Syracuse : \"les mathématiques ne sont pas encore prêtes pour de tels problèmes\".\n",
    "\n",
    "![Erdös](https://upload.wikimedia.org/wikipedia/commons/thumb/2/2f/Erdos_budapest_fall_1992_%28cropped%29.jpg/220px-Erdos_budapest_fall_1992_%28cropped%29.jpg)\n",
    "\n",
    "* a) Ecrire une fonction récursive qui calcule la valeur suivant $n$ de la suite de Syracuse et faire afficher (non récursif) la suite de Syracuse pour $n=15$ tant que celle-ci ne prend pas la valeur $1$.\n",
    "\n",
    "* BONUS :\n",
    "    * b) On appelle \"temps de vol\" d'un nombre $n$ le nombre d'étapes pour que la suite de Syracuse atteigne la valeur $1$.\n",
    "    \n",
    "    Vérifier que le \"temps de vol\" de $77671$ est $231$\n",
    "    \n",
    "    * c) Le plus grand nombre obtenu dans la suite est appelé \"l'altitude maximale du vol\", vérifier que l'altitude maximale de vol pour $77671$  est $1570824736$\n"
   ]
  },
  {
   "cell_type": "code",
   "execution_count": null,
   "metadata": {},
   "outputs": [],
   "source": [
    "def syracuse(n):\n",
    "    return 42\n",
    "\n",
    "print(syracuse(1))\n",
    "print(syracuse(10))\n",
    "print(syracuse(7761))\n",
    "    "
   ]
  },
  {
   "cell_type": "code",
   "execution_count": null,
   "metadata": {},
   "outputs": [],
   "source": [
    "# NE PAS MODIFIER MAIS EXECUTER APRES AVOIR REALISE l'EXERCICE\n",
    "# JEUX DE TESTS\n",
    "assert(syracuse(1) == 4)\n",
    "assert(syracuse(10) == 5)\n",
    "assert(syracuse(7761) == 23284)"
   ]
  },
  {
   "cell_type": "markdown",
   "metadata": {},
   "source": [
    "### 3.3 Classique : Les lapins de Fibonacci\n",
    "![Lapins](http://www.maths.surrey.ac.uk/hosted-sites/R.Knott/Fibonacci/manyrab.gif)\n",
    "\n",
    "Un jour Bébé lapin deviendra grand et sera en mesure de procréer.  Il lui faudra pour cela attendre un mois...\n",
    "\n",
    "\n",
    "\n",
    "* Supposons que, chaque mois, un couple de lapins donne naissance à un autre couple de lapin (consanguinité mise de côté). \n",
    "\n",
    "\n",
    "En commençant par un couple, le mois suivant, il y en aura 2 puis 4, puis 8.\n",
    "En fait, au mois n, ils seront $2^n$ et la progression est exponentielle.\n",
    "\n",
    "* Oui, mais bébé lapin doit devenir grand pour être en mesure de procréer.\n",
    " \n",
    "\n",
    "**Les naissances des lapins selon Fibonacci**\n",
    "\n",
    "* En janvier un jeune couple de lapins est réuni.\n",
    "* En février, ce couple donne naissance à un couple de lapereaux.\n",
    "\n",
    "* La suite suit les règles suivantes:\n",
    "    * Un couple adulte donne naissance à un couple de lapereaux tous les mois;\n",
    "    * Par contre un couple de lapereaux doit attendre un mois avant d'atteindre sa maturité et, adulte, se mettre à procréer tous les mois.\n",
    "\n",
    "![Fibonacci](https://upload.wikimedia.org/wikipedia/commons/thumb/4/4a/Fibonacci_lapins.svg/800px-Fibonacci_lapins.svg.png)\n",
    "\n",
    "**a) Programmer une fonction récursive qui donne le nombre de couples de lapin au mois $N$**  \n",
    "\n",
    "La suite obtenue (1, 1, 2, 3, 5, 7...) est très célébre et porte le nom de son inventeur : la suite de Fibonacci.\n",
    "\n",
    "Le taux de croissance des nombres de Fibonacci, c'est-à-dire $ \\frac{fibonacci(n+1)}{fibonnaci(n)} $ converge vers un nombre lui aussi très célèbre : le nombre d'or.    \n",
    "\n",
    "**b) Donnez une estimation à 0.001 prêt.** (il faut donc chercher à partir de quel rang le rapport entre deux élèments successifs de la suite de Fibonacci arrête de \"trop\" varier). On pourra utiliser la fonction ```abs``` qui calcule une valeur absolue pour se débarasser des problèmes de signes quand on calcule les variations du taux de croissance.\n"
   ]
  },
  {
   "cell_type": "code",
   "execution_count": null,
   "metadata": {},
   "outputs": [],
   "source": [
    "def fibonacci(n):\n",
    "    return 42\n",
    "\n",
    "def rapport(n):\n",
    "    return 0.42\n",
    "\n",
    "print(\"9 premiers termes de la suite de Fibonacci\")\n",
    "for i in range(10):\n",
    "    print(fibonacci(i))\n",
    "\n",
    "print(\"Calcul du nombre d'or\")   \n"
   ]
  },
  {
   "cell_type": "code",
   "execution_count": null,
   "metadata": {},
   "outputs": [],
   "source": [
    "# NE PAS MODIFIER MAIS EXECUTER APRES AVOIR REALISE l'EXERCICE\n",
    "# JEUX DE TESTS\n",
    "assert(fibonacci(1) == 1)\n",
    "assert(fibonacci(9) == 34)\n",
    "assert(fibonacci(9) == 34)\n",
    "assert(rapport(7) - 1.625 < 0.01)"
   ]
  },
  {
   "cell_type": "code",
   "execution_count": null,
   "metadata": {},
   "outputs": [],
   "source": []
  }
 ],
 "metadata": {
  "kernelspec": {
   "display_name": "Python 3",
   "language": "python",
   "name": "python3"
  },
  "language_info": {
   "codemirror_mode": {
    "name": "ipython",
    "version": 3
   },
   "file_extension": ".py",
   "mimetype": "text/x-python",
   "name": "python",
   "nbconvert_exporter": "python",
   "pygments_lexer": "ipython3",
   "version": "3.7.4"
  }
 },
 "nbformat": 4,
 "nbformat_minor": 2
}
