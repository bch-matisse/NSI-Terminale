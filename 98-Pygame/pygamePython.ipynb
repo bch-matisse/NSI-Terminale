{
 "cells": [
  {
   "cell_type": "code",
   "execution_count": 1,
   "metadata": {},
   "outputs": [
    {
     "name": "stdout",
     "output_type": "stream",
     "text": [
      "pygame 1.9.4\n",
      "Hello from the pygame community. https://www.pygame.org/contribute.html\n"
     ]
    },
    {
     "data": {
      "text/plain": [
       "(6, 0)"
      ]
     },
     "execution_count": 1,
     "metadata": {},
     "output_type": "execute_result"
    }
   ],
   "source": [
    "import pygame\n",
    "pygame.init()"
   ]
  },
  {
   "cell_type": "code",
   "execution_count": 2,
   "metadata": {
    "collapsed": true
   },
   "outputs": [],
   "source": [
    "pygame.display.init()\n",
    "run=True\n",
    "#screensize\n",
    "screensize = (width,height)=(600,600)\n",
    "screen = pygame.display.set_mode(screensize)\n",
    "\n",
    "#font used for the text\n",
    "myfont = pygame.font.SysFont('Comic Sans MS', 30)\n",
    "#the text that will be rendered. It is usually some variable value, but the problem remains even if it is constant:\n",
    "vel=3.001\n",
    "\n",
    "\n",
    "while run:\n",
    "    pygame.time.delay(20)\n",
    "    for event in pygame.event.get():\n",
    "        if event.type == pygame.QUIT:\n",
    "            run=False \n",
    "    screen.fill((0,0,0))\n",
    "    ########rendering the text############\n",
    "    textsurface = myfont.render(str(int(vel)), False, (0, 100, 100))\n",
    "    screen.blit(textsurface,(200,400))\n",
    "    ######################################\n",
    "\n",
    "    pygame.display.update()\n",
    "\n",
    "pygame.display.quit()"
   ]
  },
  {
   "cell_type": "code",
   "execution_count": null,
   "metadata": {
    "collapsed": true
   },
   "outputs": [],
   "source": []
  }
 ],
 "metadata": {
  "kernelspec": {
   "display_name": "Python 3",
   "language": "python",
   "name": "python3"
  },
  "language_info": {
   "codemirror_mode": {
    "name": "ipython",
    "version": 3
   },
   "file_extension": ".py",
   "mimetype": "text/x-python",
   "name": "python",
   "nbconvert_exporter": "python",
   "pygments_lexer": "ipython3",
   "version": "3.4.5"
  }
 },
 "nbformat": 4,
 "nbformat_minor": 2
}
