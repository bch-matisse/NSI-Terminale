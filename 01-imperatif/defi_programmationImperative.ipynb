{
 "cells": [
  {
   "cell_type": "markdown",
   "metadata": {},
   "source": [
    "# Quelques katas histoire de voir...\n",
    "![kata](https://www.nankov.com/static/513d57a03f24684ba6f1f88c1edbde88/c35de/featured.jpg)\n",
    "\n",
    "## 1. Le like à la Facebook\n",
    "\n",
    "![likes](https://www.socialmediaexaminer.com/wp-content/uploads/2016/04/kh-engage-as-page-1.png)\n",
    "\n",
    "Tu connais surement le système de \"likes\" de Facebook. Les utilisateurs peuvent \"like\" un post, une image...  \n",
    "\n",
    "Il faut recréer le texte qui est affiché en bas du contenu pour indiquer si le contenu est apprécié..."
   ]
  },
  {
   "cell_type": "code",
   "execution_count": null,
   "metadata": {},
   "outputs": [],
   "source": [
    "def likes(tab):\n",
    "    return \"Personne n'aime ça\""
   ]
  },
  {
   "cell_type": "code",
   "execution_count": null,
   "metadata": {},
   "outputs": [],
   "source": [
    "assert(likes([]) == \"Personne n'aime ça\")\n",
    "assert(likes([\"Pierre\"]) == \"Pierre aime ça\")\n",
    "assert(likes([\"Jacques\", \"Alex\"]) == \"Jacques et Alex aiment ça\")\n",
    "assert(likes([\"Maxime\", \"Jean\", \"Marc\"]) == \"Maxime, Jean et Marc aiment ça\")\n",
    "assert(likes([\"Alex\", \"Jean\", \"Marc\", \"Maxime\"]) == \"Alex, Jean et 2 autres aiment ça\")"
   ]
  },
  {
   "cell_type": "markdown",
   "metadata": {},
   "source": [
    "## 2. Persistance\n",
    "Ecris une fonction, persistance, qui prends en paramètre un entier positif, et qui retourne sa **persistance multiplicative**. \n",
    "Bon...c'est quoi la persistance multiplicative ? \n",
    "C'est le nombre de fois ou tu dois multiplier les chiffres qui le compose pour atteindre un résultat à un seul chiffre..."
   ]
  },
  {
   "cell_type": "code",
   "execution_count": null,
   "metadata": {},
   "outputs": [],
   "source": [
    "def persistance(n):\n",
    "    return 3"
   ]
  },
  {
   "cell_type": "code",
   "execution_count": null,
   "metadata": {},
   "outputs": [],
   "source": [
    "assert(persistance(39) == 3)  # 3*9 = 27, 2*7 = 14, 1*4=4, 4 est composé d'un seul chiffre\n",
    "assert(persistance(999) == 4) # 9*9*9 = 729, 7*2*9 = 126, 1*2*6 = 12, et... 1*2 = 2.\n",
    "assert(persistance(4) == 0)   # pourquoi pas ?"
   ]
  },
  {
   "cell_type": "markdown",
   "metadata": {},
   "source": [
    "## 3. triple_trouble...\n",
    "Crée une fonction ```triple_trouble``` qui prends en paramètre trois chaînes de caractères de même taille et retourne une nouvelle chaîne de caractère qui combine les lettres de trois groupes en concaténant les un à côté des autres. \n",
    "**(voir les tests proposés, ce sera plus clair)**\n",
    "Proposez la fonction qui fait l'opération inverse en prenant une chaîne de caractère dont la taille est un multiple de 3 et qui reconstruit trois groupes dans lesquels piocher...\n"
   ]
  },
  {
   "cell_type": "code",
   "execution_count": null,
   "metadata": {},
   "outputs": [],
   "source": [
    "def triple_trouble(one, two, three):\n",
    "    return \"abcabcabc\"\n",
    "\n",
    "def trouble_triple(entree):\n",
    "    return \"aaa\", \"bbb\", \"ccc\""
   ]
  },
  {
   "cell_type": "code",
   "execution_count": null,
   "metadata": {},
   "outputs": [],
   "source": [
    "assert(triple_trouble(\"aaa\",\"bbb\",\"ccc\") == \"abcabcabc\")\n",
    "assert(triple_trouble(\"aaaaaa\",\"bbbbbb\",\"cccccc\") == \"abcabcabcabcabcabc\")\n",
    "assert(triple_trouble(\"burn\", \"reds\", \"roll\") == \"brrueordlnsl\")\n",
    "assert(triple_trouble(\"Bm\", \"aa\", \"tn\") == \"Batman\")\n",
    "assert(triple_trouble(\"LLh\", \"euo\", \"xtr\") == \"LexLuthor\")\n",
    "\n",
    "a,b,c = trouble_triple(\"LexLuthor\")\n",
    "assert(triple_trouble(a,b,c) == \"LexLuthor\")"
   ]
  },
  {
   "cell_type": "code",
   "execution_count": null,
   "metadata": {},
   "outputs": [],
   "source": []
  }
 ],
 "metadata": {
  "kernelspec": {
   "display_name": "Python 3",
   "language": "python",
   "name": "python3"
  },
  "language_info": {
   "codemirror_mode": {
    "name": "ipython",
    "version": 3
   },
   "file_extension": ".py",
   "mimetype": "text/x-python",
   "name": "python",
   "nbconvert_exporter": "python",
   "pygments_lexer": "ipython3",
   "version": "3.7.4"
  }
 },
 "nbformat": 4,
 "nbformat_minor": 2
}
