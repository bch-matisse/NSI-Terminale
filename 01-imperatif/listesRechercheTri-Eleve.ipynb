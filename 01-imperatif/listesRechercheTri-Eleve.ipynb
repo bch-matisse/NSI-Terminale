{
 "cells": [
  {
   "cell_type": "markdown",
   "metadata": {},
   "source": [
    "# Algorithmes de première (1) \n",
    "\n",
    "### Epreuve pratique de spécialité NSI\n",
    "\n",
    "<span style=\"color:blue\">\n",
    "Le premier exercice consiste à programmer un algorithme figurant explicitement au programme, ne présentant pas de difficulté particulière, dont on fournit une spécification.  \n",
    "\n",
    "Il s'agit donc de restituer un algorithme rencontré et travaillé à plusieurs reprises en cours de formation. \n",
    "\n",
    "Le sujet peut proposer un jeu de test avec les réponses attendues pour permettre au candidat de vérifier son travail.\n",
    "</span>\n"
   ]
  },
  {
   "cell_type": "markdown",
   "metadata": {},
   "source": [
    "## 0. Utiliser un \"notebook\"\n",
    "Le premier exemple est parfaitement stupide, mais il va vous montrer ce que j'attends de vous...\n",
    "Modifier le programme suivant pour qu'il passe les tests automatiques.\n"
   ]
  },
  {
   "cell_type": "code",
   "execution_count": null,
   "metadata": {},
   "outputs": [],
   "source": [
    "def stupide():\n",
    "    \"\"\" Ce commentaire constitue la spécification de la fonction que vous devez programmer.\n",
    "    Dans notre cas la fonction doit retourne la chaîne de caractères \"easy\"\n",
    "\n",
    "    Args:\n",
    "        Pas d'arguments\n",
    "\n",
    "    Returns:\n",
    "        La chaîne de caractère \"easy\"\n",
    "    \"\"\"\n",
    "    return \"hard\"\n",
    "\n",
    "# Vous pouvez utiliser la zone pour rajouter des tests à vous, des traces de debugs...\n",
    "print(stupide())"
   ]
  },
  {
   "cell_type": "code",
   "execution_count": null,
   "metadata": {},
   "outputs": [],
   "source": [
    "# Mais quand vous êtes prêts, il faut exécuter cette zone qui contient la validation de votre programme !\n",
    "# NE PAS MODIFIER\n",
    "import sys\n",
    "# Si des tests automatiques sont proposés dans le sujet c'est une bonne nouvelle, ils vous \n",
    "# donnent précisemment les conditions de réussite de l'exercice !\n",
    "try:\n",
    "    print(\"Stupide...\")\n",
    "    print(\"Test 1...\")\n",
    "    assert(stupide()==\"easy\")\n",
    "    print(\"Test 2...\")\n",
    "    assert(stupide()!=\"dur\")\n",
    "    print(\"...ok  !\")\n",
    "except Exception as erreur:\n",
    "    print(\"KO\", type(erreur), \"!\")\n",
    "    print(\"Unexpected error:\", sys.exc_info()[0])"
   ]
  },
  {
   "cell_type": "markdown",
   "metadata": {},
   "source": [
    "Si vous avez besoin / envie de sauvegarder des commentaires (pour la postérité), vous pouvez écrire dans une zone comme celle-ci.\n",
    "C'est sans doute une bonne idée...\n",
    "\n",
    "\n",
    "<span style=\"color:red\">\n",
    "Si vous utilisez BINDER, il faut noter que ce TP s'excute à distance. \n",
    "Il n'est pas sauvegardé automatiquement.  \n",
    "</span>\n",
    "Vous avez donc trois solutions.  \n",
    "\n",
    "* Utiliser Binder et copier / coller votre code dans un fichier à part.\n",
    "* Utiliser Binder et sauvegarder régulièrement sur votre ordinateur le fichier notebook.\n",
    "* NE PAS UTILISER BINDER et exécuter ce notebook avec EduPython (ou un équivalent).\n",
    "\n"
   ]
  },
  {
   "cell_type": "markdown",
   "metadata": {},
   "source": [
    "## 1. Parcours séquentiel d’un tableau \n",
    "Parcourir un tableau, pour trouver un élément, ou le plus grand, ou calculer sa moyenne...Tous ses algorithmes reposent sur un parcours simple de chaque \"case\" du tableau...\n"
   ]
  },
  {
   "cell_type": "markdown",
   "metadata": {},
   "source": [
    "### 1.1 Faire un calcul en parcourant un tableau donné\n",
    "Compléter le programme suivant pour qu'il passe les tests automatiques."
   ]
  },
  {
   "cell_type": "code",
   "execution_count": null,
   "metadata": {},
   "outputs": [],
   "source": [
    "def moyenne(liste):\n",
    "    \"\"\"Retourne la moyenne de la liste passée en paramètre\n",
    "\n",
    "    Args:\n",
    "        liste : Une liste de nombres\n",
    "\n",
    "    Returns:\n",
    "        La moyenne sous forme de nombre flottants, 0 si la liste est vide\n",
    "    \"\"\"\n",
    "    return 42\n",
    "\n",
    "print(moyenne([9,10,11]))"
   ]
  },
  {
   "cell_type": "code",
   "execution_count": null,
   "metadata": {},
   "outputs": [],
   "source": [
    "# NE PAS MODIFIER\n",
    "import sys\n",
    "# Si des tests automatiques sont proposés dans le sujet c'est une bonne nouvelle, ils vous \n",
    "# donnent précisemment les conditions de réussite de l'exercice !\n",
    "try:\n",
    "    print(\"MOYENNE...\")\n",
    "    print(\"Test 1...\")\n",
    "    assert(moyenne([9,8,11,10,16,18,11,20,6,19,16,16,8,20,6,15,14,7,11,7,15,10,10,5])==12)\n",
    "    print(\"Test 2...\")\n",
    "    assert(moyenne([20])==20)\n",
    "    print(\"Test 3..\")\n",
    "    assert(moyenne([])==0)\n",
    "    print(\"...ok  !\")\n",
    "except Exception as erreur:\n",
    "    print(\"KO\", type(erreur), \"!\")\n",
    "    print(\"Unexpected error:\", sys.exc_info()[0])\n"
   ]
  },
  {
   "cell_type": "markdown",
   "metadata": {},
   "source": [
    "### 1.2. Recherche d'un valeur dans une liste par parcours itératif"
   ]
  },
  {
   "cell_type": "code",
   "execution_count": null,
   "metadata": {},
   "outputs": [],
   "source": [
    "def trouve(liste, recherche):\n",
    "    \"\"\"Cherche l'element dans la liste et retourne sa position (-1 si non trouvé)\n",
    "\n",
    "    Args:\n",
    "        liste : Une liste (quelle que soit son type)\n",
    "        recherche : l'element recherche   \n",
    "\n",
    "    Returns:\n",
    "        L'indice de l'élement recherché, -1 si non trouvé\n",
    "    \"\"\"\n",
    "    return 42\n",
    "print(trouve([1,2,3],2))"
   ]
  },
  {
   "cell_type": "code",
   "execution_count": null,
   "metadata": {},
   "outputs": [],
   "source": [
    "# NE PAS MODIFIER\n",
    "import sys\n",
    "try:\n",
    "    print(\"RECHERCHE\")\n",
    "    print(\"Test 1...\")\n",
    "    tab = [1,2,3,4,56,8,9,4,5,2,0,1]\n",
    "    assert(tab[trouve(tab, 56)]==56)\n",
    "    print(\"Test 1.1...\")\n",
    "    assert(trouve([9,8,11,10,16,18,11,20,6,19,16,16,8,20,6,15,14,7,11,7,15,10,10,5], 9)==0)\n",
    "    print(\"Test 1.2...\")\n",
    "    assert(trouve([9,8,11,10,16,18,11,20,6,19,16,16,8,20,6,15,14,7,11,7,15,10,10,5], 8)==1)\n",
    "    print(\"Test 1.3...\")\n",
    "    assert(trouve([9,8,11,10,16,18,11,20,6,19,16,16,8,20,6,15,14,7,11,7,15,10,10,99], 99)==23)\n",
    "    print(\"Test 1.4...\")\n",
    "    assert(trouve([9,8,11,10,16,18,11,20,6,19,16,16,8,20,6,15,14,7,11,7,15,10,10,5], 42)==-1)\n",
    "    print(\"Test 1.5...\")\n",
    "    assert(trouve([\"MATH\", \"NSI\", \"MATHS\", \"NsI\"], \"NsI\")==3)\n",
    "    print(\"Test 2...\")\n",
    "    assert(trouve([], 12)==-1)\n",
    "    print(\"Test 3..\")\n",
    "    assert(trouve([[1,2], [2,3], [3,4]], [3,4])== 2)\n",
    "    print(\"...ok  !\")\n",
    "except Exception as erreur:\n",
    "    print(\"KO\", type(erreur), \"!\")\n",
    "    print(\"Unexpected error:\", sys.exc_info()[0])"
   ]
  },
  {
   "cell_type": "markdown",
   "metadata": {},
   "source": [
    "### 1.3. Recherche d'un maximum, d'un minimum.\n"
   ]
  },
  {
   "cell_type": "code",
   "execution_count": null,
   "metadata": {},
   "outputs": [],
   "source": [
    "def max(liste):\n",
    "    \"\"\"Retourne l'élément le plus grand dans une liste passée en paramètre\n",
    "\n",
    "Args:\n",
    "    liste : Une liste de nombres\n",
    "\n",
    "Returns:\n",
    "    La valeur la plus grande contenue dans le tableau\n",
    "\"\"\"\n",
    "    return -1\n",
    "\n",
    "print(max([10,99,20]))"
   ]
  },
  {
   "cell_type": "code",
   "execution_count": null,
   "metadata": {},
   "outputs": [],
   "source": [
    "# NE PAS MODIFIER\n",
    "import sys\n",
    "try:\n",
    "    print(\"MAXIMUM\")   \n",
    "    print(\"T1\")\n",
    "    assert(max([0,1,2,3,4,5,6,7,8,9,10,11,12,13,14,99])==99)\n",
    "    print(\"T2\")\n",
    "    assert(max([99,1,2,3,4,5,6,7,8,9,10,11,12,13,14,15])==99)\n",
    "    print(\"T3\")\n",
    "    assert(max([0,1,99,3,4,5,6,7,8,9,10,11,12,13,14,15])==99)\n",
    "    print(\"T4\")\n",
    "    assert(max([]) == None)\n",
    "    print(\"...OK !\")\n",
    "except Exception as erreur:\n",
    "    print(\"KO\", type(erreur), \"!\")\n",
    "    print(\"Unexpected error:\", sys.exc_info()[0])"
   ]
  },
  {
   "cell_type": "markdown",
   "metadata": {},
   "source": [
    "### 1.4. Cas particulier : les chaines de caractères\n",
    "Les chaines de caractères ```chaine = \"Je suis une chaîne de caractère\"``` sont des cas particuliers de tableaux de valeurs (où chaque entrée est un caractère). Bien sûr les problèmes d'encodage rendent tout ça bien plus compliqué, mais en terme d'algorithmique elles se traitent de la même façon.\n",
    "\n",
    "Certains algorithmes sont de grands classiques, et ne devraient pas vous poser de problème.\n",
    "\n",
    "<span style=\"color:red\"><b> ATTENTION TOUTEFOIS...</b>\n",
    "En python les chaînes de caractères sont IMMUTABLES.</span>\n",
    "\n",
    "\n",
    "\n"
   ]
  },
  {
   "cell_type": "code",
   "execution_count": null,
   "metadata": {},
   "outputs": [],
   "source": [
    "texte = \"hat\"\n",
    "texte[1] = \"o\"\n",
    "# boom."
   ]
  },
  {
   "cell_type": "markdown",
   "metadata": {},
   "source": [
    "**La difficulté réside donc dans la possibilité de construire une chaîne sans la muter...**\n"
   ]
  },
  {
   "cell_type": "markdown",
   "metadata": {},
   "source": [
    "#### Construire un palindrome\n",
    "Ecrire un programme qui retourne une chaîne de caractère.\n",
    "\n",
    "Exemple : si on passe « BATEAU » en paramètre, il doit retourner « UAETAB »\n",
    "\n",
    "_Il y a mille façons de faire ça en Python (la plus élégante étant peut être d'utiliser les tranches, mais aujourd'hui je vous demande de construire le résultat à la main (par un parcours itératif, c'est l'objet du TP...)_ \n",
    "```python\n",
    "return original[::-1]\n",
    "```"
   ]
  },
  {
   "cell_type": "code",
   "execution_count": null,
   "metadata": {},
   "outputs": [],
   "source": [
    "def retourne(original):\n",
    "    \"\"\" Construit la chaine de caractère qui renverse celle passée en paramètres\n",
    "\n",
    "Args:\n",
    "    chaine : La chaîne originale\n",
    "\n",
    "Returns:\n",
    "    Une nouvelle chaine de caractère de même taille, renversée par rapport à l'original\n",
    "\"\"\"\n",
    "    return \"42\"\n",
    "\n",
    "print(retourne(\"ABC\"))"
   ]
  },
  {
   "cell_type": "code",
   "execution_count": null,
   "metadata": {},
   "outputs": [],
   "source": [
    "# NE PAS MODIFIER\n",
    "import sys\n",
    "try:\n",
    "    print(\"Retourne une chaîne\")   \n",
    "    print(\"T1\")\n",
    "    assert(retourne(\"ABC\")==\"CBA\")\n",
    "    print(\"T2\")\n",
    "    assert(retourne(\"ABAB\")==\"BABA\")\n",
    "    print(\"T3\")\n",
    "    assert(retourne(\"\")==\"\")\n",
    "    print(\"...OK !\")\n",
    "except Exception as erreur:\n",
    "    print(\"KO\", type(erreur), \"!\")\n",
    "    print(\"Unexpected error:\", sys.exc_info()[0])\n"
   ]
  },
  {
   "cell_type": "markdown",
   "metadata": {},
   "source": [
    "### 2. Parcours d'un tableau à plusieurs dimensions\n",
    "Le dessin suivant est présenté sous la forme d'un tableau à deux dimensions.\n",
    "L'élement en position 2 du tableau correspond à la deuxième ligne (entière).\n",
    "Réaliser un programme qui affiche le dessin complet."
   ]
  },
  {
   "cell_type": "code",
   "execution_count": null,
   "metadata": {},
   "outputs": [],
   "source": [
    "dessin=[[' ','_','_','_',' '],['/','o',' ','o','\\\\'],['|',' ','L',' ','|'],['\\\\','_','V','_','/']]\n",
    "\n",
    "def afficheTableau(dessin):\n",
    "        print(\"42\")\n",
    "\n",
    "afficheTableau(dessin)"
   ]
  },
  {
   "cell_type": "markdown",
   "metadata": {},
   "source": [
    "## 3. Pour aller plus loin\n"
   ]
  },
  {
   "cell_type": "markdown",
   "metadata": {},
   "source": [
    "#### 3.1 Détecter un palindrome\n",
    "\n",
    "Un palindrome est une chaîne de caractères qui se lit de manière identique de gauche vers la droite comme de\n",
    "droite vers la gauche. \n",
    "Exemple : KAYAK, RADAR, ELLE sont des palindromes.\n",
    "\n",
    "Vous allez me dire que c'est trop facile d'écrire une fonction qui détecte les palindromes, il suffit de la retourner puis de comparer le résultat avec l'original.\n",
    "\n",
    "Certes...alors on va s'autoriser un peu plus compliqué...\n",
    "\n",
    "Dans un phrase il y a souvent...des espaces.  \n",
    "\n",
    "Ecrire une fonction qui détecte si une chaîne est un palindrome, sans tenir compte des espaces. "
   ]
  },
  {
   "cell_type": "code",
   "execution_count": null,
   "metadata": {},
   "outputs": [],
   "source": [
    "def palindrome(chaine):\n",
    "    \"\"\" Retourne \"True\" si la chaine passée en paramètre est un palindrome (en ignorant les espaces)\n",
    "\n",
    "Args:\n",
    "    chaine : La chaîne originale\n",
    "\n",
    "Returns:\n",
    "    \"True\" si la chaîne est un palindrome, quitte à ignorer les espaces qu'elle contient.\n",
    "\"\"\"\n",
    "    return 42\n",
    "\n",
    "print(palindrome(\"     B       O   B    \"))"
   ]
  },
  {
   "cell_type": "code",
   "execution_count": null,
   "metadata": {},
   "outputs": [],
   "source": [
    "# NE PAS MODIFIER\n",
    "import sys\n",
    "try:\n",
    "    print(\"Test de palindrome\")   \n",
    "    print(\"T1\")\n",
    "    assert(palindrome(\"ABC\")==False)\n",
    "    print(\"T2\")\n",
    "    assert(palindrome(\"BOB\")==True)\n",
    "    print(\"T3\")\n",
    "    assert(palindrome(\"BOOB\")==True)\n",
    "    print(\"T4\")\n",
    "    assert(palindrome(\"la mariee ira mal\")==True)\n",
    "    print(\"T5\")\n",
    "    assert(palindrome(\"    B  O       B    \")==True)    \n",
    "    print(\"T6\")\n",
    "    assert(palindrome(\"         \")==True)     \n",
    "    print(\"...OK !\")\n",
    "except Exception as erreur:\n",
    "    print(\"KO\", type(erreur), \"!\")\n",
    "    print(\"Unexpected error:\", sys.exc_info()[0])"
   ]
  },
  {
   "cell_type": "markdown",
   "metadata": {},
   "source": [
    "\n",
    "\n",
    "#### 3.2 Le chiffrage de César\n",
    "Le chiffre de césar est une méthode de chiffrement qui date des romains et du fameux empereur du même nom. Elle consiste à décaler d’un certain nombre dans l’alphabet les caractères de la phrase à chiffrer. Ce nombre est la clé de l’algorithme.\n",
    "\n",
    "Exemple :  \n",
    "Si je prends la chaîne « abc » avec la clé ‘+1’ :\n",
    "Ma chaîne chiffrée devient « bcd »\n",
    "\n",
    "Remarque : Pour passer du code ASCII au caractère on peut utiliser _ord_ et _char_\n",
    "```\n",
    "ord(\"A\") # retourne 65\n",
    "chr(65) # retourne \"A\"\n",
    "```\n",
    "\n"
   ]
  },
  {
   "cell_type": "code",
   "execution_count": null,
   "metadata": {},
   "outputs": [],
   "source": [
    "mystere = \"ih gy zucn zucly xym wbimym julzicm d uc xo guf u wigjlyhxly jiolkoic...\"\n",
    "\n",
    "print(\"42\")"
   ]
  },
  {
   "cell_type": "code",
   "execution_count": null,
   "metadata": {},
   "outputs": [],
   "source": []
  }
 ],
 "metadata": {
  "kernelspec": {
   "display_name": "Python 3",
   "language": "python",
   "name": "python3"
  },
  "language_info": {
   "codemirror_mode": {
    "name": "ipython",
    "version": 3
   },
   "file_extension": ".py",
   "mimetype": "text/x-python",
   "name": "python",
   "nbconvert_exporter": "python",
   "pygments_lexer": "ipython3",
   "version": "3.7.4"
  }
 },
 "nbformat": 4,
 "nbformat_minor": 2
}
