{
 "cells": [
  {
   "cell_type": "markdown",
   "metadata": {},
   "source": [
    "# Algorithmes de première (1) \n",
    "\n",
    "### Epreuve pratique de spécialité NSI\n",
    "\n",
    "<span style=\"color:green\">\n",
    "Le premier exercice consiste à programmer un algorithme figurant explicitement au programme, ne présentant pas de difficulté particulière, dont on fournit une spécification.  \n",
    "\n",
    "Il s'agit donc de restituer un algorithme rencontré et travaillé à plusieurs reprises en cours de formation. \n",
    "\n",
    "Le sujet peut proposer un jeu de test avec les réponses attendues pour permettre au candidat de vérifier son travail.\n",
    "</span>\n"
   ]
  },
  {
   "cell_type": "markdown",
   "metadata": {},
   "source": [
    "## 0. Utiliser un \"notebook\"\n",
    "Le premier exemple est parfaitement stupide, mais il va vous montrer ce que j'attends de vous...\n",
    "Compléter le programme suivant pour qu'il passe les tests automatiques.\n"
   ]
  },
  {
   "cell_type": "code",
   "execution_count": 18,
   "metadata": {},
   "outputs": [
    {
     "name": "stdout",
     "output_type": "stream",
     "text": [
      "hard\n"
     ]
    }
   ],
   "source": [
    "def stupide():\n",
    "    \"\"\" Ce commentaire constitue la spécification de la fonction que vous devez programmer.\n",
    "    Dans notre cas la fonction doit retourne la chaîne de caractères \"easy\"\n",
    "\n",
    "    Args:\n",
    "        Pas d'arguments\n",
    "\n",
    "    Returns:\n",
    "        La chaîne de caractère \"easy\"\n",
    "    \"\"\"\n",
    "    return \"hard\"\n",
    "\n",
    "# Vous pouvez utiliser la zone pour rajouter des tests à vous, des traces de debugs...\n",
    "print(stupide())"
   ]
  },
  {
   "cell_type": "code",
   "execution_count": 19,
   "metadata": {},
   "outputs": [
    {
     "name": "stdout",
     "output_type": "stream",
     "text": [
      "Stupide...\n",
      "Test 1...\n",
      "KO <class 'AssertionError'> !\n",
      "Unexpected error: <class 'AssertionError'>\n"
     ]
    }
   ],
   "source": [
    "# Mais quand vous êtes prêts, il faut exécuter cette zone qui contient la validation de votre programme !\n",
    "# NE PAS MODIFIER\n",
    "import sys\n",
    "# Si des tests automatiques sont proposés dans le sujet c'est une bonne nouvelle, ils vous \n",
    "# donnent précisemment les conditions de réussite de l'exercice !\n",
    "try:\n",
    "    print(\"Stupide...\")\n",
    "    print(\"Test 1...\")\n",
    "    assert(stupide()==\"easy\")\n",
    "    print(\"Test 2...\")\n",
    "    assert(stupide()!=\"dur\")\n",
    "    print(\"...ok  !\")\n",
    "except Exception as erreur:\n",
    "    print(\"KO\", type(erreur), \"!\")\n",
    "    print(\"Unexpected error:\", sys.exc_info()[0])"
   ]
  },
  {
   "cell_type": "markdown",
   "metadata": {},
   "source": [
    "Si vous avez besoin / envie de sauvegarder des commentaires (pour la postérité), vous pouvez écrire dans une zone comme celle-ci.\n",
    "C'est sans doute une bonne idée...\n",
    "\n",
    "Vous noterez que ce TP s'excute à distance. \n",
    "<span style=\"color:red\">\n",
    "Il n'est pas sauvegardé automatiquement, vous avez donc deux solutions.\n",
    "* copier / coller votre code dans un fichier à part.\n",
    "* sauvegarder régulièrement sur votre ordinateur le fichier notebook.\n",
    "</span>\n"
   ]
  },
  {
   "cell_type": "markdown",
   "metadata": {},
   "source": [
    "## 1. Parcours séquentiel d’un tableau \n",
    "Parcourir un tableau, pour trouver un élément, ou le plus grand, ou calculer sa moyenne...Tous ses algorithmes reposent sur un parcours simple de chaque \"case\" du tableau...\n"
   ]
  },
  {
   "cell_type": "markdown",
   "metadata": {},
   "source": [
    "### 1.1 Faire un calcul en parcourant un tableau donné\n",
    "Compléter le programme suivant pour qu'il passe les tests automatiques."
   ]
  },
  {
   "cell_type": "code",
   "execution_count": 1,
   "metadata": {},
   "outputs": [
    {
     "name": "stdout",
     "output_type": "stream",
     "text": [
      "10.0\n"
     ]
    }
   ],
   "source": [
    "def moyenne(liste):\n",
    "    \"\"\"Retourne la moyenne de la liste passée en paramètre\n",
    "\n",
    "    Args:\n",
    "        liste : Une liste de nombres\n",
    "\n",
    "    Returns:\n",
    "        La moyenne sous forme de nombre flottants, 0 si la liste est vide\n",
    "    \"\"\"\n",
    "    if (len(liste) == 0):\n",
    "        return 0\n",
    "    somme = 0\n",
    "    for note in liste :\n",
    "        somme = somme + note\n",
    "    return somme / len(liste)\n",
    "\n",
    "print(moyenne([9,10,11]))"
   ]
  },
  {
   "cell_type": "code",
   "execution_count": 2,
   "metadata": {},
   "outputs": [
    {
     "name": "stdout",
     "output_type": "stream",
     "text": [
      "MOYENNE...\n",
      "Test 1...\n",
      "Test 2...\n",
      "Test 3..\n",
      "...ok  !\n"
     ]
    }
   ],
   "source": [
    "# NE PAS MODIFIER\n",
    "import sys\n",
    "# Si des tests automatiques sont proposés dans le sujet c'est une bonne nouvelle, ils vous \n",
    "# donnent précisemment les conditions de réussite de l'exercice !\n",
    "try:\n",
    "    print(\"MOYENNE...\")\n",
    "    print(\"Test 1...\")\n",
    "    assert(moyenne([9,8,11,10,16,18,11,20,6,19,16,16,8,20,6,15,14,7,11,7,15,10,10,5])==12)\n",
    "    print(\"Test 2...\")\n",
    "    assert(moyenne([20])==20)\n",
    "    print(\"Test 3..\")\n",
    "    assert(moyenne([])==0)\n",
    "    print(\"...ok  !\")\n",
    "except Exception as erreur:\n",
    "    print(\"KO\", type(erreur), \"!\")\n",
    "    print(\"Unexpected error:\", sys.exc_info()[0])\n"
   ]
  },
  {
   "cell_type": "markdown",
   "metadata": {},
   "source": [
    "### 1.2. Recherche d'un valeur dans une liste"
   ]
  },
  {
   "cell_type": "code",
   "execution_count": 3,
   "metadata": {},
   "outputs": [
    {
     "name": "stdout",
     "output_type": "stream",
     "text": [
      "1\n"
     ]
    }
   ],
   "source": [
    "def trouve(liste, recherche):\n",
    "    \"\"\"Cherche l'element dans la liste et retourne sa position (-1 si non trouvé)\n",
    "\n",
    "    Args:\n",
    "        liste : Une liste (quelle que soit son type)\n",
    "        recherche : l'element recherche   \n",
    "\n",
    "    Returns:\n",
    "        La valeur la plus grande contenue dans le tableau\n",
    "    \"\"\"\n",
    "    for indice in range(len(liste)) :\n",
    "        if (liste[indice] == recherche):\n",
    "            return indice # on retourne immédiatement le résultat\n",
    "    # \n",
    "    return -1\n",
    "print(trouve([1,2,3],2))"
   ]
  },
  {
   "cell_type": "code",
   "execution_count": 4,
   "metadata": {},
   "outputs": [
    {
     "name": "stdout",
     "output_type": "stream",
     "text": [
      "RECHERCHE\n",
      "Test 1...\n",
      "Test 1.1...\n",
      "Test 1.2...\n",
      "Test 1.3...\n",
      "Test 1.4...\n",
      "Test 1.5...\n",
      "Test 2...\n",
      "Test 3..\n",
      "...ok  !\n"
     ]
    }
   ],
   "source": [
    "# NE PAS MODIFIER\n",
    "import sys\n",
    "try:\n",
    "    print(\"RECHERCHE\")\n",
    "    print(\"Test 1...\")\n",
    "    tab = [1,2,3,4,56,8,9,4,5,2,0,1]\n",
    "    assert(tab[trouve(tab, 56)]==56)\n",
    "    print(\"Test 1.1...\")\n",
    "    assert(trouve([9,8,11,10,16,18,11,20,6,19,16,16,8,20,6,15,14,7,11,7,15,10,10,5], 9)==0)\n",
    "    print(\"Test 1.2...\")\n",
    "    assert(trouve([9,8,11,10,16,18,11,20,6,19,16,16,8,20,6,15,14,7,11,7,15,10,10,5], 8)==1)\n",
    "    print(\"Test 1.3...\")\n",
    "    assert(trouve([9,8,11,10,16,18,11,20,6,19,16,16,8,20,6,15,14,7,11,7,15,10,10,99], 99)==23)\n",
    "    print(\"Test 1.4...\")\n",
    "    assert(trouve([9,8,11,10,16,18,11,20,6,19,16,16,8,20,6,15,14,7,11,7,15,10,10,5], 42)==-1)\n",
    "    print(\"Test 1.5...\")\n",
    "    assert(trouve([\"MATH\", \"NSI\", \"MATHS\", \"NsI\"], \"NsI\")==3)\n",
    "    print(\"Test 2...\")\n",
    "    assert(trouve([], 12)==-1)\n",
    "    print(\"Test 3..\")\n",
    "    assert(trouve([[1,2], [2,3], [3,4]], [3,4])== 2)\n",
    "    print(\"...ok  !\")\n",
    "except Exception as erreur:\n",
    "    print(\"KO\", type(erreur), \"!\")\n",
    "    print(\"Unexpected error:\", sys.exc_info()[0])"
   ]
  },
  {
   "cell_type": "markdown",
   "metadata": {},
   "source": [
    "### 1.3. Recherche d'un maximum, d'un minimum.\n"
   ]
  },
  {
   "cell_type": "code",
   "execution_count": 5,
   "metadata": {},
   "outputs": [
    {
     "name": "stdout",
     "output_type": "stream",
     "text": [
      "99\n"
     ]
    }
   ],
   "source": [
    "def max(liste):\n",
    "    \"\"\"Retourne l'élément le plus grand dans une liste passée en paramètre\n",
    "\n",
    "Args:\n",
    "    liste : Une liste de nombres\n",
    "\n",
    "Returns:\n",
    "    La valeur la plus grande contenue dans le tableau\n",
    "\"\"\"\n",
    "    if (len(liste) == 0):\n",
    "        return None\n",
    "    M = liste[0]\n",
    "    for element in liste :\n",
    "        if (M < element):\n",
    "            M = element\n",
    "    return M\n",
    "\n",
    "print(max([10,99,20]))"
   ]
  },
  {
   "cell_type": "code",
   "execution_count": 6,
   "metadata": {},
   "outputs": [
    {
     "name": "stdout",
     "output_type": "stream",
     "text": [
      "MAXIMUM\n",
      "T1\n",
      "T2\n",
      "T3\n",
      "T4\n",
      "...OK !\n"
     ]
    }
   ],
   "source": [
    "# NE PAS MODIFIER\n",
    "import sys\n",
    "try:\n",
    "    print(\"MAXIMUM\")   \n",
    "    print(\"T1\")\n",
    "    assert(max([0,1,2,3,4,5,6,7,8,9,10,11,12,13,14,99])==99)\n",
    "    print(\"T2\")\n",
    "    assert(max([99,1,2,3,4,5,6,7,8,9,10,11,12,13,14,15])==99)\n",
    "    print(\"T3\")\n",
    "    assert(max([0,1,99,3,4,5,6,7,8,9,10,11,12,13,14,15])==99)\n",
    "    print(\"T4\")\n",
    "    assert(max([]) == None)\n",
    "    print(\"...OK !\")\n",
    "except Exception as erreur:\n",
    "    print(\"KO\", type(erreur), \"!\")\n",
    "    print(\"Unexpected error:\", sys.exc_info()[0])"
   ]
  },
  {
   "cell_type": "markdown",
   "metadata": {},
   "source": [
    "### 1.4. Cas particulier : les chaines de caractères\n",
    "Les chaines de caractères ```chaine = \"Je suis une chaîne de caractère\"``` sont des cas particuliers de tableaux de valeurs (où chaque entrée est un caractère). Bien sûr les problèmes d'encodage rendent tout ça bien plus compliqué, mais en terme d'algorithmique elles se traitent de la même façon.\n",
    "\n",
    "Certains algorithmes sont de grands classiques, et ne devraient pas vous poser de problème.\n",
    "\n",
    "<span style=\"color:red\"><b> ATTENTION TOUTEFOIS...</b>\n",
    "En python les chaînes de caractères sont IMMUTABLES.</span>\n",
    "```python\n",
    "texte = \"hat\"\n",
    "texte[1] = \"o\"\n",
    "# boom.\n",
    "```\n",
    "La difficulté réside donc dans la possibilité de construire une chaîne sans la muter...\n",
    "\n",
    "\n"
   ]
  },
  {
   "cell_type": "markdown",
   "metadata": {},
   "source": [
    "#### Construire un palindrome\n",
    "Ecrire un programme qui retourne une chaîne de caractère.\n",
    "\n",
    "Exemple : si on passe « BATEAU » en paramètre, il doit retourner « UAETAB »\n",
    "\n",
    "_Il y a mille façons de faire ça en Python (la plus élégante étant peut être d'utiliser les tranches, mais aujourd'hui je vous demande de construire le résultat à la main (par un parcours itératif, c'est l'objet du TP...)_ \n",
    "```python\n",
    "return original[::-1]\n",
    "```"
   ]
  },
  {
   "cell_type": "code",
   "execution_count": 7,
   "metadata": {},
   "outputs": [
    {
     "name": "stdout",
     "output_type": "stream",
     "text": [
      "CBA\n"
     ]
    }
   ],
   "source": [
    "def retourne(original):\n",
    "    \"\"\" Construit la chaine de caractère qui renverse celle passée en paramètres\n",
    "\n",
    "Args:\n",
    "    chaine : La chaîne originale\n",
    "\n",
    "Returns:\n",
    "    Une nouvelle chaine de caractère de même taille, renversée par rapport à l'original\n",
    "\"\"\"\n",
    "    retourne = \"\" # attention, immutable !\n",
    "    for i in range(len(original)):\n",
    "        retourne = original[i] + retourne  # La chaîne en elle même est immutable, mais la variable ne l'est pas !\n",
    "    return retourne\n",
    "\n",
    "print(retourne(\"ABC\"))"
   ]
  },
  {
   "cell_type": "code",
   "execution_count": 8,
   "metadata": {},
   "outputs": [
    {
     "name": "stdout",
     "output_type": "stream",
     "text": [
      "Retourne une chaîne\n",
      "T1\n",
      "T2\n",
      "T3\n",
      "...OK !\n"
     ]
    }
   ],
   "source": [
    "# NE PAS MODIFIER\n",
    "import sys\n",
    "try:\n",
    "    print(\"Retourne une chaîne\")   \n",
    "    print(\"T1\")\n",
    "    assert(retourne(\"ABC\")==\"CBA\")\n",
    "    print(\"T2\")\n",
    "    assert(retourne(\"ABAB\")==\"BABA\")\n",
    "    print(\"T3\")\n",
    "    assert(retourne(\"\")==\"\")\n",
    "    print(\"...OK !\")\n",
    "except Exception as erreur:\n",
    "    print(\"KO\", type(erreur), \"!\")\n",
    "    print(\"Unexpected error:\", sys.exc_info()[0])\n"
   ]
  },
  {
   "cell_type": "markdown",
   "metadata": {},
   "source": [
    "### 2. Parcours d'un tableau à plusieurs dimensions\n",
    "Le dessin suivant est présenté sous la forme d'un tableau à deux dimensions.\n",
    "L'élement en position 2 du tableau correspond à la deuxième ligne (entière).\n",
    "Réaliser un programme qui affiche le dessin complet."
   ]
  },
  {
   "cell_type": "code",
   "execution_count": 9,
   "metadata": {},
   "outputs": [
    {
     "name": "stdout",
     "output_type": "stream",
     "text": [
      " ___ \n",
      "/o o\\\n",
      "| L |\n",
      "\\_V_/\n"
     ]
    }
   ],
   "source": [
    "dessin=[[' ','_','_','_',' '],['/','o',' ','o','\\\\'],['|',' ','L',' ','|'],['\\\\','_','V','_','/']]\n",
    "\n",
    "def afficheTableau(dessin):\n",
    "    for ligne in dessin:\n",
    "        for caractere in ligne:\n",
    "            print(caractere, end=\"\")\n",
    "        print(\"\")\n",
    "\n",
    "afficheTableau(dessin)"
   ]
  },
  {
   "cell_type": "markdown",
   "metadata": {},
   "source": [
    "## 3. Pour aller plus loin\n"
   ]
  },
  {
   "cell_type": "markdown",
   "metadata": {},
   "source": [
    "#### 3.1 Détecter un palindrome\n",
    "\n",
    "Un palindrome est une chaîne de caractères qui se lit de manière identique de gauche vers la droite comme de\n",
    "droite vers la gauche. \n",
    "Exemple : KAYAK, RADAR, ELLE sont des palindromes.\n",
    "\n",
    "Vous allez me dire que c'est trop facile d'écrire une fonction qui détecte les palindromes, il suffit de la retourner puis de comparer le résultat avec l'original.\n",
    "\n",
    "Certes...alors on va s'autoriser un peu plus compliqué...\n",
    "\n",
    "Alors on va compliquer un peu, dans un phrase il y a souvent...des espaces. \n",
    "Ecrire une fonction qui détecte si une chaîne est un palindrome, sans tenir compte des espaces. "
   ]
  },
  {
   "cell_type": "code",
   "execution_count": 10,
   "metadata": {},
   "outputs": [
    {
     "name": "stdout",
     "output_type": "stream",
     "text": [
      "True\n"
     ]
    }
   ],
   "source": [
    "def palindrome(chaine):\n",
    "    \"\"\" Retourne \"True\" si la chaine passée en paramètre est un palindrome (en ignorant les espaces)\n",
    "\n",
    "Args:\n",
    "    chaine : La chaîne originale\n",
    "\n",
    "Returns:\n",
    "    \"True\" si la chaîne est un palindrome, quitte à ignorer les espaces qu'elle contient.\n",
    "\"\"\"\n",
    "    \n",
    "    droite = 0\n",
    "    gauche = len(chaine) - 1\n",
    "    # il y a au plus len(chaine) caractères (de 0  à len(chaine) - 1 )\n",
    "    while (droite < len(chaine) and gauche > 0):\n",
    "        # on travaille sur des paires de caractères\n",
    "        \n",
    "        # on décale le curseur à droite jusqu'au prochain caractère non espace \n",
    "        while (chaine[droite]==\" \" and droite < len(chaine)-1):\n",
    "            droite = droite + 1\n",
    "        # on décale le curseur à gauche jusqu'au prochain caractère non espace \n",
    "        while (chaine[gauche]==\" \" and gauche > 0):\n",
    "            gauche = gauche - 1 \n",
    "        \n",
    "        # print(\"correction : \", droite, chaine[droite], gauche, chaine[gauche])\n",
    "        if (chaine[droite] != chaine[gauche]):\n",
    "                return False\n",
    "        droite += 1\n",
    "        gauche -= 1\n",
    "\n",
    "    return True\n",
    "\n",
    "print(palindrome(\"     B       O   B    \"))"
   ]
  },
  {
   "cell_type": "code",
   "execution_count": 11,
   "metadata": {},
   "outputs": [
    {
     "name": "stdout",
     "output_type": "stream",
     "text": [
      "Test de palindrome\n",
      "T1\n",
      "T2\n",
      "T3\n",
      "T4\n",
      "T5\n",
      "T6\n",
      "...OK !\n"
     ]
    }
   ],
   "source": [
    "# NE PAS MODIFIER\n",
    "import sys\n",
    "try:\n",
    "    print(\"Test de palindrome\")   \n",
    "    print(\"T1\")\n",
    "    assert(palindrome(\"ABC\")==False)\n",
    "    print(\"T2\")\n",
    "    assert(palindrome(\"BOB\")==True)\n",
    "    print(\"T3\")\n",
    "    assert(palindrome(\"BOOB\")==True)\n",
    "    print(\"T4\")\n",
    "    assert(palindrome(\"la mariee ira mal\")==True)\n",
    "    print(\"T5\")\n",
    "    assert(palindrome(\"    B  O       B    \")==True)    \n",
    "    print(\"T6\")\n",
    "    assert(palindrome(\"         \")==True)     \n",
    "    print(\"...OK !\")\n",
    "except Exception as erreur:\n",
    "    print(\"KO\", type(erreur), \"!\")\n",
    "    print(\"Unexpected error:\", sys.exc_info()[0])"
   ]
  },
  {
   "cell_type": "markdown",
   "metadata": {},
   "source": [
    "\n",
    "\n",
    "#### 3.2 Le chiffrage de César\n",
    "Le chiffre de césar est une méthode de chiffrement qui date des romains et du fameux empereur du même nom. Elle consiste à décaler d’un certain nombre dans l’alphabet les caractères de la phrase à chiffrer. Ce nombre est la clé de l’algorithme.\n",
    "\n",
    "Exemple :  \n",
    "Si je prends la chaîne « abc » avec la clé ‘+1’ :\n",
    "Ma chaîne chiffrée devient « bcd »\n",
    "\n",
    "Remarque : Pour passer du code ASCII au caractère on peut utiliser _ord_ et _char_\n",
    "```\n",
    "ord(\"A\") # retourne 65\n",
    "chr(65) # retourne \"A\"\n",
    "```\n",
    "\n"
   ]
  },
  {
   "cell_type": "code",
   "execution_count": 12,
   "metadata": {},
   "outputs": [
    {
     "name": "stdout",
     "output_type": "stream",
     "text": [
      "ih gy zucn zucly xym wbimym julzicm d uc xo guf u wigjlyhxly jiolkoic...\n",
      "hg fx ytbm ytbkx wxl vahlxl itkyhbl c tb wn fte t vhfikxgwkx ihnkjnhb...\n",
      "gf ew xsal xsajw vwk uzgkwk hsjxgak b sa vm esd s ugehjwfvjw hgmjimga...\n",
      "fe dv wrzk wrziv uvj tyfjvj griwfzj a rz ul drc r tfdgiveuiv gflihlfz...\n",
      "ed cu vqyj vqyhu tui sxeiui fqhveyi z qy tk cqb q secfhudthu fekhgkey...\n",
      "dc bt upxi upxgt sth rwdhth epgudxh y px sj bpa p rdbegtcsgt edjgfjdx...\n",
      "cb as towh towfs rsg qvcgsg doftcwg x ow ri aoz o qcadfsbrfs dcifeicw...\n",
      "ba zr snvg snver qrf pubfrf cnesbvf w nv qh zny n pbzceraqer cbhedhbv...\n",
      "az yq rmuf rmudq pqe otaeqe bmdraue v mu pg ymx m oaybdqzpdq bagdcgau...\n",
      "zy xp qlte qltcp opd nszdpd alcqztd u lt of xlw l nzxacpyocp azfcbfzt...\n",
      "yx wo pksd pksbo noc mrycoc zkbpysc t ks ne wkv k mywzboxnbo zyebaeys...\n",
      "xw vn ojrc ojran mnb lqxbnb yjaoxrb s jr md vju j lxvyanwman yxdazdxr...\n",
      "wv um niqb niqzm lma kpwama xiznwqa r iq lc uit i kwuxzmvlzm xwczycwq...\n",
      "vu tl mhpa mhpyl klz jovzlz whymvpz q hp kb ths h jvtwylukyl wvbyxbvp...\n",
      "ut sk lgoz lgoxk jky inuyky vgxluoy p go ja sgr g iusvxktjxk vuaxwauo...\n",
      "ts rj kfny kfnwj ijx hmtxjx ufwktnx o fn iz rfq f htruwjsiwj utzwvztn...\n",
      "sr qi jemx jemvi hiw glswiw tevjsmw n em hy qep e gsqtvirhvi tsyvuysm...\n",
      "rq ph idlw idluh ghv fkrvhv sduirlv m dl gx pdo d frpsuhqguh srxutxrl...\n",
      "qp og hckv hcktg fgu ejqugu rcthqku l ck fw ocn c eqortgpftg rqwtswqk...\n",
      "po nf gbju gbjsf eft diptft qbsgpjt k bj ev nbm b dpnqsfoesf qpvsrvpj...\n",
      "on me fait faire des choses parfois j ai du mal a comprendre pourquoi...\n",
      "nm ld ezhs ezhqd cdr bgnrdr ozqenhr i zh ct lzk z bnloqdmcqd ontqptnh...\n",
      "ml kc dygr dygpc bcq afmqcq nypdmgq h yg bs kyj y amknpclbpc nmsposmg...\n",
      "lk jb cxfq cxfob abp zelpbp mxoclfp g xf ar jxi x zljmobkaob mlronrlf...\n",
      "kj ia bwep bwena zao ydkoao lwnbkeo f we zq iwh w ykilnajzna lkqnmqke...\n",
      "ji hz avdo avdmz yzn xcjnzn kvmajdn e vd yp hvg v xjhkmziymz kjpmlpjd...\n"
     ]
    }
   ],
   "source": [
    "mystere = \"ih gy zucn zucly xym wbimym julzicm d uc xo guf u wigjlyhxly jiolkoic...\"\n",
    "\n",
    "def decode(chaine, clef):\n",
    "    alphabet = \"abcdefghijklmnopqrstuvwxyz\"\n",
    "    resultat = \"\"\n",
    "    for c in chaine:\n",
    "        if (not c in alphabet):\n",
    "            resultat = resultat + c \n",
    "        else:\n",
    "            code = ( ord(c) - ord(\"a\") + clef ) % 26 + ord(\"a\")\n",
    "            resultat = resultat + chr(code)\n",
    "    return resultat\n",
    "            \n",
    "\n",
    "for i in range(26):\n",
    "    print(decode(mystere, -i))"
   ]
  },
  {
   "cell_type": "code",
   "execution_count": null,
   "metadata": {},
   "outputs": [],
   "source": []
  }
 ],
 "metadata": {
  "kernelspec": {
   "display_name": "Python 3",
   "language": "python",
   "name": "python3"
  },
  "language_info": {
   "codemirror_mode": {
    "name": "ipython",
    "version": 3
   },
   "file_extension": ".py",
   "mimetype": "text/x-python",
   "name": "python",
   "nbconvert_exporter": "python",
   "pygments_lexer": "ipython3",
   "version": "3.7.4"
  }
 },
 "nbformat": 4,
 "nbformat_minor": 2
}
