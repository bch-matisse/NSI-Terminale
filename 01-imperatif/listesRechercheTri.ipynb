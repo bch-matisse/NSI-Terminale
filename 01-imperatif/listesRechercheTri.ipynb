{
 "cells": [
  {
   "cell_type": "markdown",
   "metadata": {},
   "source": [
    "# Algorithmes de première (1) \n",
    "\n",
    "### Preuve pratique de spécialité NSI\n",
    "Le premier exercice consiste à programmer un algorithme figurant explicitement au programme, ne présentant pas de difficulté particulière, dont on fournit une spécification.  \n",
    "\n",
    "Il s'agit donc de restituer un algorithme rencontré et travaillé à plusieurs reprises en cours de formation. \n",
    "\n",
    "Le sujet peut proposer un jeu de test avec les réponses attendues pour permettre au candidat de vérifier son travail.\n"
   ]
  },
  {
   "cell_type": "markdown",
   "metadata": {},
   "source": [
    "## Parcours séquentiel d’un tableau \n"
   ]
  },
  {
   "cell_type": "markdown",
   "metadata": {},
   "source": [
    "### 1. Parcours d'un tableau, divers calculs\n",
    "Compléter le programme suivant pour qu'il passe les tests automatiques."
   ]
  },
  {
   "cell_type": "code",
   "execution_count": 1,
   "metadata": {},
   "outputs": [],
   "source": [
    "# Ne pas modifier ce sont les données en entrée !\n"
   ]
  },
  {
   "cell_type": "code",
   "execution_count": 9,
   "metadata": {},
   "outputs": [],
   "source": [
    "def moyenne(liste):\n",
    "    \"\"\"Retourne la moyenne de la liste passée en paramètre\n",
    "\n",
    "Args:\n",
    "    liste : Une liste de nombres\n",
    "\n",
    "Returns:\n",
    "    La moyenne sous forme de nombre flottants, 0 si la liste est vide\n",
    "\"\"\"\n",
    "    if (len(liste) == 0):\n",
    "        return 0\n",
    "    somme = 0\n",
    "    for note in liste :\n",
    "        somme = somme + note\n",
    "    return somme / len(liste)"
   ]
  },
  {
   "cell_type": "code",
   "execution_count": 29,
   "metadata": {},
   "outputs": [
    {
     "name": "stdout",
     "output_type": "stream",
     "text": [
      "Test 1...\n",
      "Test 2...\n",
      "Test 3..\n",
      "...ok  !\n"
     ]
    }
   ],
   "source": [
    "# Si des tests automatiques sont proposés dans le sujet c'est une bonne nouvelle, ils vous \n",
    "# donnent précisemment les conditions de réussite de l'exercice !\n",
    "#Prenez le temps de les lire !\n",
    "try:\n",
    "    print(\"Test 1...\")\n",
    "    assert(moyenne([9,8,11,10,16,18,11,20,6,19,16,16,8,20,6,15,14,7,11,7,15,10,10,5])==12)\n",
    "    print(\"Test 2...\")\n",
    "    assert(moyenne([20])==20)\n",
    "    print(\"Test 3..\")\n",
    "    assert(moyenne([])==0)\n",
    "    print(\"...ok  !\")\n",
    "except Exception as erreur:\n",
    "    print(\"KO\", type(erreur), \"!\")\n",
    "    print(\"Unexpected error:\", sys.exc_info()[0])\n"
   ]
  },
  {
   "cell_type": "markdown",
   "metadata": {},
   "source": [
    "### 2. Parcours d'un tableau à plusieurs dimensions\n",
    "Le dessin suivant est présenté sous la forme d'un tableau à deux dimensions.\n",
    "L'élement en position 2 du tableau correspond à la deuxième ligne (entière).\n",
    "Réaliser un programme qui affiche le dessin complet.\n"
   ]
  },
  {
   "cell_type": "code",
   "execution_count": null,
   "metadata": {},
   "outputs": [],
   "source": [
    "dessin=[[' ','_','_','_',' '],['/','o',' ','o','\\\\'],['|',' ','L',' ','|'],['\\\\','_','V','_','/']]\n",
    "for ligne in dessin:\n",
    "    for caractere in ligne:\n",
    "        print(caractere, end=\"\")\n",
    "    print(\"\")\n"
   ]
  },
  {
   "cell_type": "markdown",
   "metadata": {},
   "source": [
    "\n",
    "## Tris par insertion\n",
    "\n"
   ]
  },
  {
   "cell_type": "markdown",
   "metadata": {},
   "source": [
    "## Tri par sélection"
   ]
  },
  {
   "cell_type": "code",
   "execution_count": null,
   "metadata": {},
   "outputs": [],
   "source": []
  }
 ],
 "metadata": {
  "kernelspec": {
   "display_name": "Python 3",
   "language": "python",
   "name": "python3"
  },
  "language_info": {
   "codemirror_mode": {
    "name": "ipython",
    "version": 3
   },
   "file_extension": ".py",
   "mimetype": "text/x-python",
   "name": "python",
   "nbconvert_exporter": "python",
   "pygments_lexer": "ipython3",
   "version": "3.7.4"
  }
 },
 "nbformat": 4,
 "nbformat_minor": 2
}
