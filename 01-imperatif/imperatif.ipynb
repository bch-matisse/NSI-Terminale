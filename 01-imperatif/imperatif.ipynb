{
 "cells": [
  {
   "cell_type": "markdown",
   "metadata": {},
   "source": [
    "## La séquence d'instructions"
   ]
  },
  {
   "cell_type": "code",
   "execution_count": 1,
   "metadata": {},
   "outputs": [
    {
     "name": "stdout",
     "output_type": "stream",
     "text": [
      "14\n"
     ]
    }
   ],
   "source": [
    "def f(x):\n",
    "    return x^2\n",
    "\n",
    "print(f(12))"
   ]
  },
  {
   "cell_type": "markdown",
   "metadata": {},
   "source": [
    "## l'assignation ou affectation"
   ]
  },
  {
   "cell_type": "code",
   "execution_count": 7,
   "metadata": {},
   "outputs": [
    {
     "name": "stdout",
     "output_type": "stream",
     "text": [
      "1 2\n",
      "2 1\n",
      "1 2\n",
      "101 200\n"
     ]
    }
   ],
   "source": [
    "a = 1\n",
    "b = 2\n",
    "print(a,b)\n",
    "\n",
    "c = a\n",
    "a = b \n",
    "b = c\n",
    "print(a,b)\n",
    "\n",
    "a,b = b,a\n",
    "print(a,b)\n",
    "\n",
    "a += 100\n",
    "b *= 100\n",
    "print(a,b)"
   ]
  },
  {
   "cell_type": "markdown",
   "metadata": {},
   "source": [
    "## l'instruction conditionnelle"
   ]
  },
  {
   "cell_type": "code",
   "execution_count": 9,
   "metadata": {},
   "outputs": [
    {
     "name": "stdout",
     "output_type": "stream",
     "text": [
      "17 Elève\n",
      "Working\n",
      "Retraite !\n"
     ]
    }
   ],
   "source": [
    "def occupation(age):\n",
    "    if (age < 18):\n",
    "        print(age, \"Elève\")\n",
    "    elif (age < 65):\n",
    "        print(age, \"Working\")\n",
    "    else:\n",
    "        print(age, \"Retraite !\")\n",
    "\n",
    "occupation(17)\n",
    "occupation(44)\n",
    "occupation(77)\n",
    "\n"
   ]
  },
  {
   "cell_type": "markdown",
   "metadata": {},
   "source": [
    "## Boucles"
   ]
  },
  {
   "cell_type": "markdown",
   "metadata": {},
   "source": [
    "### Iterations"
   ]
  },
  {
   "cell_type": "code",
   "execution_count": 14,
   "metadata": {},
   "outputs": [
    {
     "name": "stdout",
     "output_type": "stream",
     "text": [
      "10  \"e\" trouvés !\n",
      "10\n",
      "9\n",
      "8\n",
      "7\n",
      "6\n",
      "5\n",
      "4\n",
      "3\n",
      "2\n",
      "1\n",
      "boom\n"
     ]
    }
   ],
   "source": [
    "texte = \"Que j'aime à faire apprendre ce texte utile aux sages...\"\n",
    "compteur = 0\n",
    "for c in texte : \n",
    "    if(c == \"e\" or c == \"E\"):\n",
    "        compteur += 1\n",
    "print(compteur, \" \\\"e\\\" trouvés !\")\n",
    "\n",
    "for i in range(10, 0 , -1):\n",
    "    print(i)\n",
    "print(\"boom\")"
   ]
  },
  {
   "cell_type": "markdown",
   "metadata": {},
   "source": [
    "### Boucle conditionnelle"
   ]
  },
  {
   "cell_type": "code",
   "execution_count": 44,
   "metadata": {},
   "outputs": [
    {
     "name": "stdout",
     "output_type": "stream",
     "text": [
      "4\n",
      "Travaille plus !\n",
      "nouvelle note !  3\n",
      "Travaille plus !\n",
      "nouvelle note !  13\n",
      "Bravo, tu as désormais  13\n"
     ]
    }
   ],
   "source": [
    "import random\n",
    "\n",
    "\n",
    "note = 4\n",
    "print(note)\n",
    "while(note < 10):\n",
    "    print(\"Travaille plus !\")\n",
    "    note = note + random.randint(-1, 10)\n",
    "    print(\"nouvelle note ! \", note)\n",
    "print(\"Bravo, tu as désormais \", note)"
   ]
  },
  {
   "cell_type": "markdown",
   "metadata": {},
   "source": [
    "## Branchement (fonctions)"
   ]
  },
  {
   "cell_type": "code",
   "execution_count": 48,
   "metadata": {},
   "outputs": [
    {
     "name": "stdout",
     "output_type": "stream",
     "text": [
      "Bonjour Pedro\n",
      "C'est la dernière année de Lycée\n",
      "2020  quelle belle année pour passer le BAC\n"
     ]
    }
   ],
   "source": [
    "def salut(nom):\n",
    "    print(\"Bonjour\", nom)\n",
    "\n",
    "def attention():\n",
    "    print(\"C'est la dernière année de Lycée\")\n",
    "\n",
    "def encourage(annee):\n",
    "    print(annee, \" quelle belle année pour passer le BAC\")\n",
    "    \n",
    "def bonjour(nom, annee):\n",
    "    salut(nom)\n",
    "    attention()\n",
    "    encourage(annee)\n",
    "    \n",
    "bonjour(\"Pedro\", 2020)"
   ]
  },
  {
   "cell_type": "code",
   "execution_count": null,
   "metadata": {},
   "outputs": [],
   "source": []
  },
  {
   "cell_type": "code",
   "execution_count": null,
   "metadata": {},
   "outputs": [],
   "source": []
  }
 ],
 "metadata": {
  "kernelspec": {
   "display_name": "Python 3",
   "language": "python",
   "name": "python3"
  },
  "language_info": {
   "codemirror_mode": {
    "name": "ipython",
    "version": 3
   },
   "file_extension": ".py",
   "mimetype": "text/x-python",
   "name": "python",
   "nbconvert_exporter": "python",
   "pygments_lexer": "ipython3",
   "version": "3.7.4"
  }
 },
 "nbformat": 4,
 "nbformat_minor": 2
}
